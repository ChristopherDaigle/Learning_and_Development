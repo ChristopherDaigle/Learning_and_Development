{
 "cells": [
  {
   "cell_type": "code",
   "execution_count": 1,
   "metadata": {},
   "outputs": [],
   "source": [
    "import numpy as np"
   ]
  },
  {
   "cell_type": "code",
   "execution_count": 2,
   "metadata": {},
   "outputs": [],
   "source": [
    "from sklearn.datasets import load_iris"
   ]
  },
  {
   "cell_type": "code",
   "execution_count": 3,
   "metadata": {},
   "outputs": [],
   "source": [
    "iris = load_iris()"
   ]
  },
  {
   "cell_type": "code",
   "execution_count": 4,
   "metadata": {},
   "outputs": [
    {
     "data": {
      "text/plain": [
       "sklearn.utils.Bunch"
      ]
     },
     "execution_count": 4,
     "metadata": {},
     "output_type": "execute_result"
    }
   ],
   "source": [
    "type(iris)"
   ]
  },
  {
   "cell_type": "code",
   "execution_count": 6,
   "metadata": {
    "scrolled": true
   },
   "outputs": [
    {
     "name": "stdout",
     "output_type": "stream",
     "text": [
      ".. _iris_dataset:\n",
      "\n",
      "Iris plants dataset\n",
      "--------------------\n",
      "\n",
      "**Data Set Characteristics:**\n",
      "\n",
      "    :Number of Instances: 150 (50 in each of three classes)\n",
      "    :Number of Attributes: 4 numeric, predictive attributes and the class\n",
      "    :Attribute Information:\n",
      "        - sepal length in cm\n",
      "        - sepal width in cm\n",
      "        - petal length in cm\n",
      "        - petal width in cm\n",
      "        - class:\n",
      "                - Iris-Setosa\n",
      "                - Iris-Versicolour\n",
      "                - Iris-Virginica\n",
      "                \n",
      "    :Summary Statistics:\n",
      "\n",
      "    ============== ==== ==== ======= ===== ====================\n",
      "                    Min  Max   Mean    SD   Class Correlation\n",
      "    ============== ==== ==== ======= ===== ====================\n",
      "    sepal length:   4.3  7.9   5.84   0.83    0.7826\n",
      "    sepal width:    2.0  4.4   3.05   0.43   -0.4194\n",
      "    petal length:   1.0  6.9   3.76   1.76    0.9490  (high!)\n",
      "    petal width:    0.1  2.5   1.20   0.76    0.9565  (high!)\n",
      "    ============== ==== ==== ======= ===== ====================\n",
      "\n",
      "    :Missing Attribute Values: None\n",
      "    :Class Distribution: 33.3% for each of 3 classes.\n",
      "    :Creator: R.A. Fisher\n",
      "    :Donor: Michael Marshall (MARSHALL%PLU@io.arc.nasa.gov)\n",
      "    :Date: July, 1988\n",
      "\n",
      "The famous Iris database, first used by Sir R.A. Fisher. The dataset is taken\n",
      "from Fisher's paper. Note that it's the same as in R, but not as in the UCI\n",
      "Machine Learning Repository, which has two wrong data points.\n",
      "\n",
      "This is perhaps the best known database to be found in the\n",
      "pattern recognition literature.  Fisher's paper is a classic in the field and\n",
      "is referenced frequently to this day.  (See Duda & Hart, for example.)  The\n",
      "data set contains 3 classes of 50 instances each, where each class refers to a\n",
      "type of iris plant.  One class is linearly separable from the other 2; the\n",
      "latter are NOT linearly separable from each other.\n",
      "\n",
      ".. topic:: References\n",
      "\n",
      "   - Fisher, R.A. \"The use of multiple measurements in taxonomic problems\"\n",
      "     Annual Eugenics, 7, Part II, 179-188 (1936); also in \"Contributions to\n",
      "     Mathematical Statistics\" (John Wiley, NY, 1950).\n",
      "   - Duda, R.O., & Hart, P.E. (1973) Pattern Classification and Scene Analysis.\n",
      "     (Q327.D83) John Wiley & Sons.  ISBN 0-471-22361-1.  See page 218.\n",
      "   - Dasarathy, B.V. (1980) \"Nosing Around the Neighborhood: A New System\n",
      "     Structure and Classification Rule for Recognition in Partially Exposed\n",
      "     Environments\".  IEEE Transactions on Pattern Analysis and Machine\n",
      "     Intelligence, Vol. PAMI-2, No. 1, 67-71.\n",
      "   - Gates, G.W. (1972) \"The Reduced Nearest Neighbor Rule\".  IEEE Transactions\n",
      "     on Information Theory, May 1972, 431-433.\n",
      "   - See also: 1988 MLC Proceedings, 54-64.  Cheeseman et al\"s AUTOCLASS II\n",
      "     conceptual clustering system finds 3 classes in the data.\n",
      "   - Many, many more ...\n"
     ]
    }
   ],
   "source": [
    "print(iris.DESCR)"
   ]
  },
  {
   "cell_type": "code",
   "execution_count": 7,
   "metadata": {},
   "outputs": [
    {
     "data": {
      "text/plain": [
       "array([[5.1, 3.5, 1.4, 0.2],\n",
       "       [4.9, 3. , 1.4, 0.2],\n",
       "       [4.7, 3.2, 1.3, 0.2],\n",
       "       [4.6, 3.1, 1.5, 0.2],\n",
       "       [5. , 3.6, 1.4, 0.2],\n",
       "       [5.4, 3.9, 1.7, 0.4],\n",
       "       [4.6, 3.4, 1.4, 0.3],\n",
       "       [5. , 3.4, 1.5, 0.2],\n",
       "       [4.4, 2.9, 1.4, 0.2],\n",
       "       [4.9, 3.1, 1.5, 0.1],\n",
       "       [5.4, 3.7, 1.5, 0.2],\n",
       "       [4.8, 3.4, 1.6, 0.2],\n",
       "       [4.8, 3. , 1.4, 0.1],\n",
       "       [4.3, 3. , 1.1, 0.1],\n",
       "       [5.8, 4. , 1.2, 0.2],\n",
       "       [5.7, 4.4, 1.5, 0.4],\n",
       "       [5.4, 3.9, 1.3, 0.4],\n",
       "       [5.1, 3.5, 1.4, 0.3],\n",
       "       [5.7, 3.8, 1.7, 0.3],\n",
       "       [5.1, 3.8, 1.5, 0.3],\n",
       "       [5.4, 3.4, 1.7, 0.2],\n",
       "       [5.1, 3.7, 1.5, 0.4],\n",
       "       [4.6, 3.6, 1. , 0.2],\n",
       "       [5.1, 3.3, 1.7, 0.5],\n",
       "       [4.8, 3.4, 1.9, 0.2],\n",
       "       [5. , 3. , 1.6, 0.2],\n",
       "       [5. , 3.4, 1.6, 0.4],\n",
       "       [5.2, 3.5, 1.5, 0.2],\n",
       "       [5.2, 3.4, 1.4, 0.2],\n",
       "       [4.7, 3.2, 1.6, 0.2],\n",
       "       [4.8, 3.1, 1.6, 0.2],\n",
       "       [5.4, 3.4, 1.5, 0.4],\n",
       "       [5.2, 4.1, 1.5, 0.1],\n",
       "       [5.5, 4.2, 1.4, 0.2],\n",
       "       [4.9, 3.1, 1.5, 0.2],\n",
       "       [5. , 3.2, 1.2, 0.2],\n",
       "       [5.5, 3.5, 1.3, 0.2],\n",
       "       [4.9, 3.6, 1.4, 0.1],\n",
       "       [4.4, 3. , 1.3, 0.2],\n",
       "       [5.1, 3.4, 1.5, 0.2],\n",
       "       [5. , 3.5, 1.3, 0.3],\n",
       "       [4.5, 2.3, 1.3, 0.3],\n",
       "       [4.4, 3.2, 1.3, 0.2],\n",
       "       [5. , 3.5, 1.6, 0.6],\n",
       "       [5.1, 3.8, 1.9, 0.4],\n",
       "       [4.8, 3. , 1.4, 0.3],\n",
       "       [5.1, 3.8, 1.6, 0.2],\n",
       "       [4.6, 3.2, 1.4, 0.2],\n",
       "       [5.3, 3.7, 1.5, 0.2],\n",
       "       [5. , 3.3, 1.4, 0.2],\n",
       "       [7. , 3.2, 4.7, 1.4],\n",
       "       [6.4, 3.2, 4.5, 1.5],\n",
       "       [6.9, 3.1, 4.9, 1.5],\n",
       "       [5.5, 2.3, 4. , 1.3],\n",
       "       [6.5, 2.8, 4.6, 1.5],\n",
       "       [5.7, 2.8, 4.5, 1.3],\n",
       "       [6.3, 3.3, 4.7, 1.6],\n",
       "       [4.9, 2.4, 3.3, 1. ],\n",
       "       [6.6, 2.9, 4.6, 1.3],\n",
       "       [5.2, 2.7, 3.9, 1.4],\n",
       "       [5. , 2. , 3.5, 1. ],\n",
       "       [5.9, 3. , 4.2, 1.5],\n",
       "       [6. , 2.2, 4. , 1. ],\n",
       "       [6.1, 2.9, 4.7, 1.4],\n",
       "       [5.6, 2.9, 3.6, 1.3],\n",
       "       [6.7, 3.1, 4.4, 1.4],\n",
       "       [5.6, 3. , 4.5, 1.5],\n",
       "       [5.8, 2.7, 4.1, 1. ],\n",
       "       [6.2, 2.2, 4.5, 1.5],\n",
       "       [5.6, 2.5, 3.9, 1.1],\n",
       "       [5.9, 3.2, 4.8, 1.8],\n",
       "       [6.1, 2.8, 4. , 1.3],\n",
       "       [6.3, 2.5, 4.9, 1.5],\n",
       "       [6.1, 2.8, 4.7, 1.2],\n",
       "       [6.4, 2.9, 4.3, 1.3],\n",
       "       [6.6, 3. , 4.4, 1.4],\n",
       "       [6.8, 2.8, 4.8, 1.4],\n",
       "       [6.7, 3. , 5. , 1.7],\n",
       "       [6. , 2.9, 4.5, 1.5],\n",
       "       [5.7, 2.6, 3.5, 1. ],\n",
       "       [5.5, 2.4, 3.8, 1.1],\n",
       "       [5.5, 2.4, 3.7, 1. ],\n",
       "       [5.8, 2.7, 3.9, 1.2],\n",
       "       [6. , 2.7, 5.1, 1.6],\n",
       "       [5.4, 3. , 4.5, 1.5],\n",
       "       [6. , 3.4, 4.5, 1.6],\n",
       "       [6.7, 3.1, 4.7, 1.5],\n",
       "       [6.3, 2.3, 4.4, 1.3],\n",
       "       [5.6, 3. , 4.1, 1.3],\n",
       "       [5.5, 2.5, 4. , 1.3],\n",
       "       [5.5, 2.6, 4.4, 1.2],\n",
       "       [6.1, 3. , 4.6, 1.4],\n",
       "       [5.8, 2.6, 4. , 1.2],\n",
       "       [5. , 2.3, 3.3, 1. ],\n",
       "       [5.6, 2.7, 4.2, 1.3],\n",
       "       [5.7, 3. , 4.2, 1.2],\n",
       "       [5.7, 2.9, 4.2, 1.3],\n",
       "       [6.2, 2.9, 4.3, 1.3],\n",
       "       [5.1, 2.5, 3. , 1.1],\n",
       "       [5.7, 2.8, 4.1, 1.3],\n",
       "       [6.3, 3.3, 6. , 2.5],\n",
       "       [5.8, 2.7, 5.1, 1.9],\n",
       "       [7.1, 3. , 5.9, 2.1],\n",
       "       [6.3, 2.9, 5.6, 1.8],\n",
       "       [6.5, 3. , 5.8, 2.2],\n",
       "       [7.6, 3. , 6.6, 2.1],\n",
       "       [4.9, 2.5, 4.5, 1.7],\n",
       "       [7.3, 2.9, 6.3, 1.8],\n",
       "       [6.7, 2.5, 5.8, 1.8],\n",
       "       [7.2, 3.6, 6.1, 2.5],\n",
       "       [6.5, 3.2, 5.1, 2. ],\n",
       "       [6.4, 2.7, 5.3, 1.9],\n",
       "       [6.8, 3. , 5.5, 2.1],\n",
       "       [5.7, 2.5, 5. , 2. ],\n",
       "       [5.8, 2.8, 5.1, 2.4],\n",
       "       [6.4, 3.2, 5.3, 2.3],\n",
       "       [6.5, 3. , 5.5, 1.8],\n",
       "       [7.7, 3.8, 6.7, 2.2],\n",
       "       [7.7, 2.6, 6.9, 2.3],\n",
       "       [6. , 2.2, 5. , 1.5],\n",
       "       [6.9, 3.2, 5.7, 2.3],\n",
       "       [5.6, 2.8, 4.9, 2. ],\n",
       "       [7.7, 2.8, 6.7, 2. ],\n",
       "       [6.3, 2.7, 4.9, 1.8],\n",
       "       [6.7, 3.3, 5.7, 2.1],\n",
       "       [7.2, 3.2, 6. , 1.8],\n",
       "       [6.2, 2.8, 4.8, 1.8],\n",
       "       [6.1, 3. , 4.9, 1.8],\n",
       "       [6.4, 2.8, 5.6, 2.1],\n",
       "       [7.2, 3. , 5.8, 1.6],\n",
       "       [7.4, 2.8, 6.1, 1.9],\n",
       "       [7.9, 3.8, 6.4, 2. ],\n",
       "       [6.4, 2.8, 5.6, 2.2],\n",
       "       [6.3, 2.8, 5.1, 1.5],\n",
       "       [6.1, 2.6, 5.6, 1.4],\n",
       "       [7.7, 3. , 6.1, 2.3],\n",
       "       [6.3, 3.4, 5.6, 2.4],\n",
       "       [6.4, 3.1, 5.5, 1.8],\n",
       "       [6. , 3. , 4.8, 1.8],\n",
       "       [6.9, 3.1, 5.4, 2.1],\n",
       "       [6.7, 3.1, 5.6, 2.4],\n",
       "       [6.9, 3.1, 5.1, 2.3],\n",
       "       [5.8, 2.7, 5.1, 1.9],\n",
       "       [6.8, 3.2, 5.9, 2.3],\n",
       "       [6.7, 3.3, 5.7, 2.5],\n",
       "       [6.7, 3. , 5.2, 2.3],\n",
       "       [6.3, 2.5, 5. , 1.9],\n",
       "       [6.5, 3. , 5.2, 2. ],\n",
       "       [6.2, 3.4, 5.4, 2.3],\n",
       "       [5.9, 3. , 5.1, 1.8]])"
      ]
     },
     "execution_count": 7,
     "metadata": {},
     "output_type": "execute_result"
    }
   ],
   "source": [
    "X = iris.data\n",
    "X"
   ]
  },
  {
   "cell_type": "code",
   "execution_count": 8,
   "metadata": {},
   "outputs": [
    {
     "data": {
      "text/plain": [
       "array([0, 0, 0, 0, 0, 0, 0, 0, 0, 0, 0, 0, 0, 0, 0, 0, 0, 0, 0, 0, 0, 0,\n",
       "       0, 0, 0, 0, 0, 0, 0, 0, 0, 0, 0, 0, 0, 0, 0, 0, 0, 0, 0, 0, 0, 0,\n",
       "       0, 0, 0, 0, 0, 0, 1, 1, 1, 1, 1, 1, 1, 1, 1, 1, 1, 1, 1, 1, 1, 1,\n",
       "       1, 1, 1, 1, 1, 1, 1, 1, 1, 1, 1, 1, 1, 1, 1, 1, 1, 1, 1, 1, 1, 1,\n",
       "       1, 1, 1, 1, 1, 1, 1, 1, 1, 1, 1, 1, 2, 2, 2, 2, 2, 2, 2, 2, 2, 2,\n",
       "       2, 2, 2, 2, 2, 2, 2, 2, 2, 2, 2, 2, 2, 2, 2, 2, 2, 2, 2, 2, 2, 2,\n",
       "       2, 2, 2, 2, 2, 2, 2, 2, 2, 2, 2, 2, 2, 2, 2, 2, 2, 2])"
      ]
     },
     "execution_count": 8,
     "metadata": {},
     "output_type": "execute_result"
    }
   ],
   "source": [
    "y = iris.target\n",
    "y"
   ]
  },
  {
   "cell_type": "code",
   "execution_count": 10,
   "metadata": {},
   "outputs": [],
   "source": [
    "# Want to use one-hot-encoding to use in Keras\n",
    "# Class_0 --> [1,0,0]\n",
    "# Class_1 --> [0,1,0]\n",
    "# Class_2 --> [0,0,1]"
   ]
  },
  {
   "cell_type": "code",
   "execution_count": 11,
   "metadata": {},
   "outputs": [],
   "source": [
    "from keras.utils import to_categorical"
   ]
  },
  {
   "cell_type": "code",
   "execution_count": 12,
   "metadata": {},
   "outputs": [
    {
     "data": {
      "text/plain": [
       "(150, 3)"
      ]
     },
     "execution_count": 12,
     "metadata": {},
     "output_type": "execute_result"
    }
   ],
   "source": [
    "y = to_categorical(y)\n",
    "y.shape"
   ]
  },
  {
   "cell_type": "code",
   "execution_count": 13,
   "metadata": {
    "scrolled": true
   },
   "outputs": [
    {
     "data": {
      "text/plain": [
       "array([[1., 0., 0.],\n",
       "       [1., 0., 0.],\n",
       "       [1., 0., 0.],\n",
       "       [1., 0., 0.],\n",
       "       [1., 0., 0.],\n",
       "       [1., 0., 0.],\n",
       "       [1., 0., 0.],\n",
       "       [1., 0., 0.],\n",
       "       [1., 0., 0.],\n",
       "       [1., 0., 0.],\n",
       "       [1., 0., 0.],\n",
       "       [1., 0., 0.],\n",
       "       [1., 0., 0.],\n",
       "       [1., 0., 0.],\n",
       "       [1., 0., 0.],\n",
       "       [1., 0., 0.],\n",
       "       [1., 0., 0.],\n",
       "       [1., 0., 0.],\n",
       "       [1., 0., 0.],\n",
       "       [1., 0., 0.],\n",
       "       [1., 0., 0.],\n",
       "       [1., 0., 0.],\n",
       "       [1., 0., 0.],\n",
       "       [1., 0., 0.],\n",
       "       [1., 0., 0.],\n",
       "       [1., 0., 0.],\n",
       "       [1., 0., 0.],\n",
       "       [1., 0., 0.],\n",
       "       [1., 0., 0.],\n",
       "       [1., 0., 0.],\n",
       "       [1., 0., 0.],\n",
       "       [1., 0., 0.],\n",
       "       [1., 0., 0.],\n",
       "       [1., 0., 0.],\n",
       "       [1., 0., 0.],\n",
       "       [1., 0., 0.],\n",
       "       [1., 0., 0.],\n",
       "       [1., 0., 0.],\n",
       "       [1., 0., 0.],\n",
       "       [1., 0., 0.],\n",
       "       [1., 0., 0.],\n",
       "       [1., 0., 0.],\n",
       "       [1., 0., 0.],\n",
       "       [1., 0., 0.],\n",
       "       [1., 0., 0.],\n",
       "       [1., 0., 0.],\n",
       "       [1., 0., 0.],\n",
       "       [1., 0., 0.],\n",
       "       [1., 0., 0.],\n",
       "       [1., 0., 0.],\n",
       "       [0., 1., 0.],\n",
       "       [0., 1., 0.],\n",
       "       [0., 1., 0.],\n",
       "       [0., 1., 0.],\n",
       "       [0., 1., 0.],\n",
       "       [0., 1., 0.],\n",
       "       [0., 1., 0.],\n",
       "       [0., 1., 0.],\n",
       "       [0., 1., 0.],\n",
       "       [0., 1., 0.],\n",
       "       [0., 1., 0.],\n",
       "       [0., 1., 0.],\n",
       "       [0., 1., 0.],\n",
       "       [0., 1., 0.],\n",
       "       [0., 1., 0.],\n",
       "       [0., 1., 0.],\n",
       "       [0., 1., 0.],\n",
       "       [0., 1., 0.],\n",
       "       [0., 1., 0.],\n",
       "       [0., 1., 0.],\n",
       "       [0., 1., 0.],\n",
       "       [0., 1., 0.],\n",
       "       [0., 1., 0.],\n",
       "       [0., 1., 0.],\n",
       "       [0., 1., 0.],\n",
       "       [0., 1., 0.],\n",
       "       [0., 1., 0.],\n",
       "       [0., 1., 0.],\n",
       "       [0., 1., 0.],\n",
       "       [0., 1., 0.],\n",
       "       [0., 1., 0.],\n",
       "       [0., 1., 0.],\n",
       "       [0., 1., 0.],\n",
       "       [0., 1., 0.],\n",
       "       [0., 1., 0.],\n",
       "       [0., 1., 0.],\n",
       "       [0., 1., 0.],\n",
       "       [0., 1., 0.],\n",
       "       [0., 1., 0.],\n",
       "       [0., 1., 0.],\n",
       "       [0., 1., 0.],\n",
       "       [0., 1., 0.],\n",
       "       [0., 1., 0.],\n",
       "       [0., 1., 0.],\n",
       "       [0., 1., 0.],\n",
       "       [0., 1., 0.],\n",
       "       [0., 1., 0.],\n",
       "       [0., 1., 0.],\n",
       "       [0., 1., 0.],\n",
       "       [0., 1., 0.],\n",
       "       [0., 0., 1.],\n",
       "       [0., 0., 1.],\n",
       "       [0., 0., 1.],\n",
       "       [0., 0., 1.],\n",
       "       [0., 0., 1.],\n",
       "       [0., 0., 1.],\n",
       "       [0., 0., 1.],\n",
       "       [0., 0., 1.],\n",
       "       [0., 0., 1.],\n",
       "       [0., 0., 1.],\n",
       "       [0., 0., 1.],\n",
       "       [0., 0., 1.],\n",
       "       [0., 0., 1.],\n",
       "       [0., 0., 1.],\n",
       "       [0., 0., 1.],\n",
       "       [0., 0., 1.],\n",
       "       [0., 0., 1.],\n",
       "       [0., 0., 1.],\n",
       "       [0., 0., 1.],\n",
       "       [0., 0., 1.],\n",
       "       [0., 0., 1.],\n",
       "       [0., 0., 1.],\n",
       "       [0., 0., 1.],\n",
       "       [0., 0., 1.],\n",
       "       [0., 0., 1.],\n",
       "       [0., 0., 1.],\n",
       "       [0., 0., 1.],\n",
       "       [0., 0., 1.],\n",
       "       [0., 0., 1.],\n",
       "       [0., 0., 1.],\n",
       "       [0., 0., 1.],\n",
       "       [0., 0., 1.],\n",
       "       [0., 0., 1.],\n",
       "       [0., 0., 1.],\n",
       "       [0., 0., 1.],\n",
       "       [0., 0., 1.],\n",
       "       [0., 0., 1.],\n",
       "       [0., 0., 1.],\n",
       "       [0., 0., 1.],\n",
       "       [0., 0., 1.],\n",
       "       [0., 0., 1.],\n",
       "       [0., 0., 1.],\n",
       "       [0., 0., 1.],\n",
       "       [0., 0., 1.],\n",
       "       [0., 0., 1.],\n",
       "       [0., 0., 1.],\n",
       "       [0., 0., 1.],\n",
       "       [0., 0., 1.],\n",
       "       [0., 0., 1.],\n",
       "       [0., 0., 1.]], dtype=float32)"
      ]
     },
     "execution_count": 13,
     "metadata": {},
     "output_type": "execute_result"
    }
   ],
   "source": [
    "y"
   ]
  },
  {
   "cell_type": "code",
   "execution_count": 14,
   "metadata": {},
   "outputs": [],
   "source": [
    "from sklearn.model_selection import train_test_split"
   ]
  },
  {
   "cell_type": "code",
   "execution_count": 15,
   "metadata": {},
   "outputs": [],
   "source": [
    "X_train, X_test, y_train, y_test = train_test_split(X, y, test_size=0.33, random_state=42)"
   ]
  },
  {
   "cell_type": "code",
   "execution_count": 16,
   "metadata": {},
   "outputs": [],
   "source": [
    "# Standardize data"
   ]
  },
  {
   "cell_type": "code",
   "execution_count": 17,
   "metadata": {},
   "outputs": [],
   "source": [
    "from sklearn.preprocessing import MinMaxScaler"
   ]
  },
  {
   "cell_type": "code",
   "execution_count": 18,
   "metadata": {},
   "outputs": [
    {
     "data": {
      "text/plain": [
       "array([0.25, 0.5 , 0.75, 1.  ])"
      ]
     },
     "execution_count": 18,
     "metadata": {},
     "output_type": "execute_result"
    }
   ],
   "source": [
    "# np.array([5,10,15,20])/20"
   ]
  },
  {
   "cell_type": "code",
   "execution_count": 19,
   "metadata": {},
   "outputs": [],
   "source": [
    "scaler_obj = MinMaxScaler()"
   ]
  },
  {
   "cell_type": "code",
   "execution_count": 20,
   "metadata": {},
   "outputs": [
    {
     "data": {
      "text/plain": [
       "MinMaxScaler(copy=True, feature_range=(0, 1))"
      ]
     },
     "execution_count": 20,
     "metadata": {},
     "output_type": "execute_result"
    }
   ],
   "source": [
    "# Only fit to the training features\n",
    "scaler_obj.fit(X_train)"
   ]
  },
  {
   "cell_type": "code",
   "execution_count": 21,
   "metadata": {},
   "outputs": [],
   "source": [
    "scaled_X_train = scaler_obj.transform(X_train)\n",
    "scaled_X_test = scaler_obj.transform(X_test)"
   ]
  },
  {
   "cell_type": "code",
   "execution_count": 22,
   "metadata": {},
   "outputs": [],
   "source": [
    "from keras.models import Sequential\n",
    "from keras.layers import Dense"
   ]
  },
  {
   "cell_type": "code",
   "execution_count": 25,
   "metadata": {},
   "outputs": [],
   "source": [
    "model = Sequential()\n",
    "model.add(Dense(units=8, input_dim=4, activation='relu'))\n",
    "model.add(Dense(units=8, input_dim=4, activation='relu'))\n",
    "model.add(Dense(units=3, activation='softmax'))\n",
    "model.compile(loss='categorical_crossentropy',optimizer='adam',metrics=['accuracy'])"
   ]
  },
  {
   "cell_type": "code",
   "execution_count": 26,
   "metadata": {},
   "outputs": [
    {
     "name": "stdout",
     "output_type": "stream",
     "text": [
      "_________________________________________________________________\n",
      "Layer (type)                 Output Shape              Param #   \n",
      "=================================================================\n",
      "dense_7 (Dense)              (None, 8)                 40        \n",
      "_________________________________________________________________\n",
      "dense_8 (Dense)              (None, 8)                 72        \n",
      "_________________________________________________________________\n",
      "dense_9 (Dense)              (None, 3)                 27        \n",
      "=================================================================\n",
      "Total params: 139\n",
      "Trainable params: 139\n",
      "Non-trainable params: 0\n",
      "_________________________________________________________________\n"
     ]
    }
   ],
   "source": [
    "model.summary()"
   ]
  },
  {
   "cell_type": "code",
   "execution_count": 27,
   "metadata": {},
   "outputs": [
    {
     "name": "stdout",
     "output_type": "stream",
     "text": [
      "WARNING:tensorflow:From /Users/mbair/anaconda3/envs/nlp_course/lib/python3.7/site-packages/tensorflow/python/ops/math_ops.py:3066: to_int32 (from tensorflow.python.ops.math_ops) is deprecated and will be removed in a future version.\n",
      "Instructions for updating:\n",
      "Use tf.cast instead.\n",
      "Epoch 1/150\n",
      " - 2s - loss: 1.2513 - acc: 0.3100\n",
      "Epoch 2/150\n",
      " - 0s - loss: 1.2316 - acc: 0.3100\n",
      "Epoch 3/150\n",
      " - 0s - loss: 1.2108 - acc: 0.3100\n",
      "Epoch 4/150\n",
      " - 0s - loss: 1.1914 - acc: 0.3000\n",
      "Epoch 5/150\n",
      " - 0s - loss: 1.1726 - acc: 0.3000\n",
      "Epoch 6/150\n",
      " - 0s - loss: 1.1540 - acc: 0.3000\n",
      "Epoch 7/150\n",
      " - 0s - loss: 1.1365 - acc: 0.3100\n",
      "Epoch 8/150\n",
      " - 0s - loss: 1.1197 - acc: 0.3100\n",
      "Epoch 9/150\n",
      " - 0s - loss: 1.1027 - acc: 0.5300\n",
      "Epoch 10/150\n",
      " - 0s - loss: 1.0862 - acc: 0.6300\n",
      "Epoch 11/150\n",
      " - 0s - loss: 1.0710 - acc: 0.6400\n",
      "Epoch 12/150\n",
      " - 0s - loss: 1.0558 - acc: 0.6400\n",
      "Epoch 13/150\n",
      " - 0s - loss: 1.0417 - acc: 0.6400\n",
      "Epoch 14/150\n",
      " - 0s - loss: 1.0279 - acc: 0.6400\n",
      "Epoch 15/150\n",
      " - 0s - loss: 1.0147 - acc: 0.6400\n",
      "Epoch 16/150\n",
      " - 0s - loss: 1.0014 - acc: 0.6400\n",
      "Epoch 17/150\n",
      " - 0s - loss: 0.9888 - acc: 0.6400\n",
      "Epoch 18/150\n",
      " - 0s - loss: 0.9763 - acc: 0.6500\n",
      "Epoch 19/150\n",
      " - 0s - loss: 0.9639 - acc: 0.6500\n",
      "Epoch 20/150\n",
      " - 0s - loss: 0.9517 - acc: 0.6500\n",
      "Epoch 21/150\n",
      " - 0s - loss: 0.9395 - acc: 0.6500\n",
      "Epoch 22/150\n",
      " - 0s - loss: 0.9270 - acc: 0.6500\n",
      "Epoch 23/150\n",
      " - 0s - loss: 0.9149 - acc: 0.6500\n",
      "Epoch 24/150\n",
      " - 0s - loss: 0.9028 - acc: 0.6500\n",
      "Epoch 25/150\n",
      " - 0s - loss: 0.8913 - acc: 0.6500\n",
      "Epoch 26/150\n",
      " - 0s - loss: 0.8802 - acc: 0.6500\n",
      "Epoch 27/150\n",
      " - 0s - loss: 0.8696 - acc: 0.6700\n",
      "Epoch 28/150\n",
      " - 0s - loss: 0.8585 - acc: 0.6800\n",
      "Epoch 29/150\n",
      " - 0s - loss: 0.8479 - acc: 0.6800\n",
      "Epoch 30/150\n",
      " - 0s - loss: 0.8372 - acc: 0.6800\n",
      "Epoch 31/150\n",
      " - 0s - loss: 0.8268 - acc: 0.6800\n",
      "Epoch 32/150\n",
      " - 0s - loss: 0.8169 - acc: 0.6800\n",
      "Epoch 33/150\n",
      " - 0s - loss: 0.8067 - acc: 0.6800\n",
      "Epoch 34/150\n",
      " - 0s - loss: 0.7964 - acc: 0.6900\n",
      "Epoch 35/150\n",
      " - 0s - loss: 0.7869 - acc: 0.6900\n",
      "Epoch 36/150\n",
      " - 0s - loss: 0.7768 - acc: 0.6900\n",
      "Epoch 37/150\n",
      " - 0s - loss: 0.7676 - acc: 0.6900\n",
      "Epoch 38/150\n",
      " - 0s - loss: 0.7584 - acc: 0.6800\n",
      "Epoch 39/150\n",
      " - 0s - loss: 0.7493 - acc: 0.6800\n",
      "Epoch 40/150\n",
      " - 0s - loss: 0.7404 - acc: 0.6800\n",
      "Epoch 41/150\n",
      " - 0s - loss: 0.7315 - acc: 0.6800\n",
      "Epoch 42/150\n",
      " - 0s - loss: 0.7228 - acc: 0.6800\n",
      "Epoch 43/150\n",
      " - 0s - loss: 0.7143 - acc: 0.6800\n",
      "Epoch 44/150\n",
      " - 0s - loss: 0.7062 - acc: 0.6800\n",
      "Epoch 45/150\n",
      " - 0s - loss: 0.6980 - acc: 0.6800\n",
      "Epoch 46/150\n",
      " - 0s - loss: 0.6900 - acc: 0.6800\n",
      "Epoch 47/150\n",
      " - 0s - loss: 0.6822 - acc: 0.6800\n",
      "Epoch 48/150\n",
      " - 0s - loss: 0.6742 - acc: 0.6900\n",
      "Epoch 49/150\n",
      " - 0s - loss: 0.6677 - acc: 0.7000\n",
      "Epoch 50/150\n",
      " - 0s - loss: 0.6595 - acc: 0.7100\n",
      "Epoch 51/150\n",
      " - 0s - loss: 0.6525 - acc: 0.7500\n",
      "Epoch 52/150\n",
      " - 0s - loss: 0.6455 - acc: 0.7800\n",
      "Epoch 53/150\n",
      " - 0s - loss: 0.6382 - acc: 0.7800\n",
      "Epoch 54/150\n",
      " - 0s - loss: 0.6320 - acc: 0.7900\n",
      "Epoch 55/150\n",
      " - 0s - loss: 0.6258 - acc: 0.8200\n",
      "Epoch 56/150\n",
      " - 0s - loss: 0.6197 - acc: 0.8300\n",
      "Epoch 57/150\n",
      " - 0s - loss: 0.6136 - acc: 0.8500\n",
      "Epoch 58/150\n",
      " - 0s - loss: 0.6074 - acc: 0.8400\n",
      "Epoch 59/150\n",
      " - 0s - loss: 0.6015 - acc: 0.8100\n",
      "Epoch 60/150\n",
      " - 0s - loss: 0.5958 - acc: 0.8000\n",
      "Epoch 61/150\n",
      " - 0s - loss: 0.5904 - acc: 0.7900\n",
      "Epoch 62/150\n",
      " - 0s - loss: 0.5851 - acc: 0.7400\n",
      "Epoch 63/150\n",
      " - 0s - loss: 0.5804 - acc: 0.7200\n",
      "Epoch 64/150\n",
      " - 0s - loss: 0.5754 - acc: 0.7200\n",
      "Epoch 65/150\n",
      " - 0s - loss: 0.5706 - acc: 0.7200\n",
      "Epoch 66/150\n",
      " - 0s - loss: 0.5662 - acc: 0.7200\n",
      "Epoch 67/150\n",
      " - 0s - loss: 0.5616 - acc: 0.7200\n",
      "Epoch 68/150\n",
      " - 0s - loss: 0.5570 - acc: 0.7200\n",
      "Epoch 69/150\n",
      " - 0s - loss: 0.5528 - acc: 0.7200\n",
      "Epoch 70/150\n",
      " - 0s - loss: 0.5484 - acc: 0.7200\n",
      "Epoch 71/150\n",
      " - 0s - loss: 0.5447 - acc: 0.7200\n",
      "Epoch 72/150\n",
      " - 0s - loss: 0.5409 - acc: 0.7100\n",
      "Epoch 73/150\n",
      " - 0s - loss: 0.5368 - acc: 0.7200\n",
      "Epoch 74/150\n",
      " - 0s - loss: 0.5332 - acc: 0.7200\n",
      "Epoch 75/150\n",
      " - 0s - loss: 0.5291 - acc: 0.7300\n",
      "Epoch 76/150\n",
      " - 0s - loss: 0.5257 - acc: 0.7700\n",
      "Epoch 77/150\n",
      " - 0s - loss: 0.5222 - acc: 0.8100\n",
      "Epoch 78/150\n",
      " - 0s - loss: 0.5184 - acc: 0.8200\n",
      "Epoch 79/150\n",
      " - 0s - loss: 0.5156 - acc: 0.8600\n",
      "Epoch 80/150\n",
      " - 0s - loss: 0.5123 - acc: 0.8600\n",
      "Epoch 81/150\n",
      " - 0s - loss: 0.5094 - acc: 0.8600\n",
      "Epoch 82/150\n",
      " - 0s - loss: 0.5063 - acc: 0.8700\n",
      "Epoch 83/150\n",
      " - 0s - loss: 0.5029 - acc: 0.8600\n",
      "Epoch 84/150\n",
      " - 0s - loss: 0.5001 - acc: 0.8300\n",
      "Epoch 85/150\n",
      " - 0s - loss: 0.4970 - acc: 0.8300\n",
      "Epoch 86/150\n",
      " - 0s - loss: 0.4942 - acc: 0.8200\n",
      "Epoch 87/150\n",
      " - 0s - loss: 0.4915 - acc: 0.8200\n",
      "Epoch 88/150\n",
      " - 0s - loss: 0.4889 - acc: 0.8200\n",
      "Epoch 89/150\n",
      " - 0s - loss: 0.4859 - acc: 0.8200\n",
      "Epoch 90/150\n",
      " - 0s - loss: 0.4834 - acc: 0.8400\n",
      "Epoch 91/150\n",
      " - 0s - loss: 0.4805 - acc: 0.8500\n",
      "Epoch 92/150\n",
      " - 0s - loss: 0.4780 - acc: 0.8600\n",
      "Epoch 93/150\n",
      " - 0s - loss: 0.4754 - acc: 0.8500\n",
      "Epoch 94/150\n",
      " - 0s - loss: 0.4727 - acc: 0.8500\n",
      "Epoch 95/150\n",
      " - 0s - loss: 0.4701 - acc: 0.8500\n",
      "Epoch 96/150\n",
      " - 0s - loss: 0.4679 - acc: 0.8600\n",
      "Epoch 97/150\n",
      " - 0s - loss: 0.4655 - acc: 0.8600\n",
      "Epoch 98/150\n",
      " - 0s - loss: 0.4632 - acc: 0.8600\n",
      "Epoch 99/150\n",
      " - 0s - loss: 0.4609 - acc: 0.8600\n",
      "Epoch 100/150\n",
      " - 0s - loss: 0.4584 - acc: 0.8600\n",
      "Epoch 101/150\n",
      " - 0s - loss: 0.4562 - acc: 0.8600\n",
      "Epoch 102/150\n",
      " - 0s - loss: 0.4538 - acc: 0.8600\n",
      "Epoch 103/150\n",
      " - 0s - loss: 0.4515 - acc: 0.8700\n",
      "Epoch 104/150\n",
      " - 0s - loss: 0.4492 - acc: 0.8700\n",
      "Epoch 105/150\n",
      " - 0s - loss: 0.4469 - acc: 0.8700\n",
      "Epoch 106/150\n",
      " - 0s - loss: 0.4445 - acc: 0.8900\n",
      "Epoch 107/150\n",
      " - 0s - loss: 0.4425 - acc: 0.8900\n",
      "Epoch 108/150\n",
      " - 0s - loss: 0.4401 - acc: 0.8900\n",
      "Epoch 109/150\n",
      " - 0s - loss: 0.4378 - acc: 0.8800\n",
      "Epoch 110/150\n",
      " - 0s - loss: 0.4359 - acc: 0.8700\n",
      "Epoch 111/150\n",
      " - 0s - loss: 0.4338 - acc: 0.8700\n",
      "Epoch 112/150\n",
      " - 0s - loss: 0.4316 - acc: 0.8700\n",
      "Epoch 113/150\n",
      " - 0s - loss: 0.4292 - acc: 0.8900\n",
      "Epoch 114/150\n",
      " - 0s - loss: 0.4271 - acc: 0.8900\n",
      "Epoch 115/150\n",
      " - 0s - loss: 0.4248 - acc: 0.8900\n",
      "Epoch 116/150\n",
      " - 0s - loss: 0.4234 - acc: 0.9100\n",
      "Epoch 117/150\n",
      " - 0s - loss: 0.4212 - acc: 0.9100\n",
      "Epoch 118/150\n",
      " - 0s - loss: 0.4191 - acc: 0.9100\n",
      "Epoch 119/150\n",
      " - 0s - loss: 0.4168 - acc: 0.9100\n",
      "Epoch 120/150\n",
      " - 0s - loss: 0.4144 - acc: 0.8900\n",
      "Epoch 121/150\n",
      " - 0s - loss: 0.4129 - acc: 0.8700\n",
      "Epoch 122/150\n",
      " - 0s - loss: 0.4132 - acc: 0.8500\n",
      "Epoch 123/150\n",
      " - 0s - loss: 0.4125 - acc: 0.8500\n",
      "Epoch 124/150\n",
      " - 0s - loss: 0.4118 - acc: 0.8500\n",
      "Epoch 125/150\n",
      " - 0s - loss: 0.4098 - acc: 0.8500\n",
      "Epoch 126/150\n",
      " - 0s - loss: 0.4067 - acc: 0.8500\n",
      "Epoch 127/150\n",
      " - 0s - loss: 0.4031 - acc: 0.8600\n",
      "Epoch 128/150\n",
      " - 0s - loss: 0.4002 - acc: 0.9000\n",
      "Epoch 129/150\n",
      " - 0s - loss: 0.3984 - acc: 0.8900\n",
      "Epoch 130/150\n",
      " - 0s - loss: 0.3971 - acc: 0.9100\n",
      "Epoch 131/150\n",
      " - 0s - loss: 0.3947 - acc: 0.9100\n",
      "Epoch 132/150\n",
      " - 0s - loss: 0.3932 - acc: 0.9100\n",
      "Epoch 133/150\n",
      " - 0s - loss: 0.3916 - acc: 0.9100\n",
      "Epoch 134/150\n",
      " - 0s - loss: 0.3903 - acc: 0.9100\n",
      "Epoch 135/150\n",
      " - 0s - loss: 0.3877 - acc: 0.9100\n",
      "Epoch 136/150\n",
      " - 0s - loss: 0.3860 - acc: 0.9100\n",
      "Epoch 137/150\n",
      " - 0s - loss: 0.3841 - acc: 0.9100\n",
      "Epoch 138/150\n",
      " - 0s - loss: 0.3821 - acc: 0.9200\n",
      "Epoch 139/150\n",
      " - 0s - loss: 0.3803 - acc: 0.9200\n",
      "Epoch 140/150\n",
      " - 0s - loss: 0.3786 - acc: 0.9100\n",
      "Epoch 141/150\n",
      " - 0s - loss: 0.3767 - acc: 0.9300\n",
      "Epoch 142/150\n",
      " - 0s - loss: 0.3750 - acc: 0.9300\n",
      "Epoch 143/150\n",
      " - 0s - loss: 0.3729 - acc: 0.9300\n",
      "Epoch 144/150\n",
      " - 0s - loss: 0.3711 - acc: 0.9300\n",
      "Epoch 145/150\n",
      " - 0s - loss: 0.3693 - acc: 0.9300\n",
      "Epoch 146/150\n",
      " - 0s - loss: 0.3672 - acc: 0.9300\n",
      "Epoch 147/150\n",
      " - 0s - loss: 0.3651 - acc: 0.9300\n",
      "Epoch 148/150\n",
      " - 0s - loss: 0.3638 - acc: 0.9200\n",
      "Epoch 149/150\n",
      " - 0s - loss: 0.3625 - acc: 0.9400\n",
      "Epoch 150/150\n",
      " - 0s - loss: 0.3614 - acc: 0.9300\n"
     ]
    },
    {
     "data": {
      "text/plain": [
       "<keras.callbacks.History at 0x1a3e124190>"
      ]
     },
     "execution_count": 27,
     "metadata": {},
     "output_type": "execute_result"
    }
   ],
   "source": [
    "#epochs is the number of times the network \"runs\" through the entire training dataset\n",
    "# verbose is the amount of info to output\n",
    "model.fit(scaled_X_train,y_train,epochs=150,verbose=2)"
   ]
  },
  {
   "cell_type": "code",
   "execution_count": 29,
   "metadata": {},
   "outputs": [
    {
     "data": {
      "text/plain": [
       "array([1, 0, 2, 1, 2, 0, 1, 2, 2, 1, 2, 0, 0, 0, 0, 1, 2, 1, 1, 2, 0, 1,\n",
       "       0, 2, 2, 2, 2, 2, 0, 0, 0, 0, 1, 0, 0, 2, 1, 0, 0, 0, 2, 1, 1, 0,\n",
       "       0, 1, 2, 2, 1, 2])"
      ]
     },
     "execution_count": 29,
     "metadata": {},
     "output_type": "execute_result"
    }
   ],
   "source": [
    "model.predict_classes(scaled_X_test)"
   ]
  },
  {
   "cell_type": "code",
   "execution_count": 30,
   "metadata": {},
   "outputs": [
    {
     "data": {
      "text/plain": [
       "array([1, 0, 2, 1, 1, 0, 1, 2, 1, 1, 2, 0, 0, 0, 0, 1, 2, 1, 1, 2, 0, 2,\n",
       "       0, 2, 2, 2, 2, 2, 0, 0, 0, 0, 1, 0, 0, 2, 1, 0, 0, 0, 2, 1, 1, 0,\n",
       "       0, 1, 2, 2, 1, 2])"
      ]
     },
     "execution_count": 30,
     "metadata": {},
     "output_type": "execute_result"
    }
   ],
   "source": [
    "predictions = model.predict_classes(scaled_X_test)\n",
    "y_test.argmax(axis=1)"
   ]
  },
  {
   "cell_type": "code",
   "execution_count": 33,
   "metadata": {},
   "outputs": [],
   "source": [
    "import pandas as pd\n",
    "from sklearn.metrics import accuracy_score,confusion_matrix,classification_report"
   ]
  },
  {
   "cell_type": "code",
   "execution_count": 38,
   "metadata": {},
   "outputs": [
    {
     "data": {
      "text/html": [
       "<div>\n",
       "<style scoped>\n",
       "    .dataframe tbody tr th:only-of-type {\n",
       "        vertical-align: middle;\n",
       "    }\n",
       "\n",
       "    .dataframe tbody tr th {\n",
       "        vertical-align: top;\n",
       "    }\n",
       "\n",
       "    .dataframe thead th {\n",
       "        text-align: right;\n",
       "    }\n",
       "</style>\n",
       "<table border=\"1\" class=\"dataframe\">\n",
       "  <thead>\n",
       "    <tr style=\"text-align: right;\">\n",
       "      <th></th>\n",
       "      <th>Pred0</th>\n",
       "      <th>Pred1</th>\n",
       "      <th>Pred2</th>\n",
       "    </tr>\n",
       "  </thead>\n",
       "  <tbody>\n",
       "    <tr>\n",
       "      <th>True0</th>\n",
       "      <td>19</td>\n",
       "      <td>0</td>\n",
       "      <td>0</td>\n",
       "    </tr>\n",
       "    <tr>\n",
       "      <th>True1</th>\n",
       "      <td>0</td>\n",
       "      <td>13</td>\n",
       "      <td>2</td>\n",
       "    </tr>\n",
       "    <tr>\n",
       "      <th>True2</th>\n",
       "      <td>0</td>\n",
       "      <td>1</td>\n",
       "      <td>15</td>\n",
       "    </tr>\n",
       "  </tbody>\n",
       "</table>\n",
       "</div>"
      ],
      "text/plain": [
       "       Pred0  Pred1  Pred2\n",
       "True0     19      0      0\n",
       "True1      0     13      2\n",
       "True2      0      1     15"
      ]
     },
     "metadata": {},
     "output_type": "display_data"
    },
    {
     "name": "stdout",
     "output_type": "stream",
     "text": [
      "              precision    recall  f1-score   support\n",
      "\n",
      "           0       1.00      1.00      1.00        19\n",
      "           1       0.93      0.87      0.90        15\n",
      "           2       0.88      0.94      0.91        16\n",
      "\n",
      "   micro avg       0.94      0.94      0.94        50\n",
      "   macro avg       0.94      0.93      0.94        50\n",
      "weighted avg       0.94      0.94      0.94        50\n",
      "\n",
      "Accuracy Score: 0.94\n"
     ]
    }
   ],
   "source": [
    "display(pd.DataFrame(confusion_matrix(y_test.argmax(axis=1),predictions), \n",
    "                            index=['True0','True1', 'True2'], \n",
    "                            columns=['Pred0','Pred1', 'Pred2']))\n",
    "print(classification_report(y_test.argmax(axis=1),predictions))\n",
    "print('Accuracy Score:', accuracy_score(y_test.argmax(axis=1),predictions))"
   ]
  },
  {
   "cell_type": "code",
   "execution_count": 39,
   "metadata": {},
   "outputs": [],
   "source": [
    "# save the results of the model to be re-used\n",
    "model.save('myfirstmodel.h5')"
   ]
  },
  {
   "cell_type": "code",
   "execution_count": 40,
   "metadata": {},
   "outputs": [],
   "source": [
    "# load the model\n",
    "from keras.models import load_model"
   ]
  },
  {
   "cell_type": "code",
   "execution_count": 42,
   "metadata": {},
   "outputs": [],
   "source": [
    "new_model = load_model('myfirstmodel.h5')"
   ]
  },
  {
   "cell_type": "markdown",
   "metadata": {},
   "source": [
    "# Recurrent Neural Networks\n",
    "> Specifically designed to work with sequence data\n",
    "* Time series\n",
    "* Sentences (NLP)\n",
    "* Audio\n",
    "* Car Trajectories\n",
    "\n",
    "<img src='feed_forward_neuron.png'>\n",
    "<img src='recur_neuron.png'>\n",
    "<img src='recur_neuron_1.png'>"
   ]
  },
  {
   "cell_type": "markdown",
   "metadata": {},
   "source": [
    "**Memory Cells:** Nodes that are a function of inputs from previous time steps\n",
    "\n",
    "<img src='recur_layer.png'>\n",
    "<img src='recur_layer_1.png'>"
   ]
  },
  {
   "cell_type": "markdown",
   "metadata": {},
   "source": [
    "# LSTM & GRU\n",
    "* Long-short term memory\n",
    "* \n",
    "\n",
    "> Help to reduce the \"forgetfullness\" of RNNs as what was input at $t_{0}$ may lose its influence at $t_{i+j}$\n",
    "\n",
    "<img src='lstm_cell.png'>\n",
    "\n",
    "**Input:**\n",
    "1. $C_{t-1}$: Cell state at $t-1$\n",
    "2. $h_{t-1}$: outcome of previous cell\n",
    "3. $x_{t}$: factor of relevance\n",
    "\n",
    "### First Step: Forget Gate Layer\n",
    "* We decide what information we are going to \"forget\", or \"throw away\", from the cell state\n",
    "<img src='forget_gate_layer.png'>\n",
    "\n",
    "### Second Step:\n",
    "* We decide what to store\n",
    "<img src='lstm_stage_2.png'>\n",
    "\n",
    "### Third Step:\n",
    "* We update the cell state (to send to the next cell state)\n",
    "<img src='lstm_stage_3.png'>\n",
    "\n",
    "### Fourth Step:\n",
    "* We output $h_{t}$\n",
    "<img src='lstm_stage_4.png'>\n",
    "\n",
    "**Different kind of LSTMs:**\n",
    "1. Peephole\n",
    "2. Gated Recurrent Unit (GRU)\n",
    "\n",
    "**Peephole**\n",
    "<img src='lstm_peep.png'>\n",
    "**GRU**\n",
    "<img src='lstm_GRU.png'>"
   ]
  },
  {
   "cell_type": "code",
   "execution_count": null,
   "metadata": {},
   "outputs": [],
   "source": []
  }
 ],
 "metadata": {
  "kernelspec": {
   "display_name": "Python 3",
   "language": "python",
   "name": "python3"
  },
  "language_info": {
   "codemirror_mode": {
    "name": "ipython",
    "version": 3
   },
   "file_extension": ".py",
   "mimetype": "text/x-python",
   "name": "python",
   "nbconvert_exporter": "python",
   "pygments_lexer": "ipython3",
   "version": "3.7.4"
  }
 },
 "nbformat": 4,
 "nbformat_minor": 2
}
