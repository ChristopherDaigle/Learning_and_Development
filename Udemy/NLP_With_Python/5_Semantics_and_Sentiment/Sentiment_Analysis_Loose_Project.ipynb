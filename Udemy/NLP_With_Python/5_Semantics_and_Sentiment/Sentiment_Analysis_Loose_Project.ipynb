{
 "cells": [
  {
   "cell_type": "markdown",
   "metadata": {},
   "source": [
    "# Sentiment Analysis"
   ]
  },
  {
   "cell_type": "code",
   "execution_count": 17,
   "metadata": {},
   "outputs": [],
   "source": [
    "import spacy"
   ]
  },
  {
   "cell_type": "code",
   "execution_count": 18,
   "metadata": {},
   "outputs": [],
   "source": [
    "nlp = spacy.load('en_core_web_lg')"
   ]
  },
  {
   "cell_type": "code",
   "execution_count": 19,
   "metadata": {},
   "outputs": [],
   "source": [
    "words = nlp(u'play ball boy child dog fence road pumpkin halloween latte computer program game math statistics phone picture video friends')\n",
    "word_vec = words.vector"
   ]
  },
  {
   "cell_type": "code",
   "execution_count": 54,
   "metadata": {},
   "outputs": [
    {
     "name": "stdout",
     "output_type": "stream",
     "text": [
      "play  play       1.0\n",
      "play  ball       0.4849\n",
      "play  boy        0.3407\n",
      "play  child      0.2945\n",
      "play  dog        0.2563\n",
      "play  fence      0.179\n",
      "play  road       0.2702\n",
      "play  pumpkin    0.1337\n",
      "play  halloween  0.1701\n",
      "play  latte      -0.0016\n",
      "play  computer   0.3111\n",
      "play  program    0.2604\n",
      "play  game       0.7377\n",
      "play  math       0.2602\n",
      "play  statistics 0.1877\n",
      "play  phone      0.2262\n",
      "play  picture    0.2573\n",
      "play  video      0.3728\n",
      "play  friends    0.3547\n",
      "ball  play       0.4849\n",
      "ball  ball       1.0\n",
      "ball  boy        0.3438\n",
      "ball  child      0.2075\n",
      "ball  dog        0.323\n",
      "ball  fence      0.3389\n",
      "ball  road       0.2755\n",
      "ball  pumpkin    0.2742\n",
      "ball  halloween  0.2284\n",
      "ball  latte      0.0962\n",
      "ball  computer   0.2009\n",
      "ball  program    0.0952\n",
      "ball  game       0.5003\n",
      "ball  math       0.1813\n",
      "ball  statistics 0.1669\n",
      "ball  phone      0.1402\n",
      "ball  picture    0.2927\n",
      "ball  video      0.2353\n",
      "ball  friends    0.2124\n",
      "boy   play       0.3407\n",
      "boy   ball       0.3438\n",
      "boy   boy        1.0\n",
      "boy   child      0.6284\n",
      "boy   dog        0.4997\n",
      "boy   fence      0.2472\n",
      "boy   road       0.288\n",
      "boy   pumpkin    0.2727\n",
      "boy   halloween  0.3283\n",
      "boy   latte      0.1356\n",
      "boy   computer   0.2272\n",
      "boy   program    0.1169\n",
      "boy   game       0.2924\n",
      "boy   math       0.2501\n",
      "boy   statistics 0.1151\n",
      "boy   phone      0.2501\n",
      "boy   picture    0.4764\n",
      "boy   video      0.3519\n",
      "boy   friends    0.4635\n",
      "child play       0.2945\n",
      "child ball       0.2075\n",
      "child boy        0.6284\n",
      "child child      1.0\n",
      "child dog        0.4373\n",
      "child fence      0.2048\n",
      "child road       0.2249\n",
      "child pumpkin    0.2256\n",
      "child halloween  0.2835\n",
      "child latte      0.0616\n",
      "child computer   0.2684\n",
      "child program    0.317\n",
      "child game       0.1861\n",
      "child math       0.3127\n",
      "child statistics 0.2576\n",
      "child phone      0.2533\n",
      "child picture    0.3694\n",
      "child video      0.2158\n",
      "child friends    0.3883\n",
      "dog   play       0.2563\n",
      "dog   ball       0.323\n",
      "dog   boy        0.4997\n",
      "dog   child      0.4373\n",
      "dog   dog        1.0\n",
      "dog   fence      0.4287\n",
      "dog   road       0.2855\n",
      "dog   pumpkin    0.3067\n",
      "dog   halloween  0.3017\n",
      "dog   latte      0.1303\n",
      "dog   computer   0.2344\n",
      "dog   program    0.1946\n",
      "dog   game       0.2468\n",
      "dog   math       0.1491\n",
      "dog   statistics 0.1363\n",
      "dog   phone      0.2443\n",
      "dog   picture    0.4079\n",
      "dog   video      0.2787\n",
      "dog   friends    0.3579\n",
      "fence play       0.179\n",
      "fence ball       0.3389\n",
      "fence boy        0.2472\n",
      "fence child      0.2048\n",
      "fence dog        0.4287\n",
      "fence fence      1.0\n",
      "fence road       0.4065\n",
      "fence pumpkin    0.2517\n",
      "fence halloween  0.1768\n",
      "fence latte      0.0507\n",
      "fence computer   0.1525\n",
      "fence program    0.0738\n",
      "fence game       0.1639\n",
      "fence math       0.1158\n",
      "fence statistics 0.0957\n",
      "fence phone      0.1686\n",
      "fence picture    0.2864\n",
      "fence video      0.1376\n",
      "fence friends    0.201\n",
      "road  play       0.2702\n",
      "road  ball       0.2755\n",
      "road  boy        0.288\n",
      "road  child      0.2249\n",
      "road  dog        0.2855\n",
      "road  fence      0.4065\n",
      "road  road       1.0\n",
      "road  pumpkin    0.1567\n",
      "road  halloween  0.1069\n",
      "road  latte      0.0764\n",
      "road  computer   0.1988\n",
      "road  program    0.1699\n",
      "road  game       0.2653\n",
      "road  math       0.1514\n",
      "road  statistics 0.1869\n",
      "road  phone      0.2288\n",
      "road  picture    0.2572\n",
      "road  video      0.2105\n",
      "road  friends    0.2896\n",
      "pumpkin play       0.1337\n",
      "pumpkin ball       0.2742\n",
      "pumpkin boy        0.2727\n",
      "pumpkin child      0.2256\n",
      "pumpkin dog        0.3067\n",
      "pumpkin fence      0.2517\n",
      "pumpkin road       0.1567\n",
      "pumpkin pumpkin    1.0\n",
      "pumpkin halloween  0.5924\n",
      "pumpkin latte      0.4329\n",
      "pumpkin computer   0.0953\n",
      "pumpkin program    0.0534\n",
      "pumpkin game       0.1826\n",
      "pumpkin math       0.1896\n",
      "pumpkin statistics 0.0347\n",
      "pumpkin phone      0.0787\n",
      "pumpkin picture    0.3094\n",
      "pumpkin video      0.1165\n",
      "pumpkin friends    0.2338\n",
      "halloween play       0.1701\n",
      "halloween ball       0.2284\n",
      "halloween boy        0.3283\n",
      "halloween child      0.2835\n",
      "halloween dog        0.3017\n",
      "halloween fence      0.1768\n",
      "halloween road       0.1069\n",
      "halloween pumpkin    0.5924\n",
      "halloween halloween  1.0\n",
      "halloween latte      0.1489\n",
      "halloween computer   0.1739\n",
      "halloween program    0.0423\n",
      "halloween game       0.2649\n",
      "halloween math       0.2415\n",
      "halloween statistics 0.1056\n",
      "halloween phone      0.1404\n",
      "halloween picture    0.3711\n",
      "halloween video      0.2602\n",
      "halloween friends    0.2788\n",
      "latte play       -0.0016\n",
      "latte ball       0.0962\n",
      "latte boy        0.1356\n",
      "latte child      0.0616\n",
      "latte dog        0.1303\n",
      "latte fence      0.0507\n",
      "latte road       0.0764\n",
      "latte pumpkin    0.4329\n",
      "latte halloween  0.1489\n",
      "latte latte      1.0\n",
      "latte computer   0.1218\n",
      "latte program    -0.0147\n",
      "latte game       0.0104\n",
      "latte math       0.1201\n",
      "latte statistics -0.0304\n",
      "latte phone      0.1192\n",
      "latte picture    0.1474\n",
      "latte video      0.0772\n",
      "latte friends    0.1418\n",
      "computer play       0.3111\n",
      "computer ball       0.2009\n",
      "computer boy        0.2272\n",
      "computer child      0.2684\n",
      "computer dog        0.2344\n",
      "computer fence      0.1525\n",
      "computer road       0.1988\n",
      "computer pumpkin    0.0953\n",
      "computer halloween  0.1739\n",
      "computer latte      0.1218\n",
      "computer computer   1.0\n",
      "computer program    0.466\n",
      "computer game       0.3639\n",
      "computer math       0.4395\n",
      "computer statistics 0.3254\n",
      "computer phone      0.4394\n",
      "computer picture    0.328\n",
      "computer video      0.3918\n",
      "computer friends    0.2827\n",
      "program play       0.2604\n",
      "program ball       0.0952\n",
      "program boy        0.1169\n",
      "program child      0.317\n",
      "program dog        0.1946\n",
      "program fence      0.0738\n",
      "program road       0.1699\n",
      "program pumpkin    0.0534\n",
      "program halloween  0.0423\n",
      "program latte      -0.0147\n",
      "program computer   0.466\n",
      "program program    1.0\n",
      "program game       0.2898\n",
      "program math       0.3813\n",
      "program statistics 0.2973\n",
      "program phone      0.2064\n",
      "program picture    0.2176\n",
      "program video      0.3265\n",
      "program friends    0.2044\n",
      "game  play       0.7377\n",
      "game  ball       0.5003\n",
      "game  boy        0.2924\n",
      "game  child      0.1861\n",
      "game  dog        0.2468\n",
      "game  fence      0.1639\n",
      "game  road       0.2653\n",
      "game  pumpkin    0.1826\n",
      "game  halloween  0.2649\n",
      "game  latte      0.0104\n",
      "game  computer   0.3639\n",
      "game  program    0.2898\n",
      "game  game       1.0\n",
      "game  math       0.3153\n",
      "game  statistics 0.2481\n",
      "game  phone      0.2144\n",
      "game  picture    0.2636\n",
      "game  video      0.3951\n",
      "game  friends    0.295\n",
      "math  play       0.2602\n",
      "math  ball       0.1813\n",
      "math  boy        0.2501\n",
      "math  child      0.3127\n",
      "math  dog        0.1491\n",
      "math  fence      0.1158\n",
      "math  road       0.1514\n",
      "math  pumpkin    0.1896\n",
      "math  halloween  0.2415\n",
      "math  latte      0.1201\n",
      "math  computer   0.4395\n",
      "math  program    0.3813\n",
      "math  game       0.3153\n",
      "math  math       1.0\n",
      "math  statistics 0.3882\n",
      "math  phone      0.1389\n",
      "math  picture    0.2097\n",
      "math  video      0.1968\n",
      "math  friends    0.235\n",
      "statistics play       0.1877\n",
      "statistics ball       0.1669\n",
      "statistics boy        0.1151\n",
      "statistics child      0.2576\n",
      "statistics dog        0.1363\n",
      "statistics fence      0.0957\n",
      "statistics road       0.1869\n",
      "statistics pumpkin    0.0347\n",
      "statistics halloween  0.1056\n",
      "statistics latte      -0.0304\n",
      "statistics computer   0.3254\n",
      "statistics program    0.2973\n",
      "statistics game       0.2481\n",
      "statistics math       0.3882\n",
      "statistics statistics 1.0\n",
      "statistics phone      0.1909\n",
      "statistics picture    0.2484\n",
      "statistics video      0.2113\n",
      "statistics friends    0.1405\n",
      "phone play       0.2262\n",
      "phone ball       0.1402\n",
      "phone boy        0.2501\n",
      "phone child      0.2533\n",
      "phone dog        0.2443\n",
      "phone fence      0.1686\n",
      "phone road       0.2288\n",
      "phone pumpkin    0.0787\n",
      "phone halloween  0.1404\n",
      "phone latte      0.1192\n",
      "phone computer   0.4394\n",
      "phone program    0.2064\n",
      "phone game       0.2144\n",
      "phone math       0.1389\n",
      "phone statistics 0.1909\n",
      "phone phone      1.0\n",
      "phone picture    0.2995\n",
      "phone video      0.3175\n",
      "phone friends    0.3386\n",
      "picture play       0.2573\n",
      "picture ball       0.2927\n",
      "picture boy        0.4764\n",
      "picture child      0.3694\n",
      "picture dog        0.4079\n",
      "picture fence      0.2864\n",
      "picture road       0.2572\n",
      "picture pumpkin    0.3094\n",
      "picture halloween  0.3711\n",
      "picture latte      0.1474\n",
      "picture computer   0.328\n",
      "picture program    0.2176\n",
      "picture game       0.2636\n",
      "picture math       0.2097\n",
      "picture statistics 0.2484\n",
      "picture phone      0.2995\n",
      "picture picture    1.0\n",
      "picture video      0.5752\n",
      "picture friends    0.3428\n",
      "video play       0.3728\n",
      "video ball       0.2353\n",
      "video boy        0.3519\n",
      "video child      0.2158\n",
      "video dog        0.2787\n",
      "video fence      0.1376\n",
      "video road       0.2105\n",
      "video pumpkin    0.1165\n",
      "video halloween  0.2602\n",
      "video latte      0.0772\n",
      "video computer   0.3918\n",
      "video program    0.3265\n",
      "video game       0.3951\n",
      "video math       0.1968\n",
      "video statistics 0.2113\n",
      "video phone      0.3175\n",
      "video picture    0.5752\n",
      "video video      1.0\n",
      "video friends    0.2968\n",
      "friends play       0.3547\n",
      "friends ball       0.2124\n",
      "friends boy        0.4635\n",
      "friends child      0.3883\n",
      "friends dog        0.3579\n",
      "friends fence      0.201\n",
      "friends road       0.2896\n",
      "friends pumpkin    0.2338\n",
      "friends halloween  0.2788\n",
      "friends latte      0.1418\n",
      "friends computer   0.2827\n",
      "friends program    0.2044\n",
      "friends game       0.295\n",
      "friends math       0.235\n",
      "friends statistics 0.1405\n",
      "friends phone      0.3386\n",
      "friends picture    0.3428\n",
      "friends video      0.2968\n",
      "friends friends    1.0\n"
     ]
    }
   ],
   "source": [
    "for t1 in words:\n",
    "    for t2 in words:\n",
    "        print(f'{t1.text:{5}} {t2.text:{10}} {round(float(t1.similarity(t2)),4)}')"
   ]
  },
  {
   "cell_type": "code",
   "execution_count": 21,
   "metadata": {},
   "outputs": [],
   "source": [
    "from scipy import spatial\n",
    "\n",
    "cosine_similarity = lambda vec1,vec2: 1-spatial.distance.cosine(vec1,vec2)"
   ]
  },
  {
   "cell_type": "code",
   "execution_count": 22,
   "metadata": {},
   "outputs": [],
   "source": [
    "# maybe game\n",
    "computer = nlp.vocab['computer'].vector\n",
    "program = nlp.vocab['program'].vector\n",
    "play = nlp.vocab['play'].vector\n",
    "new_vector = computer - program + play"
   ]
  },
  {
   "cell_type": "code",
   "execution_count": 26,
   "metadata": {},
   "outputs": [],
   "source": [
    "computed_similarities = []\n",
    "# For all the words in my vocabulary\n",
    "for word in nlp.vocab:\n",
    "    if word.has_vector:\n",
    "        if word.is_lower:\n",
    "            if word.is_alpha:\n",
    "                similarity = cosine_similarity(new_vector, word.vector)\n",
    "                computed_similarities.append((word, similarity))\n",
    "# Sort in descending order by the similarity\n",
    "computed_similarities = sorted(computed_similarities,key=lambda item:-item[1])"
   ]
  },
  {
   "cell_type": "code",
   "execution_count": 28,
   "metadata": {},
   "outputs": [
    {
     "name": "stdout",
     "output_type": "stream",
     "text": [
      "['play', 'playing', 'computer', 'games', 'played', 'game', 'plays', 'gaming', 'player', 'computers']\n"
     ]
    }
   ],
   "source": [
    "print([t[0].text for t in computed_similarities[0:10]])"
   ]
  },
  {
   "cell_type": "code",
   "execution_count": 33,
   "metadata": {},
   "outputs": [],
   "source": [
    "def vector_math(a, b, c):\n",
    "    \n",
    "    cosine_similarity = lambda vec1,vec2: 1-spatial.distance.cosine(vec1,vec2)\n",
    "    \n",
    "    t1 = nlp.vocab[a].vector\n",
    "    t2 = nlp.vocab[b].vector\n",
    "    t3 = nlp.vocab[c].vector\n",
    "    \n",
    "    t4 = t1 - t2 + t3\n",
    "    \n",
    "    computed_similarities = []\n",
    "    \n",
    "    for t in nlp.vocab:\n",
    "        if t.has_vector:\n",
    "            if t.is_lower:\n",
    "                if t.is_alpha:\n",
    "                    similarity = cosine_similarity(t4,t.vector)\n",
    "                    computed_similarities.append((t,similarity))\n",
    "    \n",
    "    computed_similarities = sorted(computed_similarities,key=lambda item:-item[1])\n",
    "    \n",
    "    top_ten = print([t[0].text for t in computed_similarities[0:10]])\n",
    "    \n",
    "    return top_ten\n",
    "                    "
   ]
  },
  {
   "cell_type": "code",
   "execution_count": 34,
   "metadata": {},
   "outputs": [
    {
     "name": "stdout",
     "output_type": "stream",
     "text": [
      "['king', 'queen', 'prince', 'kings', 'princess', 'royal', 'throne', 'queens', 'monarch', 'kingdom']\n"
     ]
    }
   ],
   "source": [
    "vector_math('king', 'man', 'woman')"
   ]
  },
  {
   "cell_type": "markdown",
   "metadata": {},
   "source": [
    "# Using VADER"
   ]
  },
  {
   "cell_type": "code",
   "execution_count": 36,
   "metadata": {},
   "outputs": [],
   "source": [
    "from nltk.sentiment.vader import SentimentIntensityAnalyzer"
   ]
  },
  {
   "cell_type": "code",
   "execution_count": 37,
   "metadata": {},
   "outputs": [],
   "source": [
    "sid = SentimentIntensityAnalyzer()"
   ]
  },
  {
   "cell_type": "code",
   "execution_count": 38,
   "metadata": {},
   "outputs": [],
   "source": [
    "review = \"Super awesome fun good time while eating a big kahuna burger and riding a sea-lion! This food is the greatest. Everything I wrote is a lie and I want to see if this will classify as a lie.\"\n",
    "no_context_review = \"Super awesome fun good time while eating a big kahuna burger and riding a sea-lion! This food is the greatest. Everything I wrote is a lie.\""
   ]
  },
  {
   "cell_type": "code",
   "execution_count": 39,
   "metadata": {},
   "outputs": [
    {
     "data": {
      "text/plain": [
       "{'neg': 0.0, 'neu': 0.565, 'pos': 0.435, 'compound': 0.9638}"
      ]
     },
     "execution_count": 39,
     "metadata": {},
     "output_type": "execute_result"
    }
   ],
   "source": [
    "sid.polarity_scores(review)"
   ]
  },
  {
   "cell_type": "code",
   "execution_count": 41,
   "metadata": {},
   "outputs": [
    {
     "data": {
      "text/plain": [
       "{'neg': 0.0, 'neu': 0.476, 'pos': 0.524, 'compound': 0.9622}"
      ]
     },
     "execution_count": 41,
     "metadata": {},
     "output_type": "execute_result"
    }
   ],
   "source": [
    "sid.polarity_scores(no_context_review)"
   ]
  },
  {
   "cell_type": "code",
   "execution_count": 45,
   "metadata": {},
   "outputs": [
    {
     "name": "stdout",
     "output_type": "stream",
     "text": [
      "pos\n"
     ]
    }
   ],
   "source": [
    "if sid.polarity_scores(review)['compound'] > 0:\n",
    "    print('pos')"
   ]
  },
  {
   "cell_type": "code",
   "execution_count": 48,
   "metadata": {},
   "outputs": [],
   "source": [
    "def review_rating(string):\n",
    "    from nltk.sentiment.vader import SentimentIntensityAnalyzer\n",
    "    sid = SentimentIntensityAnalyzer()\n",
    "    cpd = sid.polarity_scores(string)['compound']\n",
    "    \n",
    "    if cpd > 0:\n",
    "        print('POSITIVE')\n",
    "    if cpd == 0:\n",
    "        print('NEUTRAL')\n",
    "    if cpd < 0:\n",
    "        print('NEGATIVE')"
   ]
  },
  {
   "cell_type": "code",
   "execution_count": 49,
   "metadata": {},
   "outputs": [
    {
     "name": "stdout",
     "output_type": "stream",
     "text": [
      "POSITIVE\n"
     ]
    }
   ],
   "source": [
    "review_rating(review)"
   ]
  },
  {
   "cell_type": "code",
   "execution_count": null,
   "metadata": {},
   "outputs": [],
   "source": []
  }
 ],
 "metadata": {
  "kernelspec": {
   "display_name": "Python 3",
   "language": "python",
   "name": "python3"
  },
  "language_info": {
   "codemirror_mode": {
    "name": "ipython",
    "version": 3
   },
   "file_extension": ".py",
   "mimetype": "text/x-python",
   "name": "python",
   "nbconvert_exporter": "python",
   "pygments_lexer": "ipython3",
   "version": "3.7.4"
  }
 },
 "nbformat": 4,
 "nbformat_minor": 2
}
