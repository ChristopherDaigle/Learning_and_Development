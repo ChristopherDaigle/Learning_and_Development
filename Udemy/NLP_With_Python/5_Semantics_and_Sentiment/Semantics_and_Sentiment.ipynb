{
 "cells": [
  {
   "cell_type": "markdown",
   "metadata": {},
   "source": [
    "### Word2Vec\n",
    "**Word2Vec** is a two-layer neural net that processes text\n",
    "> * Input is text corpus\n",
    "> * Output is set of vectors (i.e. feature vectors for words in corpus)\n",
    "> > * Vectors that are distributed numerical representations of word features, features such as the context of individual words"
   ]
  },
  {
   "cell_type": "markdown",
   "metadata": {},
   "source": [
    "**Purpose** and usefulness of Word2Vec is to group the vectors of similar words together in vectorspace\n",
    "> * It detects similarities mathematically"
   ]
  },
  {
   "cell_type": "markdown",
   "metadata": {},
   "source": [
    "**Outcome** of giving Word2Vec enough data is making highly accurate guesses about a word's meaning based on past appearances"
   ]
  },
  {
   "cell_type": "markdown",
   "metadata": {},
   "source": [
    "**Trains** aginst other words that neighbor them in the input corpus\n",
    "> 1. using context to predict a target word - method known as continuous bag of words (CBOW)\n",
    "> 2. Using word to predict a target context - Skip-Gram\n",
    "\n",
    "<img src='CBOW_Skip.png'>"
   ]
  },
  {
   "cell_type": "markdown",
   "metadata": {},
   "source": [
    "**Recall** each word is now represented by a vector\n",
    "> With spacy, each vector has **300** dimensions"
   ]
  },
  {
   "cell_type": "markdown",
   "metadata": {},
   "source": [
    "**Cosine Similarity** is a measure of similarity between vectors\n",
    "> * Now that we have our words in vectors, we can evaluate their relationships\n",
    "\n",
    "<img src='Cos_Sim.png'>"
   ]
  },
  {
   "cell_type": "markdown",
   "metadata": {},
   "source": [
    "**Vector Arithmetic** can now be performed\n",
    "> e.g. finding the difference of man from king plus woman could be related to queen\n",
    "\n",
    "$$new vector = king - man + woman \\approx queen$$\n",
    "<img src='Vec_Sim_Example.png'>"
   ]
  },
  {
   "cell_type": "code",
   "execution_count": 1,
   "metadata": {},
   "outputs": [],
   "source": [
    "import spacy"
   ]
  },
  {
   "cell_type": "code",
   "execution_count": 2,
   "metadata": {},
   "outputs": [],
   "source": [
    "nlp = spacy.load(\"en_core_web_lg\")"
   ]
  },
  {
   "cell_type": "code",
   "execution_count": 6,
   "metadata": {},
   "outputs": [
    {
     "data": {
      "text/plain": [
       "array([ 0.18963 , -0.40309 ,  0.3535  , -0.47907 , -0.43311 ,  0.23857 ,\n",
       "        0.26962 ,  0.064332,  0.30767 ,  1.3712  ], dtype=float32)"
      ]
     },
     "metadata": {},
     "output_type": "display_data"
    },
    {
     "data": {
      "text/plain": [
       "(300,)"
      ]
     },
     "metadata": {},
     "output_type": "display_data"
    }
   ],
   "source": [
    "# This illustrates the vector components of the word 'lion',\n",
    "# Doc and Span objects also have vectors, and are derived from the averages of the indivdual token vectors\n",
    "# That allows you to perform document2vec, not only word2vec\n",
    "display(nlp(u\"lion\").vector[0:10])\n",
    "display(nlp(u\"lion\").vector.shape)"
   ]
  },
  {
   "cell_type": "code",
   "execution_count": 8,
   "metadata": {},
   "outputs": [
    {
     "data": {
      "text/plain": [
       "array([-0.209218  , -0.0278228 , -0.0357064 ,  0.1552184 , -0.012805  ,\n",
       "        0.13162704, -0.19946599,  0.0475812 ,  0.1267988 ,  1.647928  ],\n",
       "      dtype=float32)"
      ]
     },
     "metadata": {},
     "output_type": "display_data"
    },
    {
     "data": {
      "text/plain": [
       "(300,)"
      ]
     },
     "metadata": {},
     "output_type": "display_data"
    }
   ],
   "source": [
    "# Doc2Vec is the average of all the singular words that are there\n",
    "display(nlp(u'The quick brown fox jumped').vector[0:10])\n",
    "display(nlp(u'The quick brown fox jumped').vector.shape)"
   ]
  },
  {
   "cell_type": "code",
   "execution_count": 9,
   "metadata": {},
   "outputs": [],
   "source": [
    "tokens = nlp(u'lion cat pet')"
   ]
  },
  {
   "cell_type": "code",
   "execution_count": 10,
   "metadata": {},
   "outputs": [
    {
     "name": "stdout",
     "output_type": "stream",
     "text": [
      "lion lion 1.0\n",
      "lion cat 0.5265437\n",
      "lion pet 0.39923772\n",
      "cat lion 0.5265437\n",
      "cat cat 1.0\n",
      "cat pet 0.7505456\n",
      "pet lion 0.39923772\n",
      "pet cat 0.7505456\n",
      "pet pet 1.0\n"
     ]
    }
   ],
   "source": [
    "# This numerical value is the cosine similarity\n",
    "for token1 in tokens:\n",
    "    for token2 in tokens:\n",
    "        print(token1.text, token2.text, token1.similarity(token2))"
   ]
  },
  {
   "cell_type": "code",
   "execution_count": 11,
   "metadata": {},
   "outputs": [
    {
     "name": "stdout",
     "output_type": "stream",
     "text": [
      "like like 1.0\n",
      "like love 0.65790397\n",
      "like hate 0.6574652\n",
      "love like 0.65790397\n",
      "love love 1.0\n",
      "love hate 0.6393099\n",
      "hate like 0.6574652\n",
      "hate love 0.6393099\n",
      "hate hate 1.0\n"
     ]
    }
   ],
   "source": [
    "tokens = nlp(u'like love hate')\n",
    "\n",
    "for t1 in tokens:\n",
    "    for t2 in tokens:\n",
    "        print(t1.text, t2.text, t1.similarity(t2))"
   ]
  },
  {
   "cell_type": "code",
   "execution_count": 14,
   "metadata": {},
   "outputs": [
    {
     "data": {
      "text/plain": [
       "684831"
      ]
     },
     "metadata": {},
     "output_type": "display_data"
    },
    {
     "data": {
      "text/plain": [
       "(684831, 300)"
      ]
     },
     "execution_count": 14,
     "metadata": {},
     "output_type": "execute_result"
    }
   ],
   "source": [
    "# Aggregate this into a Euclidean L2 norm: square root of the sum of squared vectors\n",
    "# spacy has a method for this\n",
    "display(len(nlp.vocab.vectors))\n",
    "nlp.vocab.vectors.shape"
   ]
  },
  {
   "cell_type": "code",
   "execution_count": null,
   "metadata": {},
   "outputs": [],
   "source": [
    "tokens = nlp(u'dog cat nargle')\n",
    "\n"
   ]
  }
 ],
 "metadata": {
  "kernelspec": {
   "display_name": "Python 3",
   "language": "python",
   "name": "python3"
  },
  "language_info": {
   "codemirror_mode": {
    "name": "ipython",
    "version": 3
   },
   "file_extension": ".py",
   "mimetype": "text/x-python",
   "name": "python",
   "nbconvert_exporter": "python",
   "pygments_lexer": "ipython3",
   "version": "3.7.4"
  }
 },
 "nbformat": 4,
 "nbformat_minor": 2
}
