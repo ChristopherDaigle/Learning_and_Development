{
 "cells": [
  {
   "cell_type": "markdown",
   "metadata": {},
   "source": [
    "### Word2Vec\n",
    "**Word2Vec** is a two-layer neural net that processes text\n",
    "> * Input is text corpus\n",
    "> * Output is set of vectors (i.e. feature vectors for words in corpus)\n",
    "> > * Vectors that are distributed numerical representations of word features, features such as the context of individual words"
   ]
  },
  {
   "cell_type": "markdown",
   "metadata": {},
   "source": [
    "**Purpose** and usefulness of Word2Vec is to group the vectors of similar words together in vectorspace\n",
    "> * It detects similarities mathematically"
   ]
  },
  {
   "cell_type": "markdown",
   "metadata": {},
   "source": [
    "**Outcome** of giving Word2Vec enough data is making highly accurate guesses about a word's meaning based on past appearances"
   ]
  },
  {
   "cell_type": "markdown",
   "metadata": {},
   "source": [
    "**Trains** aginst other words that neighbor them in the input corpus\n",
    "> 1. using context to predict a target word - method known as continuous bag of words (CBOW)\n",
    "> 2. Using word to predict a target context - Skip-Gram\n",
    "\n",
    "<img src='CBOW_Skip.png'>"
   ]
  },
  {
   "cell_type": "markdown",
   "metadata": {},
   "source": [
    "**Recall** each word is now represented by a vector\n",
    "> With spacy, each vector has **300** dimensions"
   ]
  },
  {
   "cell_type": "markdown",
   "metadata": {},
   "source": [
    "**Cosine Similarity** is a measure of similarity between vectors\n",
    "> * Now that we have our words in vectors, we can evaluate their relationships\n",
    "\n",
    "<img src='Cos_Sim.png'>"
   ]
  },
  {
   "cell_type": "markdown",
   "metadata": {},
   "source": [
    "**Vector Arithmetic** can now be performed\n",
    "> e.g. finding the difference of man from king plus woman could be related to queen\n",
    "\n",
    "$$new vector = king - man + woman \\approx queen$$\n",
    "<img src='Vec_Sim_Example.png'>"
   ]
  },
  {
   "cell_type": "code",
   "execution_count": 3,
   "metadata": {},
   "outputs": [],
   "source": [
    "import spacy"
   ]
  },
  {
   "cell_type": "code",
   "execution_count": 4,
   "metadata": {},
   "outputs": [],
   "source": [
    "nlp = spacy.load(\"en_core_web_lg\")"
   ]
  },
  {
   "cell_type": "code",
   "execution_count": null,
   "metadata": {},
   "outputs": [],
   "source": []
  }
 ],
 "metadata": {
  "kernelspec": {
   "display_name": "Python 3",
   "language": "python",
   "name": "python3"
  },
  "language_info": {
   "codemirror_mode": {
    "name": "ipython",
    "version": 3
   },
   "file_extension": ".py",
   "mimetype": "text/x-python",
   "name": "python",
   "nbconvert_exporter": "python",
   "pygments_lexer": "ipython3",
   "version": "3.7.4"
  }
 },
 "nbformat": 4,
 "nbformat_minor": 2
}
