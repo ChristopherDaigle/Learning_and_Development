{
 "cells": [
  {
   "cell_type": "markdown",
   "metadata": {},
   "source": [
    "# Different Metrics for evaluating ML Model:\n",
    "1. Accuracy: $$\\frac{NumCorrectPred}{Total}$$\n",
    "> * Nice with balanced class data (e.g. equal amount of Zeros and Ones for binomial category)\n",
    "2. Recall: $$\\frac{TruePositivesPred}{TotalPositiveActual}$$\n",
    "> * Measures ability to find all relevant cases\n",
    "3. Precision: $$\\frac{TruePosPred}{TotalPosPred}$$\n",
    "> * Measure of ability to identify ONLY relevant data points\n",
    "4. F1: $$F_{1} = 2 * \\frac{precision * recall}{precision + recall}$$\n",
    "> * Harmonic mean of precision and recall such that a balance of the two can be viewed\n",
    "> * Harmonic mean punishes extreme values\n",
    "> > * e.g. Precision = 1, Recall = 0, Mean = 0.5, F1=0"
   ]
  },
  {
   "cell_type": "markdown",
   "metadata": {},
   "source": [
    "# Confusion Matrix\n",
    "<img src=\"Confusion_Matrix.png\">\n",
    "\n",
    "<img src=\"Confusion_Matrix_w_Metrics.png\">"
   ]
  },
  {
   "cell_type": "code",
   "execution_count": null,
   "metadata": {},
   "outputs": [],
   "source": []
  }
 ],
 "metadata": {
  "kernelspec": {
   "display_name": "Python 3",
   "language": "python",
   "name": "python3"
  },
  "language_info": {
   "codemirror_mode": {
    "name": "ipython",
    "version": 3
   },
   "file_extension": ".py",
   "mimetype": "text/x-python",
   "name": "python",
   "nbconvert_exporter": "python",
   "pygments_lexer": "ipython3",
   "version": "3.7.4"
  }
 },
 "nbformat": 4,
 "nbformat_minor": 2
}
