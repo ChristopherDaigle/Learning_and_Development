{
 "cells": [
  {
   "cell_type": "markdown",
   "metadata": {},
   "source": [
    "# Analysis of height, weight, and sports data"
   ]
  },
  {
   "cell_type": "markdown",
   "metadata": {},
   "source": [
    "### The question:\n",
    "Given heights and weights of various athletes labelled with their respective sports, we would like to predict which sport they are most likely to correspond to"
   ]
  },
  {
   "cell_type": "markdown",
   "metadata": {},
   "source": [
    "## My response:\n",
    "I chose to complete the exercise in Python as we discussed it was your main language employed and to demonstrate that, even though I feel strongest in R, I can work in this language.\n",
    "\n",
    "### Setup\n",
    "I started by downloading the json file and establishing my workspace by importing appropriate libraries.\n",
    "    \n",
    "    For some reason, the json file would not open with Pandas, so I used the json library and evaluated the \n",
    "    data from there.\n",
    "\n",
    "### Importing\n",
    "The data was a dictionary with a single key holding a list of dictionaries. After selecting on the list, I converted the data into two identical Pandas DataFrame.\n",
    "   \n",
    "    I chose to do this after performing summary statistics overview and seeing that the data could be restructured \n",
    "    in a way that may change the outcome of prediction - conditionally setting null values to conditional means\n",
    "    (i.e. E[height,weight|sport]) or dropping those observations altogether\n",
    "\n",
    "### Data Visualization Summary\n",
    "The very first thing I did was visualize the data to get a sense of what I was working with.\n",
    "    \n",
    "    It looked right off that weight is a great way to separate the data\n",
    "\n",
    "### Cleaning\n",
    "To clean the data, I had to address both data sets.\n",
    "    \n",
    "    * Renamed the 'labels' column to 'sport' - made more sense to me\n",
    "    * Checked for null values - made a decision as to what to do with them\n",
    "        * I replaced null value 'sport' with 'unk' (short for unknown) in the event I would later use them\n",
    "    * Checked for outlier values (just visually, I did not calculate mild and extremes - i.e. IQR3-IQR1)\n",
    "        * I addressed values of -1\n",
    "            * Negative values for any of the categories was unreasonable and it was the only value that\n",
    "            observations were valued less than or equal to zero\n",
    "            * After outliers were handled:\n",
    "                * One data set had the conditional mean replace null values\n",
    "                * The other data set had them removed altogether\n",
    "    * After performing these steps, I had balanced data for both data sets\n",
    "    * I created a binary/indicator/dummy variable to indicate if the observation was soccer or not\n",
    "\n",
    "### Model\n",
    "Noting this was a classification problem (\"is an observation likely to be one thing or another\"), I chose to start with naive prediction and then quickly do a logistic regression\n",
    "    \n",
    "    * The Naive Model varied a little from the two data sets - the prediction value was only slightly higher\n",
    "    for the dropped values data set for the same train-test split values\n",
    "    * Logisitc regression is accurate at about the 91% level with both data sets on the same train-test split\n",
    "    values\n",
    "    * I'd like to try more stuff here, but the cleaning aspect took quite a bit of time and, keeping with the\n",
    "    directions of only spending a few hours with it, I will only discuss what I'd like to do:\n",
    "        * Cross-validation\n",
    "        * KNN\n",
    "        * SVM\n",
    "        * Including interaction terms\n",
    "        * Regularize\n",
    "        * ANN - totally remove the personal model selection, use sigmoid/activation functions for selecting a good\n",
    "        hypothesis function, and test on that\n",
    "    \n"
   ]
  },
  {
   "cell_type": "code",
   "execution_count": 1,
   "metadata": {},
   "outputs": [],
   "source": [
    "import numpy as np\n",
    "import pandas as pd\n",
    "import matplotlib.pyplot as plt\n",
    "import seaborn as sns\n",
    "sns.set(style=\"darkgrid\")"
   ]
  },
  {
   "cell_type": "code",
   "execution_count": 3,
   "metadata": {},
   "outputs": [],
   "source": [
    "%matplotlib inline\n",
    "# plt.show() outside of Jupyter"
   ]
  },
  {
   "cell_type": "markdown",
   "metadata": {},
   "source": [
    "## Importing Data"
   ]
  },
  {
   "cell_type": "code",
   "execution_count": 77,
   "metadata": {},
   "outputs": [],
   "source": [
    "import json\n",
    "with open('data.json') as data_file:    \n",
    "    data = json.load(data_file)\n",
    "# Note: Unsure why Pandas won't read this"
   ]
  },
  {
   "cell_type": "code",
   "execution_count": 78,
   "metadata": {
    "scrolled": true
   },
   "outputs": [
    {
     "name": "stdout",
     "output_type": "stream",
     "text": [
      "<class 'dict'>\n"
     ]
    }
   ],
   "source": [
    "print(type(data))\n",
    "# print(data)\n",
    "# Note: the data is a dictionary with a single key with a list of dictionaries\n",
    "#\n",
    "# Get the list of dictionaries out and translate it two DataFrames as I will later use both differently\n",
    "df = pd.DataFrame(data['Data'])\n",
    "df2 = pd.DataFrame(data['Data'])\n",
    "sns.swarmplot(x=\"height\", y=\"weight\",hue='label',data=df, palette=\"Set1\")"
   ]
  },
  {
   "cell_type": "markdown",
   "metadata": {},
   "source": [
    "## Initial Cleaning\n",
    "\n",
    "\n",
    "I make two data sets so as to test two methods:\n",
    "\n",
    "    1: completely balanced based on filling missing values with conditional means\n",
    "    2: null values dropped\n"
   ]
  },
  {
   "cell_type": "code",
   "execution_count": 79,
   "metadata": {},
   "outputs": [
    {
     "name": "stdout",
     "output_type": "stream",
     "text": [
      "df null values\n",
      "height    60\n",
      "label     32\n",
      "weight    60\n",
      "dtype: int64\n",
      "\n",
      "df2 null values\n",
      "height    60\n",
      "label     32\n",
      "weight    60\n",
      "dtype: int64\n",
      "\n",
      "df null values\n",
      "height    33\n",
      "sport      0\n",
      "weight    33\n",
      "dtype: int64\n",
      "\n",
      "df2 null values\n",
      "height    0\n",
      "sport     0\n",
      "weight    0\n",
      "dtype: int64\n",
      "\n",
      "df head\n",
      "     height   sport     weight\n",
      "0 -1.000000  soccer  -1.000000\n",
      "1  1.778782  soccer  77.805331\n",
      "3  1.918350  soccer  78.818063\n",
      "4  1.707444  soccer  78.153438\n",
      "5  1.474477  soccer  71.200179\n",
      "\n",
      "df2 head\n",
      "     height   sport     weight\n",
      "0 -1.000000  soccer  -1.000000\n",
      "1  1.778782  soccer  77.805331\n",
      "3  1.918350  soccer  78.818063\n",
      "4  1.707444  soccer  78.153438\n",
      "5  1.474477  soccer  71.200179\n"
     ]
    }
   ],
   "source": [
    "print('df null values')\n",
    "print(df.isnull().sum())\n",
    "print()\n",
    "print('df2 null values')\n",
    "print(df2.isnull().sum())\n",
    "print()\n",
    "# Give the column a sensical name\n",
    "df.rename(index=str, columns={\"label\": \"sport\"}, inplace= True)\n",
    "df2.rename(index=str, columns={\"label\": \"sport\"}, inplace= True)\n",
    "# Get rid of completely missing data\n",
    "df.drop(df[(df['height'].isnull()) & (df['sport'].isnull()) & (df['weight'].isnull())].index, inplace=True)\n",
    "df2.dropna(inplace=True)\n",
    "# Define a third category of unknown to those sports with missing values\n",
    "df['sport'].fillna('unk', inplace=True)\n",
    "print('df null values')\n",
    "print(df.isnull().sum())\n",
    "print()\n",
    "print('df2 null values')\n",
    "print(df2.isnull().sum())\n",
    "print()\n",
    "\n",
    "print('df head')\n",
    "print(df.head())\n",
    "print()\n",
    "print('df2 head')\n",
    "print(df2.head())"
   ]
  },
  {
   "cell_type": "markdown",
   "metadata": {},
   "source": [
    "##### The first data set still has some null values for height and weight where the second does not"
   ]
  },
  {
   "cell_type": "markdown",
   "metadata": {},
   "source": [
    "## Descriptive Statistics"
   ]
  },
  {
   "cell_type": "code",
   "execution_count": 80,
   "metadata": {
    "scrolled": false
   },
   "outputs": [
    {
     "data": {
      "text/html": [
       "<div>\n",
       "<style scoped>\n",
       "    .dataframe tbody tr th:only-of-type {\n",
       "        vertical-align: middle;\n",
       "    }\n",
       "\n",
       "    .dataframe tbody tr th {\n",
       "        vertical-align: top;\n",
       "    }\n",
       "\n",
       "    .dataframe thead tr th {\n",
       "        text-align: left;\n",
       "    }\n",
       "\n",
       "    .dataframe thead tr:last-of-type th {\n",
       "        text-align: right;\n",
       "    }\n",
       "</style>\n",
       "<table border=\"1\" class=\"dataframe\">\n",
       "  <thead>\n",
       "    <tr>\n",
       "      <th></th>\n",
       "      <th colspan=\"2\" halign=\"left\">count</th>\n",
       "      <th colspan=\"2\" halign=\"left\">mean</th>\n",
       "      <th colspan=\"2\" halign=\"left\">max</th>\n",
       "      <th colspan=\"2\" halign=\"left\">min</th>\n",
       "      <th colspan=\"2\" halign=\"left\">std</th>\n",
       "    </tr>\n",
       "    <tr>\n",
       "      <th></th>\n",
       "      <th>height</th>\n",
       "      <th>weight</th>\n",
       "      <th>height</th>\n",
       "      <th>weight</th>\n",
       "      <th>height</th>\n",
       "      <th>weight</th>\n",
       "      <th>height</th>\n",
       "      <th>weight</th>\n",
       "      <th>height</th>\n",
       "      <th>weight</th>\n",
       "    </tr>\n",
       "    <tr>\n",
       "      <th>sport</th>\n",
       "      <th></th>\n",
       "      <th></th>\n",
       "      <th></th>\n",
       "      <th></th>\n",
       "      <th></th>\n",
       "      <th></th>\n",
       "      <th></th>\n",
       "      <th></th>\n",
       "      <th></th>\n",
       "      <th></th>\n",
       "    </tr>\n",
       "  </thead>\n",
       "  <tbody>\n",
       "    <tr>\n",
       "      <th>basketball</th>\n",
       "      <td>350</td>\n",
       "      <td>350</td>\n",
       "      <td>1.586792</td>\n",
       "      <td>85.923498</td>\n",
       "      <td>2.672603</td>\n",
       "      <td>111.111625</td>\n",
       "      <td>-1.0</td>\n",
       "      <td>-1.0</td>\n",
       "      <td>1.075112</td>\n",
       "      <td>35.810567</td>\n",
       "    </tr>\n",
       "    <tr>\n",
       "      <th>soccer</th>\n",
       "      <td>355</td>\n",
       "      <td>355</td>\n",
       "      <td>1.358371</td>\n",
       "      <td>65.099442</td>\n",
       "      <td>2.375724</td>\n",
       "      <td>89.711234</td>\n",
       "      <td>-1.0</td>\n",
       "      <td>-1.0</td>\n",
       "      <td>1.026890</td>\n",
       "      <td>28.682530</td>\n",
       "    </tr>\n",
       "    <tr>\n",
       "      <th>unk</th>\n",
       "      <td>5</td>\n",
       "      <td>5</td>\n",
       "      <td>-1.000000</td>\n",
       "      <td>-1.000000</td>\n",
       "      <td>-1.000000</td>\n",
       "      <td>-1.000000</td>\n",
       "      <td>-1.0</td>\n",
       "      <td>-1.0</td>\n",
       "      <td>0.000000</td>\n",
       "      <td>0.000000</td>\n",
       "    </tr>\n",
       "  </tbody>\n",
       "</table>\n",
       "</div>"
      ],
      "text/plain": [
       "            count             mean                  max                min  \\\n",
       "           height weight    height     weight    height      weight height   \n",
       "sport                                                                        \n",
       "basketball    350    350  1.586792  85.923498  2.672603  111.111625   -1.0   \n",
       "soccer        355    355  1.358371  65.099442  2.375724   89.711234   -1.0   \n",
       "unk             5      5 -1.000000  -1.000000 -1.000000   -1.000000   -1.0   \n",
       "\n",
       "                        std             \n",
       "           weight    height     weight  \n",
       "sport                                   \n",
       "basketball   -1.0  1.075112  35.810567  \n",
       "soccer       -1.0  1.026890  28.682530  \n",
       "unk          -1.0  0.000000   0.000000  "
      ]
     },
     "execution_count": 80,
     "metadata": {},
     "output_type": "execute_result"
    }
   ],
   "source": [
    "df.pivot_table(values = ['height', 'weight'], index = 'sport', aggfunc=['count', 'mean', 'max','min', 'std'])"
   ]
  },
  {
   "cell_type": "markdown",
   "metadata": {},
   "source": [
    "##### Note: nonsense values, min(height,weight) = -1\n",
    "\n",
    "##### For this data set, I will replace these values with the conditional mean (i.e. E[height,weight|sport])"
   ]
  },
  {
   "cell_type": "code",
   "execution_count": 81,
   "metadata": {},
   "outputs": [
    {
     "data": {
      "text/html": [
       "<div>\n",
       "<style scoped>\n",
       "    .dataframe tbody tr th:only-of-type {\n",
       "        vertical-align: middle;\n",
       "    }\n",
       "\n",
       "    .dataframe tbody tr th {\n",
       "        vertical-align: top;\n",
       "    }\n",
       "\n",
       "    .dataframe thead tr th {\n",
       "        text-align: left;\n",
       "    }\n",
       "\n",
       "    .dataframe thead tr:last-of-type th {\n",
       "        text-align: right;\n",
       "    }\n",
       "</style>\n",
       "<table border=\"1\" class=\"dataframe\">\n",
       "  <thead>\n",
       "    <tr>\n",
       "      <th></th>\n",
       "      <th colspan=\"2\" halign=\"left\">count</th>\n",
       "      <th colspan=\"2\" halign=\"left\">mean</th>\n",
       "      <th colspan=\"2\" halign=\"left\">max</th>\n",
       "      <th colspan=\"2\" halign=\"left\">min</th>\n",
       "      <th colspan=\"2\" halign=\"left\">std</th>\n",
       "    </tr>\n",
       "    <tr>\n",
       "      <th></th>\n",
       "      <th>height</th>\n",
       "      <th>weight</th>\n",
       "      <th>height</th>\n",
       "      <th>weight</th>\n",
       "      <th>height</th>\n",
       "      <th>weight</th>\n",
       "      <th>height</th>\n",
       "      <th>weight</th>\n",
       "      <th>height</th>\n",
       "      <th>weight</th>\n",
       "    </tr>\n",
       "    <tr>\n",
       "      <th>sport</th>\n",
       "      <th></th>\n",
       "      <th></th>\n",
       "      <th></th>\n",
       "      <th></th>\n",
       "      <th></th>\n",
       "      <th></th>\n",
       "      <th></th>\n",
       "      <th></th>\n",
       "      <th></th>\n",
       "      <th></th>\n",
       "    </tr>\n",
       "  </thead>\n",
       "  <tbody>\n",
       "    <tr>\n",
       "      <th>basketball</th>\n",
       "      <td>350</td>\n",
       "      <td>350</td>\n",
       "      <td>1.586792</td>\n",
       "      <td>85.923498</td>\n",
       "      <td>2.672603</td>\n",
       "      <td>111.111625</td>\n",
       "      <td>-1.0</td>\n",
       "      <td>-1.0</td>\n",
       "      <td>1.075112</td>\n",
       "      <td>35.810567</td>\n",
       "    </tr>\n",
       "    <tr>\n",
       "      <th>soccer</th>\n",
       "      <td>355</td>\n",
       "      <td>355</td>\n",
       "      <td>1.358371</td>\n",
       "      <td>65.099442</td>\n",
       "      <td>2.375724</td>\n",
       "      <td>89.711234</td>\n",
       "      <td>-1.0</td>\n",
       "      <td>-1.0</td>\n",
       "      <td>1.026890</td>\n",
       "      <td>28.682530</td>\n",
       "    </tr>\n",
       "  </tbody>\n",
       "</table>\n",
       "</div>"
      ],
      "text/plain": [
       "            count             mean                  max                min  \\\n",
       "           height weight    height     weight    height      weight height   \n",
       "sport                                                                        \n",
       "basketball    350    350  1.586792  85.923498  2.672603  111.111625   -1.0   \n",
       "soccer        355    355  1.358371  65.099442  2.375724   89.711234   -1.0   \n",
       "\n",
       "                        std             \n",
       "           weight    height     weight  \n",
       "sport                                   \n",
       "basketball   -1.0  1.075112  35.810567  \n",
       "soccer       -1.0  1.026890  28.682530  "
      ]
     },
     "execution_count": 81,
     "metadata": {},
     "output_type": "execute_result"
    }
   ],
   "source": [
    "df2.pivot_table(values = ['height', 'weight'], index = 'sport', aggfunc=['count', 'mean', 'max','min', 'std'])\n",
    "# Note: nonsense values, min(height,weight) = -1\n",
    "# For this dataset, I will drop these rows"
   ]
  },
  {
   "cell_type": "markdown",
   "metadata": {},
   "source": [
    "### A little more cleaning\n",
    "\n",
    "* Remove the values of -1\n"
   ]
  },
  {
   "cell_type": "markdown",
   "metadata": {},
   "source": [
    "#### For the first data set"
   ]
  },
  {
   "cell_type": "code",
   "execution_count": 82,
   "metadata": {},
   "outputs": [
    {
     "name": "stdout",
     "output_type": "stream",
     "text": [
      "-1.0    110\n",
      "Name: weight, dtype: int64\n",
      "-1.0    110\n",
      "Name: weight, dtype: int64\n"
     ]
    }
   ],
   "source": [
    "print(df[df['height']<= 0]['weight'].value_counts())\n",
    "print(df[df['weight']<= 0]['weight'].value_counts())"
   ]
  },
  {
   "cell_type": "markdown",
   "metadata": {},
   "source": [
    "##### Only one unique value is present in each that is nonsensical"
   ]
  },
  {
   "cell_type": "code",
   "execution_count": 84,
   "metadata": {},
   "outputs": [
    {
     "name": "stdout",
     "output_type": "stream",
     "text": [
      "Series([], Name: weight, dtype: int64)\n",
      "Series([], Name: weight, dtype: int64)\n"
     ]
    }
   ],
   "source": [
    "df.replace(-1, np.nan, inplace=True)\n",
    "print(df[df['height']<= 0]['weight'].value_counts())\n",
    "print(df[df['weight']<= 0]['weight'].value_counts())"
   ]
  },
  {
   "cell_type": "markdown",
   "metadata": {},
   "source": [
    "##### No minimum value is present in each that is nonsensical"
   ]
  },
  {
   "cell_type": "code",
   "execution_count": 85,
   "metadata": {},
   "outputs": [
    {
     "data": {
      "text/html": [
       "<div>\n",
       "<style scoped>\n",
       "    .dataframe tbody tr th:only-of-type {\n",
       "        vertical-align: middle;\n",
       "    }\n",
       "\n",
       "    .dataframe tbody tr th {\n",
       "        vertical-align: top;\n",
       "    }\n",
       "\n",
       "    .dataframe thead tr th {\n",
       "        text-align: left;\n",
       "    }\n",
       "\n",
       "    .dataframe thead tr:last-of-type th {\n",
       "        text-align: right;\n",
       "    }\n",
       "</style>\n",
       "<table border=\"1\" class=\"dataframe\">\n",
       "  <thead>\n",
       "    <tr>\n",
       "      <th></th>\n",
       "      <th colspan=\"2\" halign=\"left\">count</th>\n",
       "      <th colspan=\"2\" halign=\"left\">mean</th>\n",
       "      <th colspan=\"2\" halign=\"left\">max</th>\n",
       "      <th colspan=\"2\" halign=\"left\">min</th>\n",
       "      <th colspan=\"2\" halign=\"left\">std</th>\n",
       "    </tr>\n",
       "    <tr>\n",
       "      <th></th>\n",
       "      <th>height</th>\n",
       "      <th>weight</th>\n",
       "      <th>height</th>\n",
       "      <th>weight</th>\n",
       "      <th>height</th>\n",
       "      <th>weight</th>\n",
       "      <th>height</th>\n",
       "      <th>weight</th>\n",
       "      <th>height</th>\n",
       "      <th>weight</th>\n",
       "    </tr>\n",
       "    <tr>\n",
       "      <th>sport</th>\n",
       "      <th></th>\n",
       "      <th></th>\n",
       "      <th></th>\n",
       "      <th></th>\n",
       "      <th></th>\n",
       "      <th></th>\n",
       "      <th></th>\n",
       "      <th></th>\n",
       "      <th></th>\n",
       "      <th></th>\n",
       "    </tr>\n",
       "  </thead>\n",
       "  <tbody>\n",
       "    <tr>\n",
       "      <th>basketball</th>\n",
       "      <td>300</td>\n",
       "      <td>300</td>\n",
       "      <td>2.017924</td>\n",
       "      <td>100.410748</td>\n",
       "      <td>2.672603</td>\n",
       "      <td>111.111625</td>\n",
       "      <td>1.497770</td>\n",
       "      <td>85.004918</td>\n",
       "      <td>0.208998</td>\n",
       "      <td>4.771574</td>\n",
       "    </tr>\n",
       "    <tr>\n",
       "      <th>soccer</th>\n",
       "      <td>300</td>\n",
       "      <td>300</td>\n",
       "      <td>1.790739</td>\n",
       "      <td>77.217673</td>\n",
       "      <td>2.375724</td>\n",
       "      <td>89.711234</td>\n",
       "      <td>1.326205</td>\n",
       "      <td>61.667973</td>\n",
       "      <td>0.194458</td>\n",
       "      <td>4.794592</td>\n",
       "    </tr>\n",
       "    <tr>\n",
       "      <th>unk</th>\n",
       "      <td>0</td>\n",
       "      <td>0</td>\n",
       "      <td>NaN</td>\n",
       "      <td>NaN</td>\n",
       "      <td>NaN</td>\n",
       "      <td>NaN</td>\n",
       "      <td>NaN</td>\n",
       "      <td>NaN</td>\n",
       "      <td>NaN</td>\n",
       "      <td>NaN</td>\n",
       "    </tr>\n",
       "  </tbody>\n",
       "</table>\n",
       "</div>"
      ],
      "text/plain": [
       "            count             mean                   max              \\\n",
       "           height weight    height      weight    height      weight   \n",
       "sport                                                                  \n",
       "basketball    300    300  2.017924  100.410748  2.672603  111.111625   \n",
       "soccer        300    300  1.790739   77.217673  2.375724   89.711234   \n",
       "unk             0      0       NaN         NaN       NaN         NaN   \n",
       "\n",
       "                 min                  std            \n",
       "              height     weight    height    weight  \n",
       "sport                                                \n",
       "basketball  1.497770  85.004918  0.208998  4.771574  \n",
       "soccer      1.326205  61.667973  0.194458  4.794592  \n",
       "unk              NaN        NaN       NaN       NaN  "
      ]
     },
     "execution_count": 85,
     "metadata": {},
     "output_type": "execute_result"
    }
   ],
   "source": [
    "df.pivot_table(values = ['height', 'weight'], index = 'sport', aggfunc=['count', 'mean', 'max','min', 'std'])"
   ]
  },
  {
   "cell_type": "code",
   "execution_count": 86,
   "metadata": {},
   "outputs": [
    {
     "name": "stdout",
     "output_type": "stream",
     "text": [
      "height    143\n",
      "sport       0\n",
      "weight    143\n",
      "dtype: int64\n"
     ]
    },
    {
     "data": {
      "text/html": [
       "<div>\n",
       "<style scoped>\n",
       "    .dataframe tbody tr th:only-of-type {\n",
       "        vertical-align: middle;\n",
       "    }\n",
       "\n",
       "    .dataframe tbody tr th {\n",
       "        vertical-align: top;\n",
       "    }\n",
       "\n",
       "    .dataframe thead th {\n",
       "        text-align: right;\n",
       "    }\n",
       "</style>\n",
       "<table border=\"1\" class=\"dataframe\">\n",
       "  <thead>\n",
       "    <tr style=\"text-align: right;\">\n",
       "      <th></th>\n",
       "      <th>height</th>\n",
       "      <th>sport</th>\n",
       "      <th>weight</th>\n",
       "    </tr>\n",
       "  </thead>\n",
       "  <tbody>\n",
       "    <tr>\n",
       "      <th>0</th>\n",
       "      <td>NaN</td>\n",
       "      <td>soccer</td>\n",
       "      <td>NaN</td>\n",
       "    </tr>\n",
       "    <tr>\n",
       "      <th>1</th>\n",
       "      <td>1.778782</td>\n",
       "      <td>soccer</td>\n",
       "      <td>77.805331</td>\n",
       "    </tr>\n",
       "    <tr>\n",
       "      <th>3</th>\n",
       "      <td>1.918350</td>\n",
       "      <td>soccer</td>\n",
       "      <td>78.818063</td>\n",
       "    </tr>\n",
       "    <tr>\n",
       "      <th>4</th>\n",
       "      <td>1.707444</td>\n",
       "      <td>soccer</td>\n",
       "      <td>78.153438</td>\n",
       "    </tr>\n",
       "    <tr>\n",
       "      <th>5</th>\n",
       "      <td>1.474477</td>\n",
       "      <td>soccer</td>\n",
       "      <td>71.200179</td>\n",
       "    </tr>\n",
       "  </tbody>\n",
       "</table>\n",
       "</div>"
      ],
      "text/plain": [
       "     height   sport     weight\n",
       "0       NaN  soccer        NaN\n",
       "1  1.778782  soccer  77.805331\n",
       "3  1.918350  soccer  78.818063\n",
       "4  1.707444  soccer  78.153438\n",
       "5  1.474477  soccer  71.200179"
      ]
     },
     "execution_count": 86,
     "metadata": {},
     "output_type": "execute_result"
    }
   ],
   "source": [
    "print(df.isnull().sum())\n",
    "df[df.isnull()]\n",
    "df.head()"
   ]
  },
  {
   "cell_type": "code",
   "execution_count": 87,
   "metadata": {},
   "outputs": [
    {
     "name": "stdout",
     "output_type": "stream",
     "text": [
      "height    5\n",
      "sport     0\n",
      "weight    5\n",
      "dtype: int64\n",
      "\n",
      "     height sport  weight\n",
      "553     NaN   unk     NaN\n",
      "567     NaN   unk     NaN\n",
      "644     NaN   unk     NaN\n",
      "728     NaN   unk     NaN\n",
      "763     NaN   unk     NaN\n",
      "\n",
      "height    0\n",
      "sport     0\n",
      "weight    0\n",
      "dtype: int64\n",
      "\n",
      "1    371\n",
      "0    367\n",
      "Name: soccer, dtype: int64\n"
     ]
    }
   ],
   "source": [
    "# Filling null values with some conditional values\n",
    "hMeans = df.groupby('sport')['height'].mean()\n",
    "wMeans = df.groupby('sport')['weight'].mean()\n",
    "bMeans = [hMeans[0],wMeans[0]]\n",
    "sMeans = [hMeans[1],wMeans[1]]\n",
    "\n",
    "df.loc[(df['sport'] == 'basketball') & (df['height'].notna() == False), 'height'] = bMeans[0]\n",
    "df.loc[(df['sport'] == 'basketball') & (df['weight'].notna() == False),'weight'] = bMeans[1]\n",
    "df.loc[(df['sport'] == 'soccer') & (df['height'].notna() == False), 'height'] = sMeans[0]\n",
    "df.loc[(df['sport'] == 'soccer') & (df['weight'].notna() == False), 'weight'] = sMeans[1]\n",
    "print(df.isnull().sum())\n",
    "print()\n",
    "print(df[df['height'].isnull()])\n",
    "print()\n",
    "# Note: 5 meaningless rows\n",
    "\n",
    "df.drop(df[df['height'].isnull()].index, inplace=True)\n",
    "print(df.isnull().sum())\n",
    "print()\n",
    "\n",
    "# Setting the data for later analysis - create a binary (dummy) column\n",
    "w = df['sport'] == 'soccer'\n",
    "df['soccer'] = w * 1\n",
    "print(df['soccer'].value_counts())"
   ]
  },
  {
   "cell_type": "markdown",
   "metadata": {},
   "source": [
    "We now have completely balanced data based on replacing NAN in sports with 'unk', replacing NAN for height and weight with the average value when the name of the sport was present (after removing values on the lower bound that didn't make sense, particularly -1), and removing rows where the data was totally null"
   ]
  },
  {
   "cell_type": "markdown",
   "metadata": {},
   "source": [
    "#### For the second dataset"
   ]
  },
  {
   "cell_type": "code",
   "execution_count": 88,
   "metadata": {},
   "outputs": [
    {
     "data": {
      "text/html": [
       "<div>\n",
       "<style scoped>\n",
       "    .dataframe tbody tr th:only-of-type {\n",
       "        vertical-align: middle;\n",
       "    }\n",
       "\n",
       "    .dataframe tbody tr th {\n",
       "        vertical-align: top;\n",
       "    }\n",
       "\n",
       "    .dataframe thead tr th {\n",
       "        text-align: left;\n",
       "    }\n",
       "\n",
       "    .dataframe thead tr:last-of-type th {\n",
       "        text-align: right;\n",
       "    }\n",
       "</style>\n",
       "<table border=\"1\" class=\"dataframe\">\n",
       "  <thead>\n",
       "    <tr>\n",
       "      <th></th>\n",
       "      <th colspan=\"2\" halign=\"left\">count</th>\n",
       "      <th colspan=\"2\" halign=\"left\">mean</th>\n",
       "      <th colspan=\"2\" halign=\"left\">max</th>\n",
       "      <th colspan=\"2\" halign=\"left\">min</th>\n",
       "      <th colspan=\"2\" halign=\"left\">std</th>\n",
       "    </tr>\n",
       "    <tr>\n",
       "      <th></th>\n",
       "      <th>height</th>\n",
       "      <th>weight</th>\n",
       "      <th>height</th>\n",
       "      <th>weight</th>\n",
       "      <th>height</th>\n",
       "      <th>weight</th>\n",
       "      <th>height</th>\n",
       "      <th>weight</th>\n",
       "      <th>height</th>\n",
       "      <th>weight</th>\n",
       "    </tr>\n",
       "    <tr>\n",
       "      <th>sport</th>\n",
       "      <th></th>\n",
       "      <th></th>\n",
       "      <th></th>\n",
       "      <th></th>\n",
       "      <th></th>\n",
       "      <th></th>\n",
       "      <th></th>\n",
       "      <th></th>\n",
       "      <th></th>\n",
       "      <th></th>\n",
       "    </tr>\n",
       "  </thead>\n",
       "  <tbody>\n",
       "    <tr>\n",
       "      <th>basketball</th>\n",
       "      <td>300</td>\n",
       "      <td>300</td>\n",
       "      <td>2.017924</td>\n",
       "      <td>100.410748</td>\n",
       "      <td>2.672603</td>\n",
       "      <td>111.111625</td>\n",
       "      <td>1.497770</td>\n",
       "      <td>85.004918</td>\n",
       "      <td>0.208998</td>\n",
       "      <td>4.771574</td>\n",
       "    </tr>\n",
       "    <tr>\n",
       "      <th>soccer</th>\n",
       "      <td>300</td>\n",
       "      <td>300</td>\n",
       "      <td>1.790739</td>\n",
       "      <td>77.217673</td>\n",
       "      <td>2.375724</td>\n",
       "      <td>89.711234</td>\n",
       "      <td>1.326205</td>\n",
       "      <td>61.667973</td>\n",
       "      <td>0.194458</td>\n",
       "      <td>4.794592</td>\n",
       "    </tr>\n",
       "  </tbody>\n",
       "</table>\n",
       "</div>"
      ],
      "text/plain": [
       "            count             mean                   max              \\\n",
       "           height weight    height      weight    height      weight   \n",
       "sport                                                                  \n",
       "basketball    300    300  2.017924  100.410748  2.672603  111.111625   \n",
       "soccer        300    300  1.790739   77.217673  2.375724   89.711234   \n",
       "\n",
       "                 min                  std            \n",
       "              height     weight    height    weight  \n",
       "sport                                                \n",
       "basketball  1.497770  85.004918  0.208998  4.771574  \n",
       "soccer      1.326205  61.667973  0.194458  4.794592  "
      ]
     },
     "execution_count": 88,
     "metadata": {},
     "output_type": "execute_result"
    }
   ],
   "source": [
    "df2 = df2[(df2['height']>= 0) | (df2['weight']>= 0)]\n",
    "df2.pivot_table(values = ['height', 'weight'], index = 'sport', aggfunc=['count', 'mean', 'max','min', 'std'])"
   ]
  },
  {
   "cell_type": "code",
   "execution_count": 89,
   "metadata": {},
   "outputs": [
    {
     "name": "stdout",
     "output_type": "stream",
     "text": [
      "height    0\n",
      "sport     0\n",
      "weight    0\n",
      "dtype: int64\n",
      "\n",
      "1    300\n",
      "0    300\n",
      "Name: soccer, dtype: int64\n"
     ]
    }
   ],
   "source": [
    "print(df2.isnull().sum())\n",
    "print()\n",
    "\n",
    "w = df2['sport'] == 'soccer'\n",
    "df2['soccer'] = w * 1\n",
    "print(df2['soccer'].value_counts())"
   ]
  },
  {
   "cell_type": "markdown",
   "metadata": {},
   "source": [
    "Both the first and the second dataset are both ready for analysis"
   ]
  },
  {
   "cell_type": "markdown",
   "metadata": {},
   "source": [
    "### Back to some descriptive stats before we fit a model - First Data Set"
   ]
  },
  {
   "cell_type": "code",
   "execution_count": 90,
   "metadata": {},
   "outputs": [
    {
     "data": {
      "text/html": [
       "<div>\n",
       "<style scoped>\n",
       "    .dataframe tbody tr th:only-of-type {\n",
       "        vertical-align: middle;\n",
       "    }\n",
       "\n",
       "    .dataframe tbody tr th {\n",
       "        vertical-align: top;\n",
       "    }\n",
       "\n",
       "    .dataframe thead tr th {\n",
       "        text-align: left;\n",
       "    }\n",
       "\n",
       "    .dataframe thead tr:last-of-type th {\n",
       "        text-align: right;\n",
       "    }\n",
       "</style>\n",
       "<table border=\"1\" class=\"dataframe\">\n",
       "  <thead>\n",
       "    <tr>\n",
       "      <th></th>\n",
       "      <th colspan=\"2\" halign=\"left\">count</th>\n",
       "      <th colspan=\"2\" halign=\"left\">mean</th>\n",
       "      <th colspan=\"2\" halign=\"left\">max</th>\n",
       "      <th colspan=\"2\" halign=\"left\">min</th>\n",
       "      <th colspan=\"2\" halign=\"left\">std</th>\n",
       "    </tr>\n",
       "    <tr>\n",
       "      <th></th>\n",
       "      <th>height</th>\n",
       "      <th>weight</th>\n",
       "      <th>height</th>\n",
       "      <th>weight</th>\n",
       "      <th>height</th>\n",
       "      <th>weight</th>\n",
       "      <th>height</th>\n",
       "      <th>weight</th>\n",
       "      <th>height</th>\n",
       "      <th>weight</th>\n",
       "    </tr>\n",
       "    <tr>\n",
       "      <th>sport</th>\n",
       "      <th></th>\n",
       "      <th></th>\n",
       "      <th></th>\n",
       "      <th></th>\n",
       "      <th></th>\n",
       "      <th></th>\n",
       "      <th></th>\n",
       "      <th></th>\n",
       "      <th></th>\n",
       "      <th></th>\n",
       "    </tr>\n",
       "  </thead>\n",
       "  <tbody>\n",
       "    <tr>\n",
       "      <th>basketball</th>\n",
       "      <td>367</td>\n",
       "      <td>367</td>\n",
       "      <td>2.017924</td>\n",
       "      <td>100.410748</td>\n",
       "      <td>2.672603</td>\n",
       "      <td>111.111625</td>\n",
       "      <td>1.497770</td>\n",
       "      <td>85.004918</td>\n",
       "      <td>0.188902</td>\n",
       "      <td>4.312774</td>\n",
       "    </tr>\n",
       "    <tr>\n",
       "      <th>soccer</th>\n",
       "      <td>371</td>\n",
       "      <td>371</td>\n",
       "      <td>1.790739</td>\n",
       "      <td>77.217673</td>\n",
       "      <td>2.375724</td>\n",
       "      <td>89.711234</td>\n",
       "      <td>1.326205</td>\n",
       "      <td>61.667973</td>\n",
       "      <td>0.174808</td>\n",
       "      <td>4.310090</td>\n",
       "    </tr>\n",
       "  </tbody>\n",
       "</table>\n",
       "</div>"
      ],
      "text/plain": [
       "            count             mean                   max              \\\n",
       "           height weight    height      weight    height      weight   \n",
       "sport                                                                  \n",
       "basketball    367    367  2.017924  100.410748  2.672603  111.111625   \n",
       "soccer        371    371  1.790739   77.217673  2.375724   89.711234   \n",
       "\n",
       "                 min                  std            \n",
       "              height     weight    height    weight  \n",
       "sport                                                \n",
       "basketball  1.497770  85.004918  0.188902  4.312774  \n",
       "soccer      1.326205  61.667973  0.174808  4.310090  "
      ]
     },
     "execution_count": 90,
     "metadata": {},
     "output_type": "execute_result"
    }
   ],
   "source": [
    "df.pivot_table(values = ['height', 'weight'], index = 'sport', aggfunc=['count', 'mean', 'max','min', 'std'])"
   ]
  },
  {
   "cell_type": "code",
   "execution_count": 91,
   "metadata": {},
   "outputs": [
    {
     "data": {
      "text/html": [
       "<div>\n",
       "<style scoped>\n",
       "    .dataframe tbody tr th:only-of-type {\n",
       "        vertical-align: middle;\n",
       "    }\n",
       "\n",
       "    .dataframe tbody tr th {\n",
       "        vertical-align: top;\n",
       "    }\n",
       "\n",
       "    .dataframe thead th {\n",
       "        text-align: right;\n",
       "    }\n",
       "</style>\n",
       "<table border=\"1\" class=\"dataframe\">\n",
       "  <thead>\n",
       "    <tr style=\"text-align: right;\">\n",
       "      <th></th>\n",
       "      <th>sport</th>\n",
       "      <th>basketball</th>\n",
       "      <th>soccer</th>\n",
       "    </tr>\n",
       "  </thead>\n",
       "  <tbody>\n",
       "    <tr>\n",
       "      <th rowspan=\"8\" valign=\"top\">height</th>\n",
       "      <th>count</th>\n",
       "      <td>367.000000</td>\n",
       "      <td>371.000000</td>\n",
       "    </tr>\n",
       "    <tr>\n",
       "      <th>mean</th>\n",
       "      <td>2.017924</td>\n",
       "      <td>1.790739</td>\n",
       "    </tr>\n",
       "    <tr>\n",
       "      <th>std</th>\n",
       "      <td>0.188902</td>\n",
       "      <td>0.174808</td>\n",
       "    </tr>\n",
       "    <tr>\n",
       "      <th>min</th>\n",
       "      <td>1.497770</td>\n",
       "      <td>1.326205</td>\n",
       "    </tr>\n",
       "    <tr>\n",
       "      <th>25%</th>\n",
       "      <td>1.917316</td>\n",
       "      <td>1.697083</td>\n",
       "    </tr>\n",
       "    <tr>\n",
       "      <th>50%</th>\n",
       "      <td>2.017924</td>\n",
       "      <td>1.790739</td>\n",
       "    </tr>\n",
       "    <tr>\n",
       "      <th>75%</th>\n",
       "      <td>2.134373</td>\n",
       "      <td>1.896312</td>\n",
       "    </tr>\n",
       "    <tr>\n",
       "      <th>max</th>\n",
       "      <td>2.672603</td>\n",
       "      <td>2.375724</td>\n",
       "    </tr>\n",
       "    <tr>\n",
       "      <th rowspan=\"8\" valign=\"top\">weight</th>\n",
       "      <th>count</th>\n",
       "      <td>367.000000</td>\n",
       "      <td>371.000000</td>\n",
       "    </tr>\n",
       "    <tr>\n",
       "      <th>mean</th>\n",
       "      <td>100.410748</td>\n",
       "      <td>77.217673</td>\n",
       "    </tr>\n",
       "    <tr>\n",
       "      <th>std</th>\n",
       "      <td>4.312774</td>\n",
       "      <td>4.310090</td>\n",
       "    </tr>\n",
       "    <tr>\n",
       "      <th>min</th>\n",
       "      <td>85.004918</td>\n",
       "      <td>61.667973</td>\n",
       "    </tr>\n",
       "    <tr>\n",
       "      <th>25%</th>\n",
       "      <td>98.046750</td>\n",
       "      <td>75.092996</td>\n",
       "    </tr>\n",
       "    <tr>\n",
       "      <th>50%</th>\n",
       "      <td>100.410748</td>\n",
       "      <td>77.217673</td>\n",
       "    </tr>\n",
       "    <tr>\n",
       "      <th>75%</th>\n",
       "      <td>103.148128</td>\n",
       "      <td>80.145839</td>\n",
       "    </tr>\n",
       "    <tr>\n",
       "      <th>max</th>\n",
       "      <td>111.111625</td>\n",
       "      <td>89.711234</td>\n",
       "    </tr>\n",
       "  </tbody>\n",
       "</table>\n",
       "</div>"
      ],
      "text/plain": [
       "sport         basketball      soccer\n",
       "height count  367.000000  371.000000\n",
       "       mean     2.017924    1.790739\n",
       "       std      0.188902    0.174808\n",
       "       min      1.497770    1.326205\n",
       "       25%      1.917316    1.697083\n",
       "       50%      2.017924    1.790739\n",
       "       75%      2.134373    1.896312\n",
       "       max      2.672603    2.375724\n",
       "weight count  367.000000  371.000000\n",
       "       mean   100.410748   77.217673\n",
       "       std      4.312774    4.310090\n",
       "       min     85.004918   61.667973\n",
       "       25%     98.046750   75.092996\n",
       "       50%    100.410748   77.217673\n",
       "       75%    103.148128   80.145839\n",
       "       max    111.111625   89.711234"
      ]
     },
     "execution_count": 91,
     "metadata": {},
     "output_type": "execute_result"
    }
   ],
   "source": [
    "df[['sport', 'height', 'weight']].groupby('sport').describe().transpose()"
   ]
  },
  {
   "cell_type": "code",
   "execution_count": 92,
   "metadata": {},
   "outputs": [
    {
     "data": {
      "text/plain": [
       "<matplotlib.axes._subplots.AxesSubplot at 0x2539c777518>"
      ]
     },
     "execution_count": 92,
     "metadata": {},
     "output_type": "execute_result"
    },
    {
     "data": {
      "image/png": "[encoded data removed]",
      "text/plain": [
       "<Figure size 432x288 with 1 Axes>"
      ]
     },
     "metadata": {},
     "output_type": "display_data"
    }
   ],
   "source": [
    "sns.swarmplot(x=\"height\", y=\"weight\",hue='sport',data=df, palette=\"coolwarm\")"
   ]
  },
  {
   "cell_type": "markdown",
   "metadata": {},
   "source": [
    "It appears weight separates the data quite nicely"
   ]
  },
  {
   "cell_type": "code",
   "execution_count": 93,
   "metadata": {},
   "outputs": [
    {
     "data": {
      "text/html": [
       "<div>\n",
       "<style scoped>\n",
       "    .dataframe tbody tr th:only-of-type {\n",
       "        vertical-align: middle;\n",
       "    }\n",
       "\n",
       "    .dataframe tbody tr th {\n",
       "        vertical-align: top;\n",
       "    }\n",
       "\n",
       "    .dataframe thead th {\n",
       "        text-align: right;\n",
       "    }\n",
       "</style>\n",
       "<table border=\"1\" class=\"dataframe\">\n",
       "  <thead>\n",
       "    <tr style=\"text-align: right;\">\n",
       "      <th></th>\n",
       "      <th>height</th>\n",
       "      <th>weight</th>\n",
       "    </tr>\n",
       "  </thead>\n",
       "  <tbody>\n",
       "    <tr>\n",
       "      <th>height</th>\n",
       "      <td>1.000000</td>\n",
       "      <td>0.487134</td>\n",
       "    </tr>\n",
       "    <tr>\n",
       "      <th>weight</th>\n",
       "      <td>0.487134</td>\n",
       "      <td>1.000000</td>\n",
       "    </tr>\n",
       "  </tbody>\n",
       "</table>\n",
       "</div>"
      ],
      "text/plain": [
       "          height    weight\n",
       "height  1.000000  0.487134\n",
       "weight  0.487134  1.000000"
      ]
     },
     "execution_count": 93,
     "metadata": {},
     "output_type": "execute_result"
    }
   ],
   "source": [
    "df[['height','weight','sport']].corr(method='pearson')"
   ]
  },
  {
   "cell_type": "code",
   "execution_count": 20,
   "metadata": {},
   "outputs": [
    {
     "data": {
      "text/plain": [
       "<matplotlib.axes._subplots.AxesSubplot at 0x25396e4ce10>"
      ]
     },
     "execution_count": 20,
     "metadata": {},
     "output_type": "execute_result"
    },
    {
     "data": {
      "image/png": "[encoded data removed]",
      "text/plain": [
       "<Figure size 432x288 with 1 Axes>"
      ]
     },
     "metadata": {},
     "output_type": "display_data"
    }
   ],
   "source": [
    "sns.swarmplot(x=\"weight\", y=\"soccer\",hue='sport',data=df, palette=\"coolwarm\")"
   ]
  },
  {
   "cell_type": "code",
   "execution_count": 21,
   "metadata": {},
   "outputs": [
    {
     "data": {
      "text/plain": [
       "<matplotlib.axes._subplots.AxesSubplot at 0x2539934c9b0>"
      ]
     },
     "execution_count": 21,
     "metadata": {},
     "output_type": "execute_result"
    },
    {
     "data": {
      "image/png": "[encoded data removed]",
      "text/plain": [
       "<Figure size 432x288 with 3 Axes>"
      ]
     },
     "metadata": {},
     "output_type": "display_data"
    }
   ],
   "source": [
    "plt.subplot(3, 1, 1)\n",
    "sns.swarmplot(x=\"height\", y=\"weight\",hue='sport',data=df, palette='coolwarm',size=5)\n",
    "plt.subplot(3, 1, 2)\n",
    "sns.swarmplot(x=\"weight\", y=\"soccer\",hue='sport',data=df, palette='coolwarm',size=5)\n",
    "plt.subplot(3, 1, 3)\n",
    "sns.swarmplot(x=\"height\", y=\"soccer\",hue='sport',data=df, palette='coolwarm',size=5)"
   ]
  },
  {
   "cell_type": "markdown",
   "metadata": {},
   "source": [
    "It appears weight is fairly independent of height and separates the data quite nicely"
   ]
  },
  {
   "cell_type": "markdown",
   "metadata": {},
   "source": [
    "## Model Fitting"
   ]
  },
  {
   "cell_type": "markdown",
   "metadata": {},
   "source": [
    "SVM (rbf)"
   ]
  },
  {
   "cell_type": "code",
   "execution_count": 1,
   "metadata": {},
   "outputs": [],
   "source": [
    "from sklearn import preprocessing\n",
    "from sklearn.pipeline import make_pipeline\n",
    "from sklearn.model_selection import GridSearchCV\n",
    "from sklearn.metrics import mean_squared_error, r2_score\n",
    "from sklearn.externals import joblib\n",
    "from sklearn import svm"
   ]
  },
  {
   "cell_type": "code",
   "execution_count": 96,
   "metadata": {},
   "outputs": [
    {
     "data": {
      "text/html": [
       "<div>\n",
       "<style scoped>\n",
       "    .dataframe tbody tr th:only-of-type {\n",
       "        vertical-align: middle;\n",
       "    }\n",
       "\n",
       "    .dataframe tbody tr th {\n",
       "        vertical-align: top;\n",
       "    }\n",
       "\n",
       "    .dataframe thead th {\n",
       "        text-align: right;\n",
       "    }\n",
       "</style>\n",
       "<table border=\"1\" class=\"dataframe\">\n",
       "  <thead>\n",
       "    <tr style=\"text-align: right;\">\n",
       "      <th></th>\n",
       "      <th>height</th>\n",
       "      <th>sport</th>\n",
       "      <th>weight</th>\n",
       "      <th>soccer</th>\n",
       "    </tr>\n",
       "  </thead>\n",
       "  <tbody>\n",
       "    <tr>\n",
       "      <th>0</th>\n",
       "      <td>1.790739</td>\n",
       "      <td>soccer</td>\n",
       "      <td>77.217673</td>\n",
       "      <td>1</td>\n",
       "    </tr>\n",
       "    <tr>\n",
       "      <th>1</th>\n",
       "      <td>1.778782</td>\n",
       "      <td>soccer</td>\n",
       "      <td>77.805331</td>\n",
       "      <td>1</td>\n",
       "    </tr>\n",
       "    <tr>\n",
       "      <th>3</th>\n",
       "      <td>1.918350</td>\n",
       "      <td>soccer</td>\n",
       "      <td>78.818063</td>\n",
       "      <td>1</td>\n",
       "    </tr>\n",
       "    <tr>\n",
       "      <th>4</th>\n",
       "      <td>1.707444</td>\n",
       "      <td>soccer</td>\n",
       "      <td>78.153438</td>\n",
       "      <td>1</td>\n",
       "    </tr>\n",
       "    <tr>\n",
       "      <th>5</th>\n",
       "      <td>1.474477</td>\n",
       "      <td>soccer</td>\n",
       "      <td>71.200179</td>\n",
       "      <td>1</td>\n",
       "    </tr>\n",
       "  </tbody>\n",
       "</table>\n",
       "</div>"
      ],
      "text/plain": [
       "     height   sport     weight  soccer\n",
       "0  1.790739  soccer  77.217673       1\n",
       "1  1.778782  soccer  77.805331       1\n",
       "3  1.918350  soccer  78.818063       1\n",
       "4  1.707444  soccer  78.153438       1\n",
       "5  1.474477  soccer  71.200179       1"
      ]
     },
     "execution_count": 96,
     "metadata": {},
     "output_type": "execute_result"
    }
   ],
   "source": [
    "df3 = df\n",
    "df3.head()"
   ]
  },
  {
   "cell_type": "code",
   "execution_count": 98,
   "metadata": {},
   "outputs": [],
   "source": [
    "# partition data (80/20)\n",
    "# random_state sets seed for reproduction of results\n",
    "# stratify on target (df['soccer']): ensures training set and testing set look similar\n",
    "x_train, x_test, y_train, y_test = train_test_split(df3[['weight', 'height']], df3['soccer'], test_size = 0.2, random_state = 123, stratify = df3['soccer'])"
   ]
  },
  {
   "cell_type": "code",
   "execution_count": 99,
   "metadata": {},
   "outputs": [
    {
     "name": "stdout",
     "output_type": "stream",
     "text": [
      "[-6.80434993e-16 -7.49682802e-16]\n",
      "[1. 1.]\n"
     ]
    }
   ],
   "source": [
    "# standardization that can be reproduced on training and testing sets by saving means \n",
    "# and standard deviations from training set standardization\n",
    "scaler = preprocessing.StandardScaler().fit(x_train)\n",
    "# confirm standardization\n",
    "x_train_scaled = scaler.transform(x_train)\n",
    "print(x_train_scaled.mean(axis = 0))\n",
    "print(x_train_scaled.std(axis = 0))"
   ]
  },
  {
   "cell_type": "code",
   "execution_count": 100,
   "metadata": {},
   "outputs": [
    {
     "name": "stdout",
     "output_type": "stream",
     "text": [
      "[0.01878658 0.10081032]\n",
      "[1.01084138 1.0396855 ]\n"
     ]
    }
   ],
   "source": [
    "# apply transformer to testing set\n",
    "x_test_scaled = scaler.transform(x_test)\n",
    "# confirm standardization\n",
    "print(x_test_scaled.mean(axis = 0))\n",
    "print(x_test_scaled.std(axis = 0))"
   ]
  },
  {
   "cell_type": "code",
   "execution_count": 101,
   "metadata": {},
   "outputs": [],
   "source": [
    "# pipeline with preprocessing and model\n",
    "pipeline = make_pipeline(preprocessing.StandardScaler(), svm.SVC())"
   ]
  },
  {
   "cell_type": "code",
   "execution_count": 102,
   "metadata": {},
   "outputs": [
    {
     "name": "stdout",
     "output_type": "stream",
     "text": [
      "{'memory': None, 'steps': [('standardscaler', StandardScaler(copy=True, with_mean=True, with_std=True)), ('svc', SVC(C=1.0, cache_size=200, class_weight=None, coef0=0.0,\n",
      "  decision_function_shape='ovr', degree=3, gamma='auto', kernel='rbf',\n",
      "  max_iter=-1, probability=False, random_state=None, shrinking=True,\n",
      "  tol=0.001, verbose=False))], 'standardscaler': StandardScaler(copy=True, with_mean=True, with_std=True), 'svc': SVC(C=1.0, cache_size=200, class_weight=None, coef0=0.0,\n",
      "  decision_function_shape='ovr', degree=3, gamma='auto', kernel='rbf',\n",
      "  max_iter=-1, probability=False, random_state=None, shrinking=True,\n",
      "  tol=0.001, verbose=False), 'standardscaler__copy': True, 'standardscaler__with_mean': True, 'standardscaler__with_std': True, 'svc__C': 1.0, 'svc__cache_size': 200, 'svc__class_weight': None, 'svc__coef0': 0.0, 'svc__decision_function_shape': 'ovr', 'svc__degree': 3, 'svc__gamma': 'auto', 'svc__kernel': 'rbf', 'svc__max_iter': -1, 'svc__probability': False, 'svc__random_state': None, 'svc__shrinking': True, 'svc__tol': 0.001, 'svc__verbose': False}\n"
     ]
    }
   ],
   "source": [
    "# print tunable hyperparameters\n",
    "print(pipeline.get_params())"
   ]
  },
  {
   "cell_type": "code",
   "execution_count": 103,
   "metadata": {},
   "outputs": [],
   "source": [
    "# declare desired hyperparameters\n",
    "hyperparameters = {\"svc__kernel\" : [\"linear\", \"poly\", \"rbf\", \"sigmoid\"],\n",
    "                  \"svc__max_iter\": [50,100, 200]}"
   ]
  },
  {
   "cell_type": "code",
   "execution_count": 104,
   "metadata": {},
   "outputs": [
    {
     "name": "stderr",
     "output_type": "stream",
     "text": [
      "C:\\Users\\ljb14001\\AppData\\Local\\Continuum\\anaconda3\\lib\\site-packages\\sklearn\\svm\\base.py:218: ConvergenceWarning: Solver terminated early (max_iter=50).  Consider pre-processing your data with StandardScaler or MinMaxScaler.\n",
      "  % self.max_iter, ConvergenceWarning)\n",
      "C:\\Users\\ljb14001\\AppData\\Local\\Continuum\\anaconda3\\lib\\site-packages\\sklearn\\svm\\base.py:218: ConvergenceWarning: Solver terminated early (max_iter=50).  Consider pre-processing your data with StandardScaler or MinMaxScaler.\n",
      "  % self.max_iter, ConvergenceWarning)\n",
      "C:\\Users\\ljb14001\\AppData\\Local\\Continuum\\anaconda3\\lib\\site-packages\\sklearn\\svm\\base.py:218: ConvergenceWarning: Solver terminated early (max_iter=50).  Consider pre-processing your data with StandardScaler or MinMaxScaler.\n",
      "  % self.max_iter, ConvergenceWarning)\n",
      "C:\\Users\\ljb14001\\AppData\\Local\\Continuum\\anaconda3\\lib\\site-packages\\sklearn\\svm\\base.py:218: ConvergenceWarning: Solver terminated early (max_iter=50).  Consider pre-processing your data with StandardScaler or MinMaxScaler.\n",
      "  % self.max_iter, ConvergenceWarning)\n",
      "C:\\Users\\ljb14001\\AppData\\Local\\Continuum\\anaconda3\\lib\\site-packages\\sklearn\\svm\\base.py:218: ConvergenceWarning: Solver terminated early (max_iter=50).  Consider pre-processing your data with StandardScaler or MinMaxScaler.\n",
      "  % self.max_iter, ConvergenceWarning)\n",
      "C:\\Users\\ljb14001\\AppData\\Local\\Continuum\\anaconda3\\lib\\site-packages\\sklearn\\svm\\base.py:218: ConvergenceWarning: Solver terminated early (max_iter=50).  Consider pre-processing your data with StandardScaler or MinMaxScaler.\n",
      "  % self.max_iter, ConvergenceWarning)\n",
      "C:\\Users\\ljb14001\\AppData\\Local\\Continuum\\anaconda3\\lib\\site-packages\\sklearn\\svm\\base.py:218: ConvergenceWarning: Solver terminated early (max_iter=50).  Consider pre-processing your data with StandardScaler or MinMaxScaler.\n",
      "  % self.max_iter, ConvergenceWarning)\n",
      "C:\\Users\\ljb14001\\AppData\\Local\\Continuum\\anaconda3\\lib\\site-packages\\sklearn\\svm\\base.py:218: ConvergenceWarning: Solver terminated early (max_iter=50).  Consider pre-processing your data with StandardScaler or MinMaxScaler.\n",
      "  % self.max_iter, ConvergenceWarning)\n",
      "C:\\Users\\ljb14001\\AppData\\Local\\Continuum\\anaconda3\\lib\\site-packages\\sklearn\\svm\\base.py:218: ConvergenceWarning: Solver terminated early (max_iter=50).  Consider pre-processing your data with StandardScaler or MinMaxScaler.\n",
      "  % self.max_iter, ConvergenceWarning)\n",
      "C:\\Users\\ljb14001\\AppData\\Local\\Continuum\\anaconda3\\lib\\site-packages\\sklearn\\svm\\base.py:218: ConvergenceWarning: Solver terminated early (max_iter=50).  Consider pre-processing your data with StandardScaler or MinMaxScaler.\n",
      "  % self.max_iter, ConvergenceWarning)\n",
      "C:\\Users\\ljb14001\\AppData\\Local\\Continuum\\anaconda3\\lib\\site-packages\\sklearn\\svm\\base.py:218: ConvergenceWarning: Solver terminated early (max_iter=50).  Consider pre-processing your data with StandardScaler or MinMaxScaler.\n",
      "  % self.max_iter, ConvergenceWarning)\n",
      "C:\\Users\\ljb14001\\AppData\\Local\\Continuum\\anaconda3\\lib\\site-packages\\sklearn\\svm\\base.py:218: ConvergenceWarning: Solver terminated early (max_iter=50).  Consider pre-processing your data with StandardScaler or MinMaxScaler.\n",
      "  % self.max_iter, ConvergenceWarning)\n",
      "C:\\Users\\ljb14001\\AppData\\Local\\Continuum\\anaconda3\\lib\\site-packages\\sklearn\\svm\\base.py:218: ConvergenceWarning: Solver terminated early (max_iter=50).  Consider pre-processing your data with StandardScaler or MinMaxScaler.\n",
      "  % self.max_iter, ConvergenceWarning)\n",
      "C:\\Users\\ljb14001\\AppData\\Local\\Continuum\\anaconda3\\lib\\site-packages\\sklearn\\svm\\base.py:218: ConvergenceWarning: Solver terminated early (max_iter=50).  Consider pre-processing your data with StandardScaler or MinMaxScaler.\n",
      "  % self.max_iter, ConvergenceWarning)\n",
      "C:\\Users\\ljb14001\\AppData\\Local\\Continuum\\anaconda3\\lib\\site-packages\\sklearn\\svm\\base.py:218: ConvergenceWarning: Solver terminated early (max_iter=50).  Consider pre-processing your data with StandardScaler or MinMaxScaler.\n",
      "  % self.max_iter, ConvergenceWarning)\n",
      "C:\\Users\\ljb14001\\AppData\\Local\\Continuum\\anaconda3\\lib\\site-packages\\sklearn\\svm\\base.py:218: ConvergenceWarning: Solver terminated early (max_iter=50).  Consider pre-processing your data with StandardScaler or MinMaxScaler.\n",
      "  % self.max_iter, ConvergenceWarning)\n",
      "C:\\Users\\ljb14001\\AppData\\Local\\Continuum\\anaconda3\\lib\\site-packages\\sklearn\\svm\\base.py:218: ConvergenceWarning: Solver terminated early (max_iter=50).  Consider pre-processing your data with StandardScaler or MinMaxScaler.\n",
      "  % self.max_iter, ConvergenceWarning)\n",
      "C:\\Users\\ljb14001\\AppData\\Local\\Continuum\\anaconda3\\lib\\site-packages\\sklearn\\svm\\base.py:218: ConvergenceWarning: Solver terminated early (max_iter=100).  Consider pre-processing your data with StandardScaler or MinMaxScaler.\n",
      "  % self.max_iter, ConvergenceWarning)\n",
      "C:\\Users\\ljb14001\\AppData\\Local\\Continuum\\anaconda3\\lib\\site-packages\\sklearn\\svm\\base.py:218: ConvergenceWarning: Solver terminated early (max_iter=50).  Consider pre-processing your data with StandardScaler or MinMaxScaler.\n",
      "  % self.max_iter, ConvergenceWarning)\n",
      "C:\\Users\\ljb14001\\AppData\\Local\\Continuum\\anaconda3\\lib\\site-packages\\sklearn\\svm\\base.py:218: ConvergenceWarning: Solver terminated early (max_iter=50).  Consider pre-processing your data with StandardScaler or MinMaxScaler.\n",
      "  % self.max_iter, ConvergenceWarning)\n",
      "C:\\Users\\ljb14001\\AppData\\Local\\Continuum\\anaconda3\\lib\\site-packages\\sklearn\\svm\\base.py:218: ConvergenceWarning: Solver terminated early (max_iter=50).  Consider pre-processing your data with StandardScaler or MinMaxScaler.\n",
      "  % self.max_iter, ConvergenceWarning)\n",
      "C:\\Users\\ljb14001\\AppData\\Local\\Continuum\\anaconda3\\lib\\site-packages\\sklearn\\svm\\base.py:218: ConvergenceWarning: Solver terminated early (max_iter=50).  Consider pre-processing your data with StandardScaler or MinMaxScaler.\n",
      "  % self.max_iter, ConvergenceWarning)\n",
      "C:\\Users\\ljb14001\\AppData\\Local\\Continuum\\anaconda3\\lib\\site-packages\\sklearn\\svm\\base.py:218: ConvergenceWarning: Solver terminated early (max_iter=50).  Consider pre-processing your data with StandardScaler or MinMaxScaler.\n",
      "  % self.max_iter, ConvergenceWarning)\n",
      "C:\\Users\\ljb14001\\AppData\\Local\\Continuum\\anaconda3\\lib\\site-packages\\sklearn\\svm\\base.py:218: ConvergenceWarning: Solver terminated early (max_iter=50).  Consider pre-processing your data with StandardScaler or MinMaxScaler.\n",
      "  % self.max_iter, ConvergenceWarning)\n",
      "C:\\Users\\ljb14001\\AppData\\Local\\Continuum\\anaconda3\\lib\\site-packages\\sklearn\\svm\\base.py:218: ConvergenceWarning: Solver terminated early (max_iter=50).  Consider pre-processing your data with StandardScaler or MinMaxScaler.\n",
      "  % self.max_iter, ConvergenceWarning)\n",
      "C:\\Users\\ljb14001\\AppData\\Local\\Continuum\\anaconda3\\lib\\site-packages\\sklearn\\svm\\base.py:218: ConvergenceWarning: Solver terminated early (max_iter=50).  Consider pre-processing your data with StandardScaler or MinMaxScaler.\n",
      "  % self.max_iter, ConvergenceWarning)\n",
      "C:\\Users\\ljb14001\\AppData\\Local\\Continuum\\anaconda3\\lib\\site-packages\\sklearn\\svm\\base.py:218: ConvergenceWarning: Solver terminated early (max_iter=50).  Consider pre-processing your data with StandardScaler or MinMaxScaler.\n",
      "  % self.max_iter, ConvergenceWarning)\n",
      "C:\\Users\\ljb14001\\AppData\\Local\\Continuum\\anaconda3\\lib\\site-packages\\sklearn\\svm\\base.py:218: ConvergenceWarning: Solver terminated early (max_iter=50).  Consider pre-processing your data with StandardScaler or MinMaxScaler.\n",
      "  % self.max_iter, ConvergenceWarning)\n",
      "C:\\Users\\ljb14001\\AppData\\Local\\Continuum\\anaconda3\\lib\\site-packages\\sklearn\\svm\\base.py:218: ConvergenceWarning: Solver terminated early (max_iter=100).  Consider pre-processing your data with StandardScaler or MinMaxScaler.\n",
      "  % self.max_iter, ConvergenceWarning)\n",
      "C:\\Users\\ljb14001\\AppData\\Local\\Continuum\\anaconda3\\lib\\site-packages\\sklearn\\svm\\base.py:218: ConvergenceWarning: Solver terminated early (max_iter=100).  Consider pre-processing your data with StandardScaler or MinMaxScaler.\n",
      "  % self.max_iter, ConvergenceWarning)\n",
      "C:\\Users\\ljb14001\\AppData\\Local\\Continuum\\anaconda3\\lib\\site-packages\\sklearn\\svm\\base.py:218: ConvergenceWarning: Solver terminated early (max_iter=100).  Consider pre-processing your data with StandardScaler or MinMaxScaler.\n",
      "  % self.max_iter, ConvergenceWarning)\n",
      "C:\\Users\\ljb14001\\AppData\\Local\\Continuum\\anaconda3\\lib\\site-packages\\sklearn\\svm\\base.py:218: ConvergenceWarning: Solver terminated early (max_iter=100).  Consider pre-processing your data with StandardScaler or MinMaxScaler.\n",
      "  % self.max_iter, ConvergenceWarning)\n",
      "C:\\Users\\ljb14001\\AppData\\Local\\Continuum\\anaconda3\\lib\\site-packages\\sklearn\\svm\\base.py:218: ConvergenceWarning: Solver terminated early (max_iter=50).  Consider pre-processing your data with StandardScaler or MinMaxScaler.\n",
      "  % self.max_iter, ConvergenceWarning)\n"
     ]
    },
    {
     "name": "stdout",
     "output_type": "stream",
     "text": [
      "{'svc__kernel': 'rbf', 'svc__max_iter': 50}\n"
     ]
    },
    {
     "name": "stderr",
     "output_type": "stream",
     "text": [
      "C:\\Users\\ljb14001\\AppData\\Local\\Continuum\\anaconda3\\lib\\site-packages\\sklearn\\svm\\base.py:218: ConvergenceWarning: Solver terminated early (max_iter=50).  Consider pre-processing your data with StandardScaler or MinMaxScaler.\n",
      "  % self.max_iter, ConvergenceWarning)\n"
     ]
    }
   ],
   "source": [
    "# tune model using cross-validation pipeline\n",
    "clf = GridSearchCV(pipeline, hyperparameters, cv = 10)\n",
    "# fit and tune model\n",
    "clf.fit(x_train_scaled, y_train)\n",
    "# print best set of parameters\n",
    "print(clf.best_params_)"
   ]
  },
  {
   "cell_type": "code",
   "execution_count": 105,
   "metadata": {},
   "outputs": [
    {
     "name": "stdout",
     "output_type": "stream",
     "text": [
      "True\n"
     ]
    }
   ],
   "source": [
    "# refit on entire training set\n",
    "print(clf.refit)"
   ]
  },
  {
   "cell_type": "code",
   "execution_count": 106,
   "metadata": {},
   "outputs": [],
   "source": [
    "# evaluate model pipeline on test data\n",
    "# predict new set of data\n",
    "y_pred = clf.predict(x_test_scaled)"
   ]
  },
  {
   "cell_type": "code",
   "execution_count": 107,
   "metadata": {},
   "outputs": [
    {
     "name": "stdout",
     "output_type": "stream",
     "text": [
      "1.0\n",
      "0.0\n"
     ]
    }
   ],
   "source": [
    "# evaluate model performance\n",
    "print(r2_score(y_test, y_pred))\n",
    "print(mean_squared_error(y_test, y_pred))"
   ]
  },
  {
   "cell_type": "code",
   "execution_count": 108,
   "metadata": {},
   "outputs": [
    {
     "data": {
      "text/plain": [
       "['svm.pkl']"
      ]
     },
     "execution_count": 108,
     "metadata": {},
     "output_type": "execute_result"
    }
   ],
   "source": [
    "# save model for future use\n",
    "joblib.dump(clf, \"svm.pkl\")"
   ]
  },
  {
   "cell_type": "code",
   "execution_count": 109,
   "metadata": {},
   "outputs": [],
   "source": [
    "# to load model again\n",
    "clf = joblib.load(\"svm.pkl\")\n",
    "# predict data set using loaded model\n",
    "predictions = clf.predict(x_test_scaled)"
   ]
  },
  {
   "cell_type": "code",
   "execution_count": 110,
   "metadata": {},
   "outputs": [
    {
     "name": "stdout",
     "output_type": "stream",
     "text": [
      "1.0\n"
     ]
    }
   ],
   "source": [
    "# cross-validate\n",
    "score = 0\n",
    "for i in range(len(predictions)):\n",
    "    if predictions[i] == y_test[i]:\n",
    "        score += 1\n",
    "print(score/len(predictions))"
   ]
  },
  {
   "cell_type": "code",
   "execution_count": 111,
   "metadata": {
    "scrolled": false
   },
   "outputs": [
    {
     "data": {
      "image/png": "[encoded data removed]",
      "text/plain": [
       "<Figure size 432x288 with 1 Axes>"
      ]
     },
     "metadata": {},
     "output_type": "display_data"
    }
   ],
   "source": [
    "# decision boundary from linear SVM using principal components as measure along axes\n",
    "h = 0.01\n",
    "x_min, x_max = x_train_scaled[:,0].min() - 1, x_train_scaled[:,0].max() + 1\n",
    "y_min, y_max = x_train_scaled[:,1].min() - 1, x_train_scaled[:,1].max() + 1\n",
    "xx, yy = np.meshgrid(np.arange(x_min, x_max, h), np.arange(y_min, y_max, h))\n",
    "Z = clf.predict(np.c_[xx.ravel(), yy.ravel()])\n",
    "Z = Z.reshape(xx.shape)\n",
    "plt.contourf(xx,yy,Z,cmap = plt.cm.coolwarm, alpha = 0.8)\n",
    "plt.scatter(x_train_scaled[:,0], x_train_scaled[:,1], c = y_train, cmap = plt.cm.coolwarm, s = 20, edgecolors = 'k')\n",
    "plt.show()"
   ]
  },
  {
   "cell_type": "markdown",
   "metadata": {},
   "source": [
    "(60/40) split for SVM (linear)"
   ]
  },
  {
   "cell_type": "code",
   "execution_count": 113,
   "metadata": {},
   "outputs": [],
   "source": [
    "# partition data (60/40)\n",
    "# random_state sets seed for reproduction of results\n",
    "# stratify on target (df['sport']): ensures training set and testing set look similar\n",
    "x_train1, x_test1, y_train1, y_test1 = train_test_split(df3[['weight', 'height']], df3['soccer'], test_size = 0.4, random_state = 123, stratify = df3['soccer'])"
   ]
  },
  {
   "cell_type": "code",
   "execution_count": 115,
   "metadata": {},
   "outputs": [
    {
     "name": "stdout",
     "output_type": "stream",
     "text": [
      "[ 4.40070303e-16 -5.18438987e-16]\n",
      "[1. 1.]\n"
     ]
    }
   ],
   "source": [
    "# standardization that can be reproduced on training and testing sets by saving means \n",
    "# and standard deviations from training set standardization\n",
    "scaler = preprocessing.StandardScaler().fit(x_train1)\n",
    "# confirm standardization\n",
    "x_train_scaled1 = scaler.transform(x_train1)\n",
    "print(x_train_scaled1.mean(axis = 0))\n",
    "print(x_train_scaled1.std(axis = 0))"
   ]
  },
  {
   "cell_type": "code",
   "execution_count": 116,
   "metadata": {},
   "outputs": [
    {
     "name": "stdout",
     "output_type": "stream",
     "text": [
      "[0.00155636 0.04509763]\n",
      "[1.00189317 1.0257095 ]\n"
     ]
    }
   ],
   "source": [
    "# apply transformer to testing set\n",
    "x_test_scaled1 = scaler.transform(x_test1)\n",
    "# confirm standardization\n",
    "print(x_test_scaled1.mean(axis = 0))\n",
    "print(x_test_scaled1.std(axis = 0))"
   ]
  },
  {
   "cell_type": "code",
   "execution_count": 118,
   "metadata": {},
   "outputs": [],
   "source": [
    "# pipeline with preprocessing and model\n",
    "pipeline1 = make_pipeline(preprocessing.StandardScaler(), svm.SVC())"
   ]
  },
  {
   "cell_type": "code",
   "execution_count": 120,
   "metadata": {},
   "outputs": [
    {
     "name": "stdout",
     "output_type": "stream",
     "text": [
      "{'memory': None, 'steps': [('standardscaler', StandardScaler(copy=True, with_mean=True, with_std=True)), ('svc', SVC(C=1.0, cache_size=200, class_weight=None, coef0=0.0,\n",
      "  decision_function_shape='ovr', degree=3, gamma='auto', kernel='rbf',\n",
      "  max_iter=-1, probability=False, random_state=None, shrinking=True,\n",
      "  tol=0.001, verbose=False))], 'standardscaler': StandardScaler(copy=True, with_mean=True, with_std=True), 'svc': SVC(C=1.0, cache_size=200, class_weight=None, coef0=0.0,\n",
      "  decision_function_shape='ovr', degree=3, gamma='auto', kernel='rbf',\n",
      "  max_iter=-1, probability=False, random_state=None, shrinking=True,\n",
      "  tol=0.001, verbose=False), 'standardscaler__copy': True, 'standardscaler__with_mean': True, 'standardscaler__with_std': True, 'svc__C': 1.0, 'svc__cache_size': 200, 'svc__class_weight': None, 'svc__coef0': 0.0, 'svc__decision_function_shape': 'ovr', 'svc__degree': 3, 'svc__gamma': 'auto', 'svc__kernel': 'rbf', 'svc__max_iter': -1, 'svc__probability': False, 'svc__random_state': None, 'svc__shrinking': True, 'svc__tol': 0.001, 'svc__verbose': False}\n"
     ]
    }
   ],
   "source": [
    "# print tunable hyperparameters\n",
    "print(pipeline1.get_params())"
   ]
  },
  {
   "cell_type": "code",
   "execution_count": 121,
   "metadata": {},
   "outputs": [],
   "source": [
    "# declare desired hyperparameters\n",
    "hyperparameters = {\"svc__kernel\" : [\"linear\", \"poly\", \"rbf\", \"sigmoid\"],\n",
    "                  \"svc__max_iter\": [50, 100, 200]}"
   ]
  },
  {
   "cell_type": "code",
   "execution_count": 122,
   "metadata": {},
   "outputs": [
    {
     "name": "stderr",
     "output_type": "stream",
     "text": [
      "C:\\Users\\ljb14001\\AppData\\Local\\Continuum\\anaconda3\\lib\\site-packages\\sklearn\\svm\\base.py:218: ConvergenceWarning: Solver terminated early (max_iter=50).  Consider pre-processing your data with StandardScaler or MinMaxScaler.\n",
      "  % self.max_iter, ConvergenceWarning)\n",
      "C:\\Users\\ljb14001\\AppData\\Local\\Continuum\\anaconda3\\lib\\site-packages\\sklearn\\svm\\base.py:218: ConvergenceWarning: Solver terminated early (max_iter=50).  Consider pre-processing your data with StandardScaler or MinMaxScaler.\n",
      "  % self.max_iter, ConvergenceWarning)\n",
      "C:\\Users\\ljb14001\\AppData\\Local\\Continuum\\anaconda3\\lib\\site-packages\\sklearn\\svm\\base.py:218: ConvergenceWarning: Solver terminated early (max_iter=50).  Consider pre-processing your data with StandardScaler or MinMaxScaler.\n",
      "  % self.max_iter, ConvergenceWarning)\n",
      "C:\\Users\\ljb14001\\AppData\\Local\\Continuum\\anaconda3\\lib\\site-packages\\sklearn\\svm\\base.py:218: ConvergenceWarning: Solver terminated early (max_iter=50).  Consider pre-processing your data with StandardScaler or MinMaxScaler.\n",
      "  % self.max_iter, ConvergenceWarning)\n",
      "C:\\Users\\ljb14001\\AppData\\Local\\Continuum\\anaconda3\\lib\\site-packages\\sklearn\\svm\\base.py:218: ConvergenceWarning: Solver terminated early (max_iter=50).  Consider pre-processing your data with StandardScaler or MinMaxScaler.\n",
      "  % self.max_iter, ConvergenceWarning)\n",
      "C:\\Users\\ljb14001\\AppData\\Local\\Continuum\\anaconda3\\lib\\site-packages\\sklearn\\svm\\base.py:218: ConvergenceWarning: Solver terminated early (max_iter=100).  Consider pre-processing your data with StandardScaler or MinMaxScaler.\n",
      "  % self.max_iter, ConvergenceWarning)\n",
      "C:\\Users\\ljb14001\\AppData\\Local\\Continuum\\anaconda3\\lib\\site-packages\\sklearn\\svm\\base.py:218: ConvergenceWarning: Solver terminated early (max_iter=50).  Consider pre-processing your data with StandardScaler or MinMaxScaler.\n",
      "  % self.max_iter, ConvergenceWarning)\n",
      "C:\\Users\\ljb14001\\AppData\\Local\\Continuum\\anaconda3\\lib\\site-packages\\sklearn\\svm\\base.py:218: ConvergenceWarning: Solver terminated early (max_iter=50).  Consider pre-processing your data with StandardScaler or MinMaxScaler.\n",
      "  % self.max_iter, ConvergenceWarning)\n",
      "C:\\Users\\ljb14001\\AppData\\Local\\Continuum\\anaconda3\\lib\\site-packages\\sklearn\\svm\\base.py:218: ConvergenceWarning: Solver terminated early (max_iter=50).  Consider pre-processing your data with StandardScaler or MinMaxScaler.\n",
      "  % self.max_iter, ConvergenceWarning)\n",
      "C:\\Users\\ljb14001\\AppData\\Local\\Continuum\\anaconda3\\lib\\site-packages\\sklearn\\svm\\base.py:218: ConvergenceWarning: Solver terminated early (max_iter=50).  Consider pre-processing your data with StandardScaler or MinMaxScaler.\n",
      "  % self.max_iter, ConvergenceWarning)\n",
      "C:\\Users\\ljb14001\\AppData\\Local\\Continuum\\anaconda3\\lib\\site-packages\\sklearn\\svm\\base.py:218: ConvergenceWarning: Solver terminated early (max_iter=50).  Consider pre-processing your data with StandardScaler or MinMaxScaler.\n",
      "  % self.max_iter, ConvergenceWarning)\n",
      "C:\\Users\\ljb14001\\AppData\\Local\\Continuum\\anaconda3\\lib\\site-packages\\sklearn\\svm\\base.py:218: ConvergenceWarning: Solver terminated early (max_iter=50).  Consider pre-processing your data with StandardScaler or MinMaxScaler.\n",
      "  % self.max_iter, ConvergenceWarning)\n",
      "C:\\Users\\ljb14001\\AppData\\Local\\Continuum\\anaconda3\\lib\\site-packages\\sklearn\\svm\\base.py:218: ConvergenceWarning: Solver terminated early (max_iter=50).  Consider pre-processing your data with StandardScaler or MinMaxScaler.\n",
      "  % self.max_iter, ConvergenceWarning)\n",
      "C:\\Users\\ljb14001\\AppData\\Local\\Continuum\\anaconda3\\lib\\site-packages\\sklearn\\svm\\base.py:218: ConvergenceWarning: Solver terminated early (max_iter=50).  Consider pre-processing your data with StandardScaler or MinMaxScaler.\n",
      "  % self.max_iter, ConvergenceWarning)\n",
      "C:\\Users\\ljb14001\\AppData\\Local\\Continuum\\anaconda3\\lib\\site-packages\\sklearn\\svm\\base.py:218: ConvergenceWarning: Solver terminated early (max_iter=50).  Consider pre-processing your data with StandardScaler or MinMaxScaler.\n",
      "  % self.max_iter, ConvergenceWarning)\n",
      "C:\\Users\\ljb14001\\AppData\\Local\\Continuum\\anaconda3\\lib\\site-packages\\sklearn\\svm\\base.py:218: ConvergenceWarning: Solver terminated early (max_iter=50).  Consider pre-processing your data with StandardScaler or MinMaxScaler.\n",
      "  % self.max_iter, ConvergenceWarning)\n",
      "C:\\Users\\ljb14001\\AppData\\Local\\Continuum\\anaconda3\\lib\\site-packages\\sklearn\\svm\\base.py:218: ConvergenceWarning: Solver terminated early (max_iter=50).  Consider pre-processing your data with StandardScaler or MinMaxScaler.\n",
      "  % self.max_iter, ConvergenceWarning)\n",
      "C:\\Users\\ljb14001\\AppData\\Local\\Continuum\\anaconda3\\lib\\site-packages\\sklearn\\svm\\base.py:218: ConvergenceWarning: Solver terminated early (max_iter=50).  Consider pre-processing your data with StandardScaler or MinMaxScaler.\n",
      "  % self.max_iter, ConvergenceWarning)\n",
      "C:\\Users\\ljb14001\\AppData\\Local\\Continuum\\anaconda3\\lib\\site-packages\\sklearn\\svm\\base.py:218: ConvergenceWarning: Solver terminated early (max_iter=50).  Consider pre-processing your data with StandardScaler or MinMaxScaler.\n",
      "  % self.max_iter, ConvergenceWarning)\n",
      "C:\\Users\\ljb14001\\AppData\\Local\\Continuum\\anaconda3\\lib\\site-packages\\sklearn\\svm\\base.py:218: ConvergenceWarning: Solver terminated early (max_iter=100).  Consider pre-processing your data with StandardScaler or MinMaxScaler.\n",
      "  % self.max_iter, ConvergenceWarning)\n",
      "C:\\Users\\ljb14001\\AppData\\Local\\Continuum\\anaconda3\\lib\\site-packages\\sklearn\\svm\\base.py:218: ConvergenceWarning: Solver terminated early (max_iter=50).  Consider pre-processing your data with StandardScaler or MinMaxScaler.\n",
      "  % self.max_iter, ConvergenceWarning)\n",
      "C:\\Users\\ljb14001\\AppData\\Local\\Continuum\\anaconda3\\lib\\site-packages\\sklearn\\svm\\base.py:218: ConvergenceWarning: Solver terminated early (max_iter=50).  Consider pre-processing your data with StandardScaler or MinMaxScaler.\n",
      "  % self.max_iter, ConvergenceWarning)\n"
     ]
    },
    {
     "name": "stdout",
     "output_type": "stream",
     "text": [
      "{'svc__kernel': 'linear', 'svc__max_iter': 50}\n"
     ]
    }
   ],
   "source": [
    "# tune model using cross-validation pipeline\n",
    "clf1 = GridSearchCV(pipeline, hyperparameters, cv = 10)\n",
    "# fit and tune model\n",
    "clf1.fit(x_train_scaled1, y_train1)\n",
    "# print best set of parameters\n",
    "print(clf1.best_params_)"
   ]
  },
  {
   "cell_type": "code",
   "execution_count": 123,
   "metadata": {},
   "outputs": [
    {
     "name": "stdout",
     "output_type": "stream",
     "text": [
      "True\n"
     ]
    }
   ],
   "source": [
    "# refit on entire training set\n",
    "print(clf1.refit)"
   ]
  },
  {
   "cell_type": "code",
   "execution_count": 124,
   "metadata": {},
   "outputs": [],
   "source": [
    "# evaluate model pipeline on test data\n",
    "# predict new set of data\n",
    "y_pred1 = clf1.predict(x_test_scaled1)"
   ]
  },
  {
   "cell_type": "code",
   "execution_count": 125,
   "metadata": {},
   "outputs": [
    {
     "name": "stdout",
     "output_type": "stream",
     "text": [
      "0.9864858695155915\n",
      "0.0033783783783783786\n"
     ]
    }
   ],
   "source": [
    "# evaluate model performance\n",
    "print(r2_score(y_test1, y_pred1))\n",
    "print(mean_squared_error(y_test1, y_pred1))"
   ]
  },
  {
   "cell_type": "code",
   "execution_count": 126,
   "metadata": {},
   "outputs": [
    {
     "data": {
      "text/plain": [
       "['svm1.pkl']"
      ]
     },
     "execution_count": 126,
     "metadata": {},
     "output_type": "execute_result"
    }
   ],
   "source": [
    "# save model for future use\n",
    "joblib.dump(clf1, \"svm1.pkl\")"
   ]
  },
  {
   "cell_type": "code",
   "execution_count": 127,
   "metadata": {},
   "outputs": [],
   "source": [
    "# to load model again\n",
    "clf = joblib.load(\"svm1.pkl\")\n",
    "# predict data set using loaded model\n",
    "predictions1 = clf1.predict(x_test_scaled1)"
   ]
  },
  {
   "cell_type": "code",
   "execution_count": 128,
   "metadata": {},
   "outputs": [
    {
     "name": "stdout",
     "output_type": "stream",
     "text": [
      "0.9966216216216216\n"
     ]
    }
   ],
   "source": [
    "# cross-validate\n",
    "score = 0\n",
    "for i in range(len(predictions1)):\n",
    "    if predictions1[i] == y_test1[i]:\n",
    "        score += 1\n",
    "print(score/len(predictions1))"
   ]
  },
  {
   "cell_type": "code",
   "execution_count": 129,
   "metadata": {},
   "outputs": [
    {
     "data": {
      "image/png": "[encoded data removed]",
      "text/plain": [
       "<Figure size 432x288 with 1 Axes>"
      ]
     },
     "metadata": {},
     "output_type": "display_data"
    }
   ],
   "source": [
    "# decision boundary from linear SVM\n",
    "h1 = 0.01\n",
    "x_min1, x_max1 = x_train_scaled1[:,0].min() - 1, x_train_scaled1[:,0].max() + 1\n",
    "y_min1, y_max1 = x_train_scaled1[:,1].min() - 1, x_train_scaled1[:,1].max() + 1\n",
    "xx1, yy1 = np.meshgrid(np.arange(x_min1, x_max1, h1), np.arange(y_min1, y_max1, h1))\n",
    "Z1 = clf1.predict(np.c_[xx1.ravel(), yy1.ravel()])\n",
    "Z1 = Z1.reshape(xx1.shape)\n",
    "plt.contourf(xx1,yy1,Z1,cmap = plt.cm.coolwarm, alpha = 0.8)\n",
    "plt.scatter(x_train_scaled1[:,0], x_train_scaled1[:,1], c = y_train1, cmap = plt.cm.coolwarm, s = 20, edgecolors = 'k')\n",
    "plt.show()"
   ]
  },
  {
   "cell_type": "code",
   "execution_count": null,
   "metadata": {},
   "outputs": [],
   "source": []
  }
 ],
 "metadata": {
  "kernelspec": {
   "display_name": "Python 3",
   "language": "python",
   "name": "python3"
  },
  "language_info": {
   "codemirror_mode": {
    "name": "ipython",
    "version": 3
   },
   "file_extension": ".py",
   "mimetype": "text/x-python",
   "name": "python",
   "nbconvert_exporter": "python",
   "pygments_lexer": "ipython3",
   "version": "3.6.5"
  }
 },
 "nbformat": 4,
 "nbformat_minor": 2
}
