{
 "cells": [
  {
   "cell_type": "markdown",
   "metadata": {},
   "source": [
    "# Christopher Daigle\n",
    "## Homework 1 - Convex Optimization with Python"
   ]
  },
  {
   "cell_type": "markdown",
   "metadata": {},
   "source": [
    "### Question 1: Even-Odd Vending Machine.\n",
    "Try writing an “even-odd vending machine”, which will take a number as input and do two things:\n",
    "\n",
    "    (a) Print whether the number is even or odd.\n",
    "\n",
    "    (b) Display the number followed by the next 9 even or odd numbers.\n",
    "\n",
    "Your program should use the is_integer() method to display an error message if the input is a number with significant digits beyong the decimal point.\n"
   ]
  },
  {
   "cell_type": "code",
   "execution_count": 1,
   "metadata": {},
   "outputs": [
    {
     "name": "stdout",
     "output_type": "stream",
     "text": [
      "Please enter an integer: 7\n",
      "The value 7 is odd and the next 9 odd digits are [9, 11, 13, 15, 17, 19, 21, 23, 25]\n"
     ]
    }
   ],
   "source": [
    "def evenOddVendingMachine():\n",
    "    x = int(input('Please enter an integer: '))\n",
    "    y = list(range(x+1,x+19))\n",
    "\n",
    "    even = [i for i in y if i%2==0]\n",
    "    odd = [i for i in y if i%2==1]\n",
    "\n",
    "    if x%2==0:\n",
    "        print('The value {} is even and the next 9 even digits are {}'.format(x,even))\n",
    "    else:\n",
    "        print('The value {} is odd and the next 9 odd digits are {}'.format(x,odd))\n",
    "\n",
    "\n",
    "evenOddVendingMachine()"
   ]
  },
  {
   "cell_type": "markdown",
   "metadata": {},
   "source": [
    "### Question 2: Enhanced Multiplication Table Generator.\n",
    "Enhance the multiplication table generator so that the user can specify both the number and up to which multiple. Incorporate the suggestion of #5."
   ]
  },
  {
   "cell_type": "code",
   "execution_count": 2,
   "metadata": {},
   "outputs": [
    {
     "name": "stdout",
     "output_type": "stream",
     "text": [
      "Enter an integer to multiply: 5\n",
      "Enter an integer to multiply up to: 7\n",
      "5 x 1 = 5\n",
      "5 x 2 = 10\n",
      "5 x 3 = 15\n",
      "5 x 4 = 20\n",
      "5 x 5 = 25\n",
      "5 x 6 = 30\n",
      "5 x 7 = 35\n"
     ]
    }
   ],
   "source": [
    "a = int(input('Enter an integer to multiply: '))\n",
    "b = int(input('Enter an integer to multiply up to: '))\n",
    "for i in range(1,b+1):\n",
    "    print('{0} x {1} = {2}'.format(a, i, a*i))"
   ]
  },
  {
   "cell_type": "code",
   "execution_count": null,
   "metadata": {},
   "outputs": [],
   "source": []
  },
  {
   "cell_type": "markdown",
   "metadata": {},
   "source": [
    "## TRYING THE SUGGESTED METHOD OF USING ISINTEGER AND MAKING CHOICES\n",
    "\n",
    "UNSUCCESSFUL BUT CLOSE"
   ]
  },
  {
   "cell_type": "code",
   "execution_count": 10,
   "metadata": {},
   "outputs": [
    {
     "name": "stdout",
     "output_type": "stream",
     "text": [
      "Enter an integer: 5\n",
      "The value 5 is odd and the next 9 odd digits are [7, 9, 11, 13, 15, 17, 19, 21, 23]\n"
     ]
    }
   ],
   "source": [
    "def getNum():\n",
    "    '''\n",
    "    Request user input an integer, checks and ensures the value is an integer, returns the integer\n",
    "    '''\n",
    "    x = input('Enter an integer: ')\n",
    "    try:\n",
    "        if float(x).is_integer():\n",
    "        # Using: if x.isdigit() is a better method as it checks a string and I'm requesting a string with input()\n",
    "            return int(x)\n",
    "    except:\n",
    "        return getNum()\n",
    "\n",
    "def evenOddVendingMachine(x):\n",
    "\n",
    "    y = list(range(x+1,x+19))\n",
    "\n",
    "    even = [i for i in y if i%2==0]\n",
    "    odd = [i for i in y if i%2==1]\n",
    "\n",
    "    if x%2==0:\n",
    "        print('The value {} is even and the next 9 even digits are {}'.format(x,even))\n",
    "    else:\n",
    "        print('The value {} is odd and the next 9 odd digits are {}'.format(x,odd))\n",
    "\n",
    "try:\n",
    "    evenOddVendingMachine(getNum())\n",
    "except:\n",
    "    print('PROBLEM')"
   ]
  },
  {
   "cell_type": "code",
   "execution_count": 7,
   "metadata": {},
   "outputs": [
    {
     "name": "stdout",
     "output_type": "stream",
     "text": [
      "Enter an integer to multiply: 6\n",
      "Enter an integer to multiply up to: 6\n",
      "6 x 1 = 6\n",
      "6 x 2 = 12\n",
      "6 x 3 = 18\n",
      "6 x 4 = 24\n",
      "6 x 5 = 30\n",
      "6 x 6 = 36\n"
     ]
    }
   ],
   "source": [
    "def multGenTable():\n",
    "    a = int(input('Enter an integer to multiply: '))\n",
    "    b = int(input('Enter an integer to multiply up to: '))\n",
    "    \n",
    "    for i in range(1,b+1):\n",
    "        print('{0} x {1} = {2}'.format(a, i, a*i))\n",
    "\n",
    "        \n",
    "multGenTable()"
   ]
  },
  {
   "cell_type": "code",
   "execution_count": null,
   "metadata": {},
   "outputs": [
    {
     "name": "stdout",
     "output_type": "stream",
     "text": [
      "Which application would you like to use?\n",
      "1. Even-Odd Vending Machine\n",
      "2. Enhanced Multiplication Table Generator\n",
      "3. Quit\n",
      "Please choose the number of your choice: 1\n",
      "Enter an integer: 4\n",
      "Which application would you like to use?\n",
      "1. Even-Odd Vending Machine\n",
      "2. Enhanced Multiplication Table Generator\n",
      "3. Quit\n"
     ]
    }
   ],
   "source": [
    "def choose():\n",
    "    choice = 0\n",
    "    while choice not in [1, 2, 3]: # loops and constantly asks the user for an input until they provide an acceptable choice\n",
    "        try: # catches an error and displays corrective instruction\n",
    "            print(\"Which application would you like to use?\")\n",
    "            print(\"1. Even-Odd Vending Machine\")\n",
    "            print(\"2. Enhanced Multiplication Table Generator\")\n",
    "            print(\"3. Quit\")\n",
    "            choice = int(input(\"Please choose the number of your choice: \"))\n",
    "            if choice == 1:\n",
    "                getNum()\n",
    "                evenOddVendingMachine(x)\n",
    "                print(\"Would you like to try again?\")\n",
    "                again = input(\"Type (y) for yes, otherwise the program will close.: \").lower()\n",
    "                if again == 'y': # gives the user the option to continue using the program\n",
    "                    choose()\n",
    "            elif choice == 2:\n",
    "                multGenTable()\n",
    "                print(\"Would you like to try again?\")\n",
    "                again = input(\"Type (y) for yes, otherwise the program will close: \").lower()\n",
    "                if again == 'y':\n",
    "                    choose()\n",
    "            elif choice == 3:\n",
    "                break\n",
    "        except ValueError:\n",
    "            print(\"You must choose from the available options!\")\n",
    "try:\n",
    "    choose()\n",
    "except:\n",
    "    choose()"
   ]
  },
  {
   "cell_type": "code",
   "execution_count": null,
   "metadata": {},
   "outputs": [],
   "source": []
  },
  {
   "cell_type": "code",
   "execution_count": null,
   "metadata": {},
   "outputs": [],
   "source": []
  },
  {
   "cell_type": "code",
   "execution_count": null,
   "metadata": {},
   "outputs": [],
   "source": []
  },
  {
   "cell_type": "code",
   "execution_count": null,
   "metadata": {},
   "outputs": [],
   "source": []
  },
  {
   "cell_type": "code",
   "execution_count": null,
   "metadata": {},
   "outputs": [],
   "source": []
  }
 ],
 "metadata": {
  "kernelspec": {
   "display_name": "Python 3",
   "language": "python",
   "name": "python3"
  },
  "language_info": {
   "codemirror_mode": {
    "name": "ipython",
    "version": 3
   },
   "file_extension": ".py",
   "mimetype": "text/x-python",
   "name": "python",
   "nbconvert_exporter": "python",
   "pygments_lexer": "ipython3",
   "version": "3.6.5"
  }
 },
 "nbformat": 4,
 "nbformat_minor": 2
}
