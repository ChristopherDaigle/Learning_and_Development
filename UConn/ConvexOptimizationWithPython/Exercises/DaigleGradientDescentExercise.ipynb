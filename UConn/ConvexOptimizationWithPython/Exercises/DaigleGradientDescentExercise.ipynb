{
 "cells": [
  {
   "cell_type": "markdown",
   "metadata": {},
   "source": [
    "1. Adapt the Gradient_univ for polynomial 2x**2 +2x +1\n",
    "2. Adapt the program for x**4"
   ]
  },
  {
   "cell_type": "code",
   "execution_count": 39,
   "metadata": {},
   "outputs": [
    {
     "name": "stdout",
     "output_type": "stream",
     "text": [
      "Number of iterations: 1725 value of theta: -0.497515157940205\n"
     ]
    },
    {
     "data": {
      "image/png": "[encoded data removed]",
      "text/plain": [
       "<Figure size 432x288 with 1 Axes>"
      ]
     },
     "metadata": {
      "needs_background": "light"
     },
     "output_type": "display_data"
    }
   ],
   "source": [
    "from sympy import *\n",
    "from sympy.matrices import Matrix\n",
    "import numpy as np\n",
    "from matplotlib import pyplot as plt\n",
    "\n",
    "x = Symbol('x')\n",
    "\n",
    "# Function\n",
    "y = 2*x**2 +2*x + 1\n",
    "# First derivative with respect to x\n",
    "yprime = y.diff(x)\n",
    "\n",
    "\n",
    "# Initial sequence\n",
    "theta = 2\n",
    "theta2 = 0\n",
    "\n",
    "# Initiale the step size\n",
    "alpha = .001\n",
    "\n",
    "iterations = 0\n",
    "check = 0\n",
    "precision = 1/100000\n",
    "iterationsMax = 100000\n",
    "\n",
    "while True:\n",
    "    theta2 = theta - alpha*yprime.evalf(subs={x:theta})\n",
    "    iterations += 1\n",
    "    \n",
    "    # If we make too much iterations our program\n",
    "    # stops and we need to check it to be sure the\n",
    "    # parameters are correct and it is working properly\n",
    "    if iterations > iterationsMax:\n",
    "        print(\"Too many iterations\")\n",
    "        break\n",
    "        \n",
    "    if abs(theta - theta2) < precision:\n",
    "        break\n",
    "    \n",
    "    theta = theta2\n",
    "\n",
    "\n",
    "print(\"Number of iterations:\",iterations,\"value of theta:\",theta2,sep=\" \")\n",
    "plt.plot(theta,y.evalf(subs={x:theta}),marker='o',color='r')\n",
    "space = np.linspace(-5,5,100)\n",
    "data = np.array([y.evalf(subs={x: value}) for value in space])\n",
    "plt.plot(space, data)\n",
    "plt.show()"
   ]
  },
  {
   "cell_type": "code",
   "execution_count": 6,
   "metadata": {},
   "outputs": [
    {
     "name": "stdout",
     "output_type": "stream",
     "text": [
      "Number of iterations: 14306 value of theta: 0.292388809521022\n"
     ]
    },
    {
     "data": {
      "image/png": "[encoded data removed]",
      "text/plain": [
       "<Figure size 432x288 with 1 Axes>"
      ]
     },
     "metadata": {
      "needs_background": "light"
     },
     "output_type": "display_data"
    }
   ],
   "source": [
    "# Function\n",
    "y = x**4\n",
    "# First derivative with respect to x\n",
    "yprime = y.diff(x)\n",
    "\n",
    "\n",
    "# Initial sequence\n",
    "theta = 2\n",
    "theta2 = 0\n",
    "\n",
    "# Initiale the step size\n",
    "alpha = .0001\n",
    "\n",
    "iterations = 0\n",
    "check = 0\n",
    "precision = 1/100000\n",
    "iterationsMax = 100000\n",
    "\n",
    "while True:\n",
    "    theta2 = theta - alpha*yprime.evalf(subs={x:theta})\n",
    "    iterations += 1\n",
    "    \n",
    "    # If we make too much iterations our program\n",
    "    # stops and we need to check it to be sure the\n",
    "    # parameters are correct and it is working properly\n",
    "    if iterations > iterationsMax:\n",
    "        print(\"Too many iterations\")\n",
    "        break\n",
    "        \n",
    "    if abs(theta - theta2) < precision:\n",
    "        break\n",
    "    \n",
    "    theta = theta2\n",
    "\n",
    "\n",
    "print(\"Number of iterations:\",iterations,\"value of theta:\",theta2,sep=\" \")\n",
    "plt.plot(theta,y.evalf(subs={x:theta}),marker='o',color='r')\n",
    "space = np.linspace(-5,5,100)\n",
    "data = np.array([y.evalf(subs={x: value}) for value in space])\n",
    "plt.plot(space, data)\n",
    "plt.show()"
   ]
  },
  {
   "cell_type": "markdown",
   "metadata": {},
   "source": [
    "1. Make a 2 by 2 matrix of second partial derivatives (Hessian)\n",
    "2. Adapt the program for a function of 2 variables. Precision?"
   ]
  },
  {
   "cell_type": "code",
   "execution_count": 49,
   "metadata": {},
   "outputs": [
    {
     "name": "stdout",
     "output_type": "stream",
     "text": [
      "[[2 0]\n",
      " [0 2]]\n",
      "The determinant is 4\n",
      "The matrix positive semidefinite!\n"
     ]
    }
   ],
   "source": [
    "x,y = symbols('x y')\n",
    "#function\n",
    "z = x**2 + y**2\n",
    "\n",
    "# Hessian\n",
    "f11 = z.diff(x).diff(x)\n",
    "f12 = z.diff(x).diff(y)\n",
    "f21 = z.diff(y).diff(x)\n",
    "f22 = z.diff(y).diff(y)\n",
    "hessian = np.array([[f11, f12], [f21, f22]])\n",
    "H = sympy.Matrix(hessian)\n",
    "det = H.det()\n",
    "print(hessian)\n",
    "print('The determinant is', det)\n",
    "\n",
    "if det >= 0:\n",
    "    print('The matrix positive semidefinite!')\n",
    "else:\n",
    "    print('The matrix is not positive semidefinite!')\n",
    "#det = f11 * f22 - f12 * f21"
   ]
  },
  {
   "cell_type": "code",
   "execution_count": 16,
   "metadata": {},
   "outputs": [
    {
     "name": "stdout",
     "output_type": "stream",
     "text": [
      "Number of iterations: 20177 value of theta: 0.0353429474378087 0.0353429474378087\n"
     ]
    }
   ],
   "source": [
    "# Function\n",
    "z = x**2 + y**2 + 1\n",
    "\n",
    "zprimex = z.diff(x)\n",
    "zprimey = z.diff(y)\n",
    "\n",
    "# Initial sequence\n",
    "thetaX = 2\n",
    "thetaY = 2\n",
    "\n",
    "theta2X = 0\n",
    "theta2Y = 0\n",
    "\n",
    "# Initiale the step size\n",
    "alpha = .0001\n",
    "\n",
    "iterations = 0\n",
    "check = 0\n",
    "precision = 1/100000\n",
    "iterationsMax = 100000\n",
    "\n",
    "while True:\n",
    "    theta2X = thetaX - alpha*zprimex.evalf(subs={x:thetaX, y:thetaY})\n",
    "    theta2Y = thetaY - alpha*zprimey.evalf(subs={x:thetaX, y:thetaY})\n",
    "    \n",
    "    \n",
    "    iterations += 1\n",
    "    \n",
    "    # If we make too much iterations our program\n",
    "    # stops and we need to check it to be sure the\n",
    "    # parameters are correct and it is working properly\n",
    "    if iterations > iterationsMax:\n",
    "        print(\"Too many iterations\")\n",
    "        break\n",
    "        \n",
    "    if ((thetaX - theta2X)**2 + (thetaY - theta2Y)**2) < precision**2:\n",
    "        break\n",
    "    \n",
    "    thetaX = theta2X\n",
    "    thetaY = theta2Y\n",
    "\n",
    "\n",
    "print(\"Number of iterations:\",iterations,\"value of theta:\", theta2X, theta2Y,sep=\" \")\n",
    "#plt.plot(theta,y.evalf(subs={x:theta}),marker='o',color='r')\n",
    "#space = np.linspace(-5,5,100)\n",
    "#data = np.array([y.evalf(subs={x: value}) for value in space])\n",
    "#plt.plot(space, data)\n",
    "#plt.show()"
   ]
  },
  {
   "cell_type": "code",
   "execution_count": 33,
   "metadata": {},
   "outputs": [
    {
     "name": "stdout",
     "output_type": "stream",
     "text": [
      "Too many iterations\n",
      "Number of iterations: 100001 value of theta: 13.6925203998118 -8.48404427992362\n"
     ]
    }
   ],
   "source": [
    "# Crazy Function\n",
    "z = log(1-y**2 + x**4)\n",
    "\n",
    "zprimex = z.diff(x)\n",
    "zprimey = z.diff(y)\n",
    "\n",
    "# Initial sequence\n",
    "thetaX = 2\n",
    "thetaY = 2\n",
    "\n",
    "theta2X = 0\n",
    "theta2Y = 0\n",
    "\n",
    "# Initiale the step size\n",
    "alpha = .0001\n",
    "\n",
    "iterations = 0\n",
    "check = 0\n",
    "precision = 1/100000\n",
    "iterationsMax = 100000\n",
    "\n",
    "while True:\n",
    "    theta2X = thetaX - alpha*zprimex.evalf(subs={x:thetaX, y:thetaY})\n",
    "    theta2Y = thetaY - alpha*zprimey.evalf(subs={x:thetaX, y:thetaY})\n",
    "    \n",
    "    \n",
    "    iterations += 1\n",
    "    \n",
    "    # If we make too much iterations our program\n",
    "    # stops and we need to check it to be sure the\n",
    "    # parameters are correct and it is working properly\n",
    "    if iterations > iterationsMax:\n",
    "        print(\"Too many iterations\")\n",
    "        break\n",
    "        \n",
    "    if ((thetaX - theta2X)**2 + (thetaY - theta2Y)**2) < precision**2:\n",
    "        break\n",
    "    \n",
    "    thetaX = theta2X\n",
    "    thetaY = theta2Y\n",
    "\n",
    "\n",
    "print(\"Number of iterations:\",iterations,\"value of theta:\", theta2X, theta2Y,sep=\" \")\n",
    "#plt.plot(theta,y.evalf(subs={x:theta}),marker='o',color='r')\n",
    "#space = np.linspace(-5,5,100)\n",
    "#data = np.array([y.evalf(subs={x: value}) for value in space])\n",
    "#plt.plot(space, data)\n",
    "#plt.show()"
   ]
  },
  {
   "cell_type": "code",
   "execution_count": 31,
   "metadata": {},
   "outputs": [
    {
     "data": {
      "text/plain": [
       "-2.0000000000000004"
      ]
     },
     "execution_count": 31,
     "metadata": {},
     "output_type": "execute_result"
    }
   ],
   "source": []
  },
  {
   "cell_type": "code",
   "execution_count": null,
   "metadata": {},
   "outputs": [],
   "source": []
  }
 ],
 "metadata": {
  "kernelspec": {
   "display_name": "Python 3",
   "language": "python",
   "name": "python3"
  },
  "language_info": {
   "codemirror_mode": {
    "name": "ipython",
    "version": 3
   },
   "file_extension": ".py",
   "mimetype": "text/x-python",
   "name": "python",
   "nbconvert_exporter": "python",
   "pygments_lexer": "ipython3",
   "version": "3.6.6"
  }
 },
 "nbformat": 4,
 "nbformat_minor": 2
}
