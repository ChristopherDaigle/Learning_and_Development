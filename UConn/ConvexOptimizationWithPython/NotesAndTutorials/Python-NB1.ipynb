{
 "cells": [
  {
   "cell_type": "markdown",
   "metadata": {},
   "source": [
    "# THIS JUPYTER NOTEBOOK PRESENTS SOME BASIC COMMANDS IN PYTHON"
   ]
  },
  {
   "cell_type": "markdown",
   "metadata": {},
   "source": [
    "# 1. USER INPUT (Make it look easy to use)"
   ]
  },
  {
   "cell_type": "markdown",
   "metadata": {},
   "source": [
    "# 1.1 Basic input"
   ]
  },
  {
   "cell_type": "code",
   "execution_count": null,
   "metadata": {
    "scrolled": false
   },
   "outputs": [],
   "source": [
    "# Lines starting with \"#\" are comments and therefore not executable\n",
    "x = input()\n",
    "y = 13\n",
    "x, y"
   ]
  },
  {
   "cell_type": "markdown",
   "metadata": {},
   "source": [
    "So it appears that the variable x (think of it as a box with name x) contains string. If we want x to be filled up with float, we have to change its type."
   ]
  },
  {
   "cell_type": "code",
   "execution_count": null,
   "metadata": {
    "scrolled": false
   },
   "outputs": [],
   "source": [
    "x = input()\n",
    "x = float(x)\n",
    "x"
   ]
  },
  {
   "cell_type": "markdown",
   "metadata": {},
   "source": [
    "# 2. STRINGS AND STRING MANIPULATIONS\n",
    "As we have seen before The + operator is the only one that works on string, and results in the concatenation of two strings."
   ]
  },
  {
   "cell_type": "code",
   "execution_count": null,
   "metadata": {},
   "outputs": [],
   "source": [
    "x = input('What is you name? ')\n",
    "message = 'Hello ' + x +', how are you?'\n",
    "print(message)\n"
   ]
  },
  {
   "cell_type": "markdown",
   "metadata": {},
   "source": [
    "IF STATEMENT. An if statement involves testing whether a statement is true, in which case the next statement is executed and the if is then terminated. If not the next statement is skipped.\n",
    "The example below uses an if statement and tests whether a number is less or equal to 10 or not, and print the finding."
   ]
  },
  {
   "cell_type": "code",
   "execution_count": null,
   "metadata": {
    "scrolled": true
   },
   "outputs": [],
   "source": [
    "x = float(input())\n",
    "if x <= 10:\n",
    "    print(str(x) + ' is less or equal than 10')\n",
    "else:\n",
    "    print(str(x) + ' is greater than 10')"
   ]
  },
  {
   "cell_type": "markdown",
   "metadata": {},
   "source": [
    "    EXERCISE\n",
    "Suppose the number 13 is entered. We want the following message:\n",
    "    'The number you entered, 13, is greater than 10'\n",
    "and a similar message if the number is less or equal than 10."
   ]
  },
  {
   "cell_type": "markdown",
   "metadata": {},
   "source": [
    "# 1.2 Invalid input"
   ]
  },
  {
   "cell_type": "code",
   "execution_count": null,
   "metadata": {
    "scrolled": true
   },
   "outputs": [],
   "source": [
    "try:\n",
    "    x = float(input('Enter a number: '))\n",
    "except ValueError:\n",
    "    print('You did not enter a number!')"
   ]
  },
  {
   "cell_type": "markdown",
   "metadata": {},
   "source": [
    "    EXERCISE. Write a program that:\n",
    "1. Asks you for your name, and\n",
    "2. Asks you how many classes you are taking, and\n",
    "3. Spills out the statement \" Natacha is taking 4 classes this semester\""
   ]
  },
  {
   "cell_type": "markdown",
   "metadata": {},
   "source": [
    "# 3. LISTS AND LISTS MANIPULATIONS\n",
    "Definition: A list is a collection of items in a particular order."
   ]
  },
  {
   "cell_type": "code",
   "execution_count": null,
   "metadata": {
    "scrolled": true
   },
   "outputs": [],
   "source": [
    "cars = ['Honda', 'Toyota', 'Ford', 'Nissan', 'Bimmer', 'Chevy', 'VW']\n",
    "print(cars)  ## will print the list itself"
   ]
  },
  {
   "cell_type": "code",
   "execution_count": null,
   "metadata": {
    "scrolled": true
   },
   "outputs": [],
   "source": [
    "## To print the elements of a list one after another:\n",
    "for car in cars:\n",
    "    print(car + \" is a car company\")"
   ]
  },
  {
   "cell_type": "markdown",
   "metadata": {},
   "source": [
    "    EXERCISE\n",
    "Make a list of all you classes this semester. Call it Myclasses."
   ]
  },
  {
   "cell_type": "markdown",
   "metadata": {},
   "source": [
    "# 3.1 Accessing elements of a list\n",
    "Note: len(cars) gives the length of the 'cars' list"
   ]
  },
  {
   "cell_type": "code",
   "execution_count": null,
   "metadata": {
    "scrolled": false
   },
   "outputs": [],
   "source": [
    "cars[0] ## gives out the first element of the 'cars' list"
   ]
  },
  {
   "cell_type": "markdown",
   "metadata": {},
   "source": [
    "So, obviously the last element of the 'cars' list is cars[6] since there are 7 elements\n",
    "Another way to call the last element of a list is cars[-1]"
   ]
  },
  {
   "cell_type": "code",
   "execution_count": null,
   "metadata": {},
   "outputs": [],
   "source": [
    "message = 'My first car was a ' + cars[-1] + '.'\n",
    "print(message)"
   ]
  },
  {
   "cell_type": "markdown",
   "metadata": {},
   "source": [
    "# 3.2 Adding and removing elements, slicing a list\n",
    "\n",
    "    a) Add an element to a list (at the end of the list) by using the append() command to that list, where the argument is 'object name'.\n",
    "    b) To add an element at a particular position, use the insert() command where the arguments are (position, 'object name')\n",
    "    c) Remove an element by delete it: del cars[0] will remove the first element of the cars list.\n",
    "    d) The pop() command also removes elements"
   ]
  },
  {
   "cell_type": "code",
   "execution_count": null,
   "metadata": {
    "scrolled": true
   },
   "outputs": [],
   "source": [
    "special = cars.pop(-1)\n",
    "print(cars)"
   ]
  },
  {
   "cell_type": "markdown",
   "metadata": {},
   "source": [
    "So the pop() command applied to the cars list removes an element while at the same time enabling you to work with it "
   ]
  },
  {
   "cell_type": "markdown",
   "metadata": {},
   "source": [
    "The command cars[a:b] slices the \"cars' list and extract a sublist of all the elements from position a+1 to b (remember that the first element of a list has position 0)"
   ]
  },
  {
   "cell_type": "markdown",
   "metadata": {},
   "source": [
    "    EXERCISE\n",
    "1. Produce the list of the third and fourth cars by slicing."
   ]
  },
  {
   "cell_type": "code",
   "execution_count": null,
   "metadata": {
    "scrolled": false
   },
   "outputs": [],
   "source": [
    "cars[2:4]"
   ]
  },
  {
   "cell_type": "markdown",
   "metadata": {},
   "source": [
    "# 3.3 Making a numerical list\n",
    "1. You can use the range() command to generate a sequence of numbers. Specifically range(a,b,c) tells Python to start with integer number a, then add integer c repeadedly but staying strictly less than integer b\n",
    "2. range(a,b,1) = range(a,b).\n",
    "3. range(b) generates numbers from 0 to b-1."
   ]
  },
  {
   "cell_type": "code",
   "execution_count": null,
   "metadata": {
    "scrolled": false
   },
   "outputs": [],
   "source": [
    "for i in range(1,12,2):\n",
    "    print(i)"
   ]
  },
  {
   "cell_type": "code",
   "execution_count": null,
   "metadata": {
    "scrolled": false
   },
   "outputs": [],
   "source": [
    "for j in range(6):\n",
    "    print(j, '\\t', 2**j) # the string '\\t' is equivalent to tab ('\\n' is new line)"
   ]
  },
  {
   "cell_type": "code",
   "execution_count": null,
   "metadata": {},
   "outputs": [],
   "source": [
    "## Let's use this technique to make a list\n",
    "mylist1 = []  ## First we initialize the list (with nothing inside, mylist is now an empty box)\n",
    "for i in range(1,11):  # Remember that range(a,b) stops just before b\n",
    "    square = i**2\n",
    "    mylist1.append(square)\n",
    "print(mylist1)"
   ]
  },
  {
   "cell_type": "code",
   "execution_count": null,
   "metadata": {},
   "outputs": [],
   "source": [
    "## A more economical way is to combine the for loop and the automatic appending \n",
    "## of the new elements created (it is called a list comprehension)\n",
    "mylist2 = [i**2 for i in range(1,11)]\n",
    "print(mylist2)"
   ]
  },
  {
   "cell_type": "markdown",
   "metadata": {},
   "source": [
    "    EXERCISES\n",
    "1. Make a list of the multiples of 3 from 3 to 30.\n",
    "2. Use a list comprehension to generate a list of the first 10 cubes."
   ]
  },
  {
   "cell_type": "code",
   "execution_count": null,
   "metadata": {
    "scrolled": false
   },
   "outputs": [],
   "source": [
    "# Multiplication table   \n",
    "a = int(input('Enter an integer less than: '))\n",
    "for i in range(1,11):\n",
    "    print('{0} x {1} = {2}'.format(a, i, a*i)) # Labels and their format\n",
    "        "
   ]
  },
  {
   "cell_type": "markdown",
   "metadata": {},
   "source": [
    "    EXERCISE\n",
    "1. Give the user of the multiplication table the power to choose how many multiples are printed."
   ]
  },
  {
   "cell_type": "markdown",
   "metadata": {},
   "source": [
    "# 4. PAIRED DATA\n",
    "Here is a more advanced way of representing data: We make a list of tuples (a tuple is (almost) just like a list, but you use parentheses instead of square brackets)"
   ]
  },
  {
   "cell_type": "code",
   "execution_count": null,
   "metadata": {},
   "outputs": [],
   "source": [
    "Numberofcars = [('Honda', 25), ('Nissan', 37), ('Ford', 13), ('Bimmer',22),('Chevy',18)]\n",
    "len(Numberofcars)"
   ]
  },
  {
   "cell_type": "code",
   "execution_count": null,
   "metadata": {
    "scrolled": true
   },
   "outputs": [],
   "source": [
    "# Now we print the types of cars that are fewer than 20\n",
    "for name, number in Numberofcars:\n",
    "    if number < 20:\n",
    "        print(name)"
   ]
  },
  {
   "cell_type": "markdown",
   "metadata": {},
   "source": [
    "    EXERCISE\n",
    "As a class, we create a list of tuples of the form (name, subjects) where subject is a list\n",
    "that is students = [ ('John',['Micro','Macro','Photo'])]"
   ]
  },
  {
   "cell_type": "code",
   "execution_count": null,
   "metadata": {},
   "outputs": [],
   "source": [
    "# Count how many studnts are taking Photo\n",
    "counter = 0\n",
    "for name, subjects in students:\n",
    "    for s in subjects:\n",
    "        if s == 'Photo':\n",
    "            counter += 1\n",
    "            \n",
    "print('The number of students taking Photo is ', counter)"
   ]
  },
  {
   "cell_type": "markdown",
   "metadata": {},
   "source": [
    "# 5. IF STATEMENTS"
   ]
  },
  {
   "cell_type": "code",
   "execution_count": null,
   "metadata": {},
   "outputs": [],
   "source": [
    "# Let's test whether an integer number is odd or even, and print the result of our findings\n",
    "x = int(input('Enter an integer: '))\n",
    "if x % 2 == 1:\n",
    "    print('You number, '+ str(x) + ', is odd!')\n",
    "else:\n",
    "    print('Your number, ' + str(x) + ', is even!')\n",
    "\n",
    "# Now we print the number and 5 successive numbers\n",
    "for i in range(x,x+6):\n",
    "    print(i)"
   ]
  },
  {
   "cell_type": "code",
   "execution_count": null,
   "metadata": {},
   "outputs": [],
   "source": [
    "# Let's test whether a float number is greater than, less than, or equal to 10\n",
    "x = float(input('Enter any number: '))\n",
    "if x > 10:\n",
    "    print('greater than 10')\n",
    "elif x < 10:\n",
    "    print('less than 10')\n",
    "else:\n",
    "    print('equal to 10')"
   ]
  },
  {
   "cell_type": "code",
   "execution_count": null,
   "metadata": {},
   "outputs": [],
   "source": [
    "# We cam compicate a little bit the condisions\n",
    "x = float(input('Enter any number: '))\n",
    "if x > 10:\n",
    "    print('greater than 10')\n",
    "elif x < 10 and x >= 0:\n",
    "    print('less than 10, but positive')\n",
    "elif x < 10 and x < 0:\n",
    "    print('negative, and obviously less than 10')\n",
    "else:\n",
    "    print('equal to 10')"
   ]
  },
  {
   "cell_type": "code",
   "execution_count": null,
   "metadata": {},
   "outputs": [],
   "source": [
    "# There generally multiple ways to get the same output\n",
    "# Here we nest the conditionals\n",
    "x = float(input('Enter any number: '))\n",
    "if x > 10:\n",
    "    print('greater than 10')\n",
    "else:\n",
    "    if x == 10:\n",
    "        print('equal to 10')\n",
    "    elif x >= 0:\n",
    "        print('less than 10, but positive')\n",
    "    else:\n",
    "        print('negative, and obviously less than 10')"
   ]
  },
  {
   "cell_type": "markdown",
   "metadata": {},
   "source": [
    "    EXERCISE\n",
    "Use the students list of paired data to "
   ]
  },
  {
   "cell_type": "code",
   "execution_count": 1,
   "metadata": {},
   "outputs": [
    {
     "name": "stdout",
     "output_type": "stream",
     "text": [
      "21\n"
     ]
    }
   ],
   "source": [
    "n = 6\n",
    "current_sum = 0\n",
    "\n",
    "for i in range(1, n+1):\n",
    "    current_sum += i  # instruction to add i to the existing current sum\n",
    "print(current_sum)\n"
   ]
  },
  {
   "cell_type": "markdown",
   "metadata": {},
   "source": [
    "    EXERCISE\n",
    "Make this program also compute the factorial of the number."
   ]
  },
  {
   "cell_type": "markdown",
   "metadata": {},
   "source": [
    "# 6. WHILE STATEMENTS"
   ]
  },
  {
   "cell_type": "markdown",
   "metadata": {},
   "source": [
    "An algorithm to find the square root of a number n is:\n",
    "        new_approximation = .5(approximation + n/approximation)\n",
    "1. We implement that algorithm with a while loop.\n",
    "2. The loop will be exited (with a 'break' command) when the difference between 2 successive approximations is less than .0001"
   ]
  },
  {
   "cell_type": "code",
   "execution_count": null,
   "metadata": {},
   "outputs": [],
   "source": [
    "n = int(input('Enter an integer: '))\n",
    "app = n/2 # our starting guess\n",
    "counter = 0 # initializes a counter\n",
    "\n",
    "while True: # True is always true so this loop is always running (except for the break)\n",
    "    new_app = (app + n/app)/2\n",
    "    counter += 1 # increase the counter every new iteration\n",
    "    \n",
    "    if abs(app - new_app) < 0.0001: # condition comparing distance bewteen two successive approximation\n",
    "        print('The square root of ' + str(n) + ' is approximatively '+ str(new_app))\n",
    "        print(counter)\n",
    "        break # Exit the loop when condition is met\n",
    "        \n",
    "    app = new_app # Update the approximation when condition in not met\n",
    "    "
   ]
  },
  {
   "cell_type": "code",
   "execution_count": null,
   "metadata": {
    "scrolled": true
   },
   "outputs": [],
   "source": [
    "# The square root operator (sqrt) is in a special Python module (math) which you have to import\n",
    "# before you can use it\n",
    "import math\n",
    "math.sqrt(39)"
   ]
  },
  {
   "cell_type": "markdown",
   "metadata": {},
   "source": [
    "Python modules are easily accessible python programs that help you accomplish specific tasks tasks, for instance multiplying matrices, graphing some equations,..."
   ]
  },
  {
   "cell_type": "code",
   "execution_count": 1,
   "metadata": {},
   "outputs": [
    {
     "name": "stdout",
     "output_type": "stream",
     "text": [
      "Enter an integer less than 10: 9\n",
      "9 x 1 = 9\n",
      "9 x 2 = 18\n",
      "9 x 3 = 27\n",
      "9 x 4 = 36\n",
      "9 x 5 = 45\n",
      "9 x 6 = 54\n",
      "9 x 7 = 63\n",
      "9 x 8 = 72\n",
      "9 x 9 = 81\n",
      "9 x 10 = 90\n",
      "Do you want to exist? (y) for yes y\n"
     ]
    }
   ],
   "source": [
    "while True:\n",
    "    \n",
    "    a = int(input('Enter an integer less than 10: '))\n",
    "    for i in range(1,11):\n",
    "        print('{0} x {1} = {2}'.format(a, i, a*i)) # Labels and their format\n",
    "        \n",
    "    answer = input('Do you want to exist? (y) for yes ')\n",
    "    if answer == 'y':\n",
    "        break"
   ]
  },
  {
   "cell_type": "markdown",
   "metadata": {},
   "source": [
    "    EXERCISES\n",
    "1. Give the user power to decide how many multiples are printed\n",
    "2. Use a while loop with a break when the user enter a proper input in the program below. If not proper input is entered, then prompt the user again.\n",
    "try:\n",
    "    x = float(input('Enter a number: '))\n",
    "except ValueError:\n",
    "    print('You did not enter a number!')\n"
   ]
  }
 ],
 "metadata": {
  "kernelspec": {
   "display_name": "Python 3",
   "language": "python",
   "name": "python3"
  },
  "language_info": {
   "codemirror_mode": {
    "name": "ipython",
    "version": 3
   },
   "file_extension": ".py",
   "mimetype": "text/x-python",
   "name": "python",
   "nbconvert_exporter": "python",
   "pygments_lexer": "ipython3",
   "version": "3.6.5"
  }
 },
 "nbformat": 4,
 "nbformat_minor": 2
}
