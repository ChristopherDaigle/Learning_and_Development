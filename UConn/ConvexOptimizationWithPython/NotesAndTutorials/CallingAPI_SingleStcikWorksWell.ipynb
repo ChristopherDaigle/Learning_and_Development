{
 "cells": [
  {
   "cell_type": "markdown",
   "metadata": {},
   "source": [
    "# First we get write the data (which is in a csv file) into a DataFrame (the main Pandas object)\n",
    "\n",
    "# In the csv file, data are spearated by ',' and Python knows how to read these csv files"
   ]
  },
  {
   "cell_type": "code",
   "execution_count": 7,
   "metadata": {},
   "outputs": [],
   "source": [
    "import pandas as pd\n",
    "import matplotlib.pyplot as plt\n",
    "\n",
    "dffinal = pd.read_csv('Stocks-closeP.csv')"
   ]
  },
  {
   "cell_type": "code",
   "execution_count": 2,
   "metadata": {},
   "outputs": [
    {
     "data": {
      "text/plain": [
       "Index(['timestamp', 'AAPL_close', 'AMZN_close', 'XOM_close', 'TSLA_close',\n",
       "       'GOOGL_close', 'JPM_close'],\n",
       "      dtype='object')"
      ]
     },
     "execution_count": 2,
     "metadata": {},
     "output_type": "execute_result"
    }
   ],
   "source": [
    "dffinal.columns"
   ]
  },
  {
   "cell_type": "code",
   "execution_count": 3,
   "metadata": {},
   "outputs": [
    {
     "data": {
      "text/html": [
       "<div>\n",
       "<style scoped>\n",
       "    .dataframe tbody tr th:only-of-type {\n",
       "        vertical-align: middle;\n",
       "    }\n",
       "\n",
       "    .dataframe tbody tr th {\n",
       "        vertical-align: top;\n",
       "    }\n",
       "\n",
       "    .dataframe thead th {\n",
       "        text-align: right;\n",
       "    }\n",
       "</style>\n",
       "<table border=\"1\" class=\"dataframe\">\n",
       "  <thead>\n",
       "    <tr style=\"text-align: right;\">\n",
       "      <th></th>\n",
       "      <th>timestamp</th>\n",
       "      <th>AAPL_close</th>\n",
       "      <th>AMZN_close</th>\n",
       "      <th>XOM_close</th>\n",
       "      <th>TSLA_close</th>\n",
       "      <th>GOOGL_close</th>\n",
       "      <th>JPM_close</th>\n",
       "    </tr>\n",
       "  </thead>\n",
       "  <tbody>\n",
       "    <tr>\n",
       "      <th>0</th>\n",
       "      <td>2018-09-10</td>\n",
       "      <td>218.33</td>\n",
       "      <td>1939.01</td>\n",
       "      <td>81.725</td>\n",
       "      <td>285.50</td>\n",
       "      <td>1175.06</td>\n",
       "      <td>113.72</td>\n",
       "    </tr>\n",
       "    <tr>\n",
       "      <th>1</th>\n",
       "      <td>2018-09-07</td>\n",
       "      <td>221.30</td>\n",
       "      <td>1952.07</td>\n",
       "      <td>81.830</td>\n",
       "      <td>263.24</td>\n",
       "      <td>1177.59</td>\n",
       "      <td>114.32</td>\n",
       "    </tr>\n",
       "    <tr>\n",
       "      <th>2</th>\n",
       "      <td>2018-09-06</td>\n",
       "      <td>223.10</td>\n",
       "      <td>1958.31</td>\n",
       "      <td>80.460</td>\n",
       "      <td>280.95</td>\n",
       "      <td>1183.99</td>\n",
       "      <td>114.10</td>\n",
       "    </tr>\n",
       "    <tr>\n",
       "      <th>3</th>\n",
       "      <td>2018-09-05</td>\n",
       "      <td>226.87</td>\n",
       "      <td>1994.82</td>\n",
       "      <td>81.360</td>\n",
       "      <td>280.74</td>\n",
       "      <td>1199.10</td>\n",
       "      <td>114.59</td>\n",
       "    </tr>\n",
       "    <tr>\n",
       "      <th>4</th>\n",
       "      <td>2018-09-04</td>\n",
       "      <td>228.36</td>\n",
       "      <td>2039.51</td>\n",
       "      <td>80.290</td>\n",
       "      <td>288.95</td>\n",
       "      <td>1211.31</td>\n",
       "      <td>115.15</td>\n",
       "    </tr>\n",
       "  </tbody>\n",
       "</table>\n",
       "</div>"
      ],
      "text/plain": [
       "    timestamp  AAPL_close  AMZN_close  XOM_close  TSLA_close  GOOGL_close  \\\n",
       "0  2018-09-10      218.33     1939.01     81.725      285.50      1175.06   \n",
       "1  2018-09-07      221.30     1952.07     81.830      263.24      1177.59   \n",
       "2  2018-09-06      223.10     1958.31     80.460      280.95      1183.99   \n",
       "3  2018-09-05      226.87     1994.82     81.360      280.74      1199.10   \n",
       "4  2018-09-04      228.36     2039.51     80.290      288.95      1211.31   \n",
       "\n",
       "   JPM_close  \n",
       "0     113.72  \n",
       "1     114.32  \n",
       "2     114.10  \n",
       "3     114.59  \n",
       "4     115.15  "
      ]
     },
     "execution_count": 3,
     "metadata": {},
     "output_type": "execute_result"
    }
   ],
   "source": [
    "dffinal.head()"
   ]
  },
  {
   "cell_type": "code",
   "execution_count": 4,
   "metadata": {},
   "outputs": [
    {
     "data": {
      "text/plain": [
       "0     218.33\n",
       "1     221.30\n",
       "2     223.10\n",
       "3     226.87\n",
       "4     228.36\n",
       "5     227.63\n",
       "6     225.03\n",
       "7     222.98\n",
       "8     219.70\n",
       "9     217.94\n",
       "10    216.16\n",
       "11    215.49\n",
       "12    215.05\n",
       "13    215.04\n",
       "14    215.46\n",
       "15    217.58\n",
       "16    213.32\n",
       "17    210.24\n",
       "18    209.75\n",
       "19    208.87\n",
       "20    207.53\n",
       "21    208.88\n",
       "22    207.25\n",
       "23    207.11\n",
       "24    209.07\n",
       "25    207.99\n",
       "26    207.39\n",
       "27    201.50\n",
       "28    190.29\n",
       "29    189.91\n",
       "       ...  \n",
       "70    186.87\n",
       "71    187.50\n",
       "72    187.90\n",
       "73    188.58\n",
       "74    188.15\n",
       "75    188.36\n",
       "76    187.16\n",
       "77    187.63\n",
       "78    186.31\n",
       "79    186.99\n",
       "80    188.18\n",
       "81    186.44\n",
       "82    188.15\n",
       "83    188.59\n",
       "84    190.04\n",
       "85    187.36\n",
       "86    186.05\n",
       "87    185.16\n",
       "88    183.83\n",
       "89    176.89\n",
       "90    176.57\n",
       "91    169.10\n",
       "92    165.26\n",
       "93    162.32\n",
       "94    164.22\n",
       "95    163.65\n",
       "96    162.94\n",
       "97    165.24\n",
       "98    165.72\n",
       "99    172.80\n",
       "Name: AAPL_close, Length: 100, dtype: float64"
      ]
     },
     "execution_count": 4,
     "metadata": {},
     "output_type": "execute_result"
    }
   ],
   "source": [
    "dffinal.AAPL_close"
   ]
  },
  {
   "cell_type": "code",
   "execution_count": 6,
   "metadata": {},
   "outputs": [
    {
     "data": {
      "text/html": [
       "<div>\n",
       "<style scoped>\n",
       "    .dataframe tbody tr th:only-of-type {\n",
       "        vertical-align: middle;\n",
       "    }\n",
       "\n",
       "    .dataframe tbody tr th {\n",
       "        vertical-align: top;\n",
       "    }\n",
       "\n",
       "    .dataframe thead th {\n",
       "        text-align: right;\n",
       "    }\n",
       "</style>\n",
       "<table border=\"1\" class=\"dataframe\">\n",
       "  <thead>\n",
       "    <tr style=\"text-align: right;\">\n",
       "      <th></th>\n",
       "      <th>timestamp</th>\n",
       "      <th>AAPL_close</th>\n",
       "      <th>AMZN_close</th>\n",
       "    </tr>\n",
       "  </thead>\n",
       "  <tbody>\n",
       "    <tr>\n",
       "      <th>0</th>\n",
       "      <td>2018-09-10</td>\n",
       "      <td>218.33</td>\n",
       "      <td>1939.01</td>\n",
       "    </tr>\n",
       "    <tr>\n",
       "      <th>1</th>\n",
       "      <td>2018-09-07</td>\n",
       "      <td>221.30</td>\n",
       "      <td>1952.07</td>\n",
       "    </tr>\n",
       "    <tr>\n",
       "      <th>2</th>\n",
       "      <td>2018-09-06</td>\n",
       "      <td>223.10</td>\n",
       "      <td>1958.31</td>\n",
       "    </tr>\n",
       "    <tr>\n",
       "      <th>3</th>\n",
       "      <td>2018-09-05</td>\n",
       "      <td>226.87</td>\n",
       "      <td>1994.82</td>\n",
       "    </tr>\n",
       "    <tr>\n",
       "      <th>4</th>\n",
       "      <td>2018-09-04</td>\n",
       "      <td>228.36</td>\n",
       "      <td>2039.51</td>\n",
       "    </tr>\n",
       "  </tbody>\n",
       "</table>\n",
       "</div>"
      ],
      "text/plain": [
       "    timestamp  AAPL_close  AMZN_close\n",
       "0  2018-09-10      218.33     1939.01\n",
       "1  2018-09-07      221.30     1952.07\n",
       "2  2018-09-06      223.10     1958.31\n",
       "3  2018-09-05      226.87     1994.82\n",
       "4  2018-09-04      228.36     2039.51"
      ]
     },
     "execution_count": 6,
     "metadata": {},
     "output_type": "execute_result"
    }
   ],
   "source": [
    "dffinal.iloc[:,[0,1,2]].head()"
   ]
  },
  {
   "cell_type": "code",
   "execution_count": 9,
   "metadata": {},
   "outputs": [
    {
     "data": {
      "text/plain": [
       "<matplotlib.axes._subplots.AxesSubplot at 0x107a29278>"
      ]
     },
     "execution_count": 9,
     "metadata": {},
     "output_type": "execute_result"
    },
    {
     "data": {
      "text/plain": [
       "<Figure size 432x288 with 0 Axes>"
      ]
     },
     "metadata": {},
     "output_type": "display_data"
    },
    {
     "data": {
      "image/png": "[encoded data removed]",
      "text/plain": [
       "<Figure size 432x288 with 1 Axes>"
      ]
     },
     "metadata": {},
     "output_type": "display_data"
    }
   ],
   "source": [
    "plt.figure()\n",
    "dffinal.plot()"
   ]
  },
  {
   "cell_type": "markdown",
   "metadata": {},
   "source": [
    "## Compute and visualize growth reates of prices (from one dat to the next)"
   ]
  },
  {
   "cell_type": "code",
   "execution_count": 12,
   "metadata": {},
   "outputs": [
    {
     "data": {
      "text/html": [
       "<div>\n",
       "<style scoped>\n",
       "    .dataframe tbody tr th:only-of-type {\n",
       "        vertical-align: middle;\n",
       "    }\n",
       "\n",
       "    .dataframe tbody tr th {\n",
       "        vertical-align: top;\n",
       "    }\n",
       "\n",
       "    .dataframe thead th {\n",
       "        text-align: right;\n",
       "    }\n",
       "</style>\n",
       "<table border=\"1\" class=\"dataframe\">\n",
       "  <thead>\n",
       "    <tr style=\"text-align: right;\">\n",
       "      <th></th>\n",
       "      <th>AAPL_close</th>\n",
       "    </tr>\n",
       "  </thead>\n",
       "  <tbody>\n",
       "    <tr>\n",
       "      <th>0</th>\n",
       "      <td>NaN</td>\n",
       "    </tr>\n",
       "    <tr>\n",
       "      <th>1</th>\n",
       "      <td>0.013603</td>\n",
       "    </tr>\n",
       "    <tr>\n",
       "      <th>2</th>\n",
       "      <td>0.008134</td>\n",
       "    </tr>\n",
       "    <tr>\n",
       "      <th>3</th>\n",
       "      <td>0.016898</td>\n",
       "    </tr>\n",
       "    <tr>\n",
       "      <th>4</th>\n",
       "      <td>0.006568</td>\n",
       "    </tr>\n",
       "  </tbody>\n",
       "</table>\n",
       "</div>"
      ],
      "text/plain": [
       "   AAPL_close\n",
       "0         NaN\n",
       "1    0.013603\n",
       "2    0.008134\n",
       "3    0.016898\n",
       "4    0.006568"
      ]
     },
     "execution_count": 12,
     "metadata": {},
     "output_type": "execute_result"
    }
   ],
   "source": [
    "stockn = dffinal.iloc[:,[1]]\n",
    "stockn.pct_change().head()"
   ]
  },
  {
   "cell_type": "code",
   "execution_count": 13,
   "metadata": {},
   "outputs": [
    {
     "data": {
      "text/html": [
       "<div>\n",
       "<style scoped>\n",
       "    .dataframe tbody tr th:only-of-type {\n",
       "        vertical-align: middle;\n",
       "    }\n",
       "\n",
       "    .dataframe tbody tr th {\n",
       "        vertical-align: top;\n",
       "    }\n",
       "\n",
       "    .dataframe thead th {\n",
       "        text-align: right;\n",
       "    }\n",
       "</style>\n",
       "<table border=\"1\" class=\"dataframe\">\n",
       "  <thead>\n",
       "    <tr style=\"text-align: right;\">\n",
       "      <th></th>\n",
       "      <th>AAPL_close</th>\n",
       "    </tr>\n",
       "  </thead>\n",
       "  <tbody>\n",
       "    <tr>\n",
       "      <th>count</th>\n",
       "      <td>99.000000</td>\n",
       "    </tr>\n",
       "    <tr>\n",
       "      <th>mean</th>\n",
       "      <td>-0.002278</td>\n",
       "    </tr>\n",
       "    <tr>\n",
       "      <th>std</th>\n",
       "      <td>0.012760</td>\n",
       "    </tr>\n",
       "    <tr>\n",
       "      <th>min</th>\n",
       "      <td>-0.055633</td>\n",
       "    </tr>\n",
       "    <tr>\n",
       "      <th>25%</th>\n",
       "      <td>-0.007758</td>\n",
       "    </tr>\n",
       "    <tr>\n",
       "      <th>50%</th>\n",
       "      <td>-0.001997</td>\n",
       "    </tr>\n",
       "    <tr>\n",
       "      <th>75%</th>\n",
       "      <td>0.003634</td>\n",
       "    </tr>\n",
       "    <tr>\n",
       "      <th>max</th>\n",
       "      <td>0.042723</td>\n",
       "    </tr>\n",
       "  </tbody>\n",
       "</table>\n",
       "</div>"
      ],
      "text/plain": [
       "       AAPL_close\n",
       "count   99.000000\n",
       "mean    -0.002278\n",
       "std      0.012760\n",
       "min     -0.055633\n",
       "25%     -0.007758\n",
       "50%     -0.001997\n",
       "75%      0.003634\n",
       "max      0.042723"
      ]
     },
     "execution_count": 13,
     "metadata": {},
     "output_type": "execute_result"
    }
   ],
   "source": [
    "st = stockn.pct_change()\n",
    "st.describe()"
   ]
  },
  {
   "cell_type": "code",
   "execution_count": null,
   "metadata": {},
   "outputs": [],
   "source": []
  }
 ],
 "metadata": {
  "kernelspec": {
   "display_name": "Python 3",
   "language": "python",
   "name": "python3"
  },
  "language_info": {
   "codemirror_mode": {
    "name": "ipython",
    "version": 3
   },
   "file_extension": ".py",
   "mimetype": "text/x-python",
   "name": "python",
   "nbconvert_exporter": "python",
   "pygments_lexer": "ipython3",
   "version": "3.6.5"
  }
 },
 "nbformat": 4,
 "nbformat_minor": 2
}
