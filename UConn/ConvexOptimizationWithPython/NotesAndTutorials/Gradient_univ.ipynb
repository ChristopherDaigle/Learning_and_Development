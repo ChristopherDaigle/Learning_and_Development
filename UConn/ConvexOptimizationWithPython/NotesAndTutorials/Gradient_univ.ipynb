{
 "cells": [
  {
   "cell_type": "code",
   "execution_count": 2,
   "metadata": {},
   "outputs": [
    {
     "name": "stdout",
     "output_type": "stream",
     "text": [
      "Number of iterations: 2994 value of theta: 0.00498735876263775\n"
     ]
    },
    {
     "data": {
      "image/png": "[encoded data removed]",
      "text/plain": [
       "<Figure size 432x288 with 1 Axes>"
      ]
     },
     "metadata": {
      "needs_background": "light"
     },
     "output_type": "display_data"
    }
   ],
   "source": [
    "from sympy import *\n",
    "import numpy as np\n",
    "from matplotlib import pyplot as plt\n",
    "\n",
    "x = Symbol('x')\n",
    "\n",
    "# Function\n",
    "y = x**2\n",
    "# First derivative with respect to x\n",
    "yprime = y.diff(x)\n",
    "\n",
    "\n",
    "# Initial sequence\n",
    "theta = 2\n",
    "theta2 = 0\n",
    "\n",
    "# Initiale the step size\n",
    "alpha = .001\n",
    "\n",
    "iterations = 0\n",
    "check = 0\n",
    "precision = 1/100000\n",
    "iterationsMax = 100000\n",
    "\n",
    "while True:\n",
    "    theta2 = theta - alpha*yprime.evalf(subs={x:theta})\n",
    "    iterations += 1\n",
    "    \n",
    "    # If we make too much iterations our program\n",
    "    # stops and we need to check it to be sure the\n",
    "    # parameters are correct and it is working properly\n",
    "    if iterations > iterationsMax:\n",
    "        print(\"Too many iterations\")\n",
    "        break\n",
    "        \n",
    "    if abs(theta - theta2) < precision:\n",
    "        break\n",
    "    \n",
    "    theta = theta2\n",
    "\n",
    "\n",
    "print(\"Number of iterations:\",iterations,\"value of theta:\",theta2,sep=\" \")\n",
    "plt.plot(theta,y.evalf(subs={x:theta}),marker='o',color='r')\n",
    "space = np.linspace(-5,5,100)\n",
    "data = np.array([y.evalf(subs={x: value}) for value in space])\n",
    "plt.plot(space, data)\n",
    "plt.show()\n"
   ]
  },
  {
   "cell_type": "code",
   "execution_count": null,
   "metadata": {},
   "outputs": [],
   "source": []
  }
 ],
 "metadata": {
  "kernelspec": {
   "display_name": "Python 3",
   "language": "python",
   "name": "python3"
  },
  "language_info": {
   "codemirror_mode": {
    "name": "ipython",
    "version": 3
   },
   "file_extension": ".py",
   "mimetype": "text/x-python",
   "name": "python",
   "nbconvert_exporter": "python",
   "pygments_lexer": "ipython3",
   "version": "3.6.6"
  }
 },
 "nbformat": 4,
 "nbformat_minor": 2
}
