{
 "cells": [
  {
   "cell_type": "code",
   "execution_count": 1,
   "metadata": {},
   "outputs": [
    {
     "name": "stdout",
     "output_type": "stream",
     "text": [
      "(Local minimum,Number of iterations) = (-4.9999518490318176, 597)\n"
     ]
    }
   ],
   "source": [
    "# Values of parameters\n",
    "x = 3 \n",
    "step = 0.01\n",
    "precision = 0.000001 \n",
    "max_counter = 10000\n",
    "\n",
    "# Initialize variables\n",
    "# Set initial increment very large\n",
    "inc = 1 \n",
    "counter = 2\n",
    "\n",
    "# Formula for the gradient of the objective\n",
    "df = lambda x: 2*(x+5)\n",
    "\n",
    "while inc > precision and counter < max_counter:\n",
    "    New_x = x - step * df(x)\n",
    "    inc = abs(New_x - x)\n",
    "    x = New_x\n",
    "    counter = counter + 1\n",
    "#    print(\"Iteration\", counter, \"\\nX value is\", New_x)\n",
    "print(\"(Local minimum,Number of iterations) =\",(New_x, counter))"
   ]
  },
  {
   "cell_type": "code",
   "execution_count": null,
   "metadata": {},
   "outputs": [],
   "source": []
  }
 ],
 "metadata": {
  "kernelspec": {
   "display_name": "Python 3",
   "language": "python",
   "name": "python3"
  },
  "language_info": {
   "codemirror_mode": {
    "name": "ipython",
    "version": 3
   },
   "file_extension": ".py",
   "mimetype": "text/x-python",
   "name": "python",
   "nbconvert_exporter": "python",
   "pygments_lexer": "ipython3",
   "version": "3.6.6"
  }
 },
 "nbformat": 4,
 "nbformat_minor": 2
}
